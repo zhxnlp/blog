{
 "cells": [
  {
   "cell_type": "code",
   "execution_count": null,
   "metadata": {},
   "outputs": [],
   "source": [
    "# 图片预处理, \n",
    "# 透视变换, 视角拉正.\n",
    "# tesseract进行识别."
   ]
  },
  {
   "cell_type": "code",
   "execution_count": 12,
   "metadata": {
    "ExecuteTime": {
     "end_time": "2022-01-12T12:29:39.999365Z",
     "start_time": "2022-01-12T12:29:39.993380Z"
    }
   },
   "outputs": [],
   "source": [
    "def cv_show(name, image):\n",
    "    cv2.imshow(name, image)\n",
    "    cv2.waitKey(0)\n",
    "    cv2.destroyAllWindows()\n",
    "\n",
    "# 对图片进行同一的resize\n",
    "# 封装resize功能.\n",
    "def resize(image, width=None, height=None, inter=cv2.INTER_AREA):\n",
    "    dim = None\n",
    "    (h, w) = image.shape[:2]\n",
    "    if width is None and height is None:\n",
    "        return image\n",
    "    # 指定了resize的height\n",
    "    if width is None:\n",
    "        r = height / float(h)\n",
    "        dim = (int(w * r), height)\n",
    "    # 指定了width\n",
    "    else:\n",
    "        r = width / float(w)\n",
    "        dim = (width, int(h * r))\n",
    "    resized = cv2.resize(image, dim, interpolation=inter)\n",
    "    return resized"
   ]
  },
  {
   "cell_type": "code",
   "execution_count": 31,
   "metadata": {
    "ExecuteTime": {
     "end_time": "2022-01-12T12:58:45.632122Z",
     "start_time": "2022-01-12T12:58:45.603201Z"
    }
   },
   "outputs": [],
   "source": [
    "import numpy as np\n",
    "import cv2 \n",
    "\n",
    "# 读取图片\n",
    "image = cv2.imread('./images/receipt.jpg')\n",
    "# 计算比例. 限定高度500\n",
    "ratio = image.shape[0] / 500.0\n",
    "orig = image.copy()\n",
    "\n",
    "# 对图片进行resize\n",
    "image = resize(orig, height=500)\n",
    "cv2.imwrite('./resize1.jpg', image)\n",
    "cv_show('edged', image)"
   ]
  },
  {
   "cell_type": "code",
   "execution_count": 32,
   "metadata": {
    "ExecuteTime": {
     "end_time": "2022-01-12T12:58:49.377257Z",
     "start_time": "2022-01-12T12:58:49.367151Z"
    }
   },
   "outputs": [],
   "source": [
    "# 图片预处理\n",
    "# 灰度化处理\n",
    "gray = cv2.cvtColor(image, cv2.COLOR_BGR2GRAY)\n",
    "# 高斯平滑\n",
    "gray = cv2.GaussianBlur(gray, (5, 5), 0)\n",
    "# 边缘检测\n",
    "edged = cv2.Canny(gray, 75, 200)\n",
    "cv_show('edged', edged)"
   ]
  },
  {
   "cell_type": "code",
   "execution_count": 20,
   "metadata": {
    "ExecuteTime": {
     "end_time": "2022-01-12T12:58:53.487662Z",
     "start_time": "2022-01-12T12:58:53.453753Z"
    },
    "scrolled": true
   },
   "outputs": [],
   "source": [
    "# 轮廓检测\n",
    "cnts = cv2.findContours(edged.copy(), cv2.RETR_LIST, cv2.CHAIN_APPROX_SIMPLE)[0]\n",
    "# 按照面积排序\n",
    "cnts = sorted(cnts, key=cv2.contourArea, reverse=True)\n",
    "image_contours = cv2.drawContours(image.copy(), cnts[0], -1, (0, 0, 255), 2)\n",
    "cv_show('image_contours', image_contours)"
   ]
  },
  {
   "cell_type": "code",
   "execution_count": 27,
   "metadata": {
    "ExecuteTime": {
     "end_time": "2022-01-12T12:59:02.255747Z",
     "start_time": "2022-01-12T12:59:02.238791Z"
    }
   },
   "outputs": [],
   "source": [
    "# 遍历轮廓找出最大的轮廓. \n",
    "for c in cnts:\n",
    "    # 计算轮廓周长\n",
    "    perimeter = cv2.arcLength(c, True)\n",
    "    # 多边形逼近.\n",
    "    approx = cv2.approxPolyDP(c, 0.02 * perimeter, True)\n",
    "    \n",
    "    if len(approx) == 4:\n",
    "        screen_cnt = approx\n",
    "        break\n",
    "\n",
    "image_contours = cv2.drawContours(image.copy(), [screen_cnt], -1, (0, 0, 255), 2)\n",
    "cv_show('image_contours', image_contours)"
   ]
  },
  {
   "cell_type": "code",
   "execution_count": 22,
   "metadata": {
    "ExecuteTime": {
     "end_time": "2022-01-12T12:47:44.576269Z",
     "start_time": "2022-01-12T12:47:44.559314Z"
    }
   },
   "outputs": [],
   "source": [
    "# 进行透视变换.\n",
    "def order_points(pts):\n",
    "    # 创建全是0的矩阵, 来接收等下找出来的4个角的坐标.\n",
    "    rect = np.zeros((4, 2), dtype='float32')\n",
    "    s = pts.sum(axis=1)\n",
    "    # 左上的坐标一定是x,y加起来最小的坐标. 右下的坐标一定是x,y加起来最大的坐标.\n",
    "    rect[0] = pts[np.argmin(s)]\n",
    "    rect[2] = pts[np.argmax(s)]\n",
    "    \n",
    "    # 右上角的x,y相减的差值一定是最小的. \n",
    "    # 左下角的x,y相减的差值, 一定是最大.\n",
    "    diff = np.diff(pts, axis=1)\n",
    "    rect[1] = pts[np.argmin(diff)]\n",
    "    rect[3] = pts[np.argmax(diff)]\n",
    "    return rect\n",
    "\n",
    "# 把透视变换功能封装成一个函数\n",
    "def four_point_transform(image, pts):\n",
    "    # 对输入的4个坐标排序\n",
    "    rect = order_points(pts)\n",
    "    (tl, tr, br, bl) = rect\n",
    "    \n",
    "    # 空间中两点的距离\n",
    "    widthA = np.sqrt((br[0] - bl[0]) ** 2 + (br[1] - bl[1]) ** 2)\n",
    "    widthB = np.sqrt((tr[0] - tl[0]) ** 2 + (tr[1] - tl[1]) ** 2)\n",
    "    max_width = max(int(widthA), int(widthB))\n",
    "    \n",
    "    heightA = np.sqrt((tr[0] - br[0]) ** 2 + (tr[1] - br[1]) ** 2)\n",
    "    heightB = np.sqrt((tl[0] - bl[0]) ** 2 + (tl[1] - bl[1]) ** 2)\n",
    "    max_height = max(int(heightA), int(heightB))\n",
    "    \n",
    "    # 构造变换之后的对应坐标位置.\n",
    "    dst = np.array([\n",
    "        [0, 0],\n",
    "        [max_width - 1, 0],\n",
    "        [max_width - 1, max_height - 1],\n",
    "        [0, max_height - 1]], dtype='float32')\n",
    "    \n",
    "    # 计算变换矩阵\n",
    "    M = cv2.getPerspectiveTransform(rect, dst)\n",
    "    # 透视变换\n",
    "    warped = cv2.warpPerspective(image, M, (max_width, max_height))\n",
    "    return warped"
   ]
  },
  {
   "cell_type": "code",
   "execution_count": 33,
   "metadata": {
    "ExecuteTime": {
     "end_time": "2022-01-12T12:59:10.613934Z",
     "start_time": "2022-01-12T12:59:10.590993Z"
    }
   },
   "outputs": [],
   "source": []
  },
  {
   "cell_type": "code",
   "execution_count": 23,
   "metadata": {
    "ExecuteTime": {
     "end_time": "2022-01-12T12:59:21.720246Z",
     "start_time": "2022-01-12T12:59:17.464121Z"
    }
   },
   "outputs": [],
   "source": [
    "warped = four_point_transform(orig, screen_cnt.reshape(4, 2) * ratio)\n",
    "# 二值处理\n",
    "warped = cv2.cvtColor(warped, cv2.COLOR_BGR2GRAY)\n",
    "ref = cv2.threshold(warped, 100, 255, cv2.THRESH_BINARY)[1]\n",
    "cv_show('ref', ref)"
   ]
  },
  {
   "cell_type": "code",
   "execution_count": 24,
   "metadata": {
    "ExecuteTime": {
     "end_time": "2022-01-12T12:59:34.591337Z",
     "start_time": "2022-01-12T12:59:34.543466Z"
    }
   },
   "outputs": [
    {
     "data": {
      "text/plain": [
       "True"
      ]
     },
     "execution_count": 24,
     "metadata": {},
     "output_type": "execute_result"
    }
   ],
   "source": [
    "# 把处理好的图片写入图片文件.\n",
    "cv2.imwrite('./scan.jpg', ref)"
   ]
  },
  {
   "cell_type": "code",
   "execution_count": 26,
   "metadata": {
    "ExecuteTime": {
     "end_time": "2022-01-12T12:59:38.426589Z",
     "start_time": "2022-01-12T12:59:37.430745Z"
    }
   },
   "outputs": [
    {
     "name": "stdout",
     "output_type": "stream",
     "text": [
      "fp ACK PSSING AND STANCE ETE ALING FPEXELTS\n",
      "\n",
      "On Line rq we manipulate the top left pixel in the im-\n",
      "age, which is located at coordinate 10,01 and set if to have\n",
      "avalue of (0, 0, 255). If we were reading. this pixel value\n",
      "in RGB format, we would have a value of % for red, 0 tor\n",
      "green, and 255 tor blue, thus making ita pure blue color\n",
      "\n",
      "However, as | mentioned above, we need to take special\n",
      "care when working with OpenCY. Our pixels are actualls\n",
      "stored in BGR format, not RGB format.\n",
      "\n",
      "We actually read this pixel as 255 for red, 0 for green, and\n",
      "0 for blue, making it a red color, not a blue color.\n",
      "\n",
      "After setting the top-left pixel to have a red color on Line\n",
      "14, we then grab the pixel value and print it back to con-\n",
      "sole on Lines 15 and 16, just to demonstrate that we have\n",
      "indeed successfully changed the color of the pixel.\n",
      "\n",
      "Accessing and setting a single pixel value is simple enough,\n",
      "but what if we wanted to use NumPv’s array slicing capa-\n",
      "bilities to access larger rectangular portions of the image’\n",
      "The code below demonstrates how we can do this:\n",
      "\n",
      "i- corner = 1mage(Q:100, 0:100)\n",
      "\n",
      "is cv2.amshow( , corner)\n",
      "\n",
      "zo image[0:100, 0:100] = (0, 255, 0)\n",
      "\n",
      "2: ¢v2.1mshow( » image)\n",
      "3 ev2.waitKey (0)\n",
      "\n",
      "On line 17 we grab a 100 - 100 pixel region of the image.\n",
      "\n",
      "In fact, this is the top-left corner of the image! In order to\n",
      "grab chunks of an image, NumPy expects we provide four\n",
      "\n",
      "tu\n",
      "Nv\n",
      "\n",
      "\n"
     ]
    }
   ],
   "source": [
    "import pytesseract\n",
    "from PIL import Image\n",
    "\n",
    "# pytesseract要求的image不是opencv读进来的image, 而是pillow这个包, 即PIL,按照 pip install pillow\n",
    "text = pytesseract.image_to_string(Image.open('./scan.jpg'))\n",
    "print(text)"
   ]
  },
  {
   "cell_type": "code",
   "execution_count": null,
   "metadata": {},
   "outputs": [],
   "source": []
  }
 ],
 "metadata": {
  "kernelspec": {
   "display_name": "Python 3 (ipykernel)",
   "language": "python",
   "name": "python3"
  },
  "language_info": {
   "codemirror_mode": {
    "name": "ipython",
    "version": 3
   },
   "file_extension": ".py",
   "mimetype": "text/x-python",
   "name": "python",
   "nbconvert_exporter": "python",
   "pygments_lexer": "ipython3",
   "version": "3.11.4"
  },
  "toc": {
   "base_numbering": 1,
   "nav_menu": {},
   "number_sections": true,
   "sideBar": true,
   "skip_h1_title": false,
   "title_cell": "Table of Contents",
   "title_sidebar": "Contents",
   "toc_cell": false,
   "toc_position": {},
   "toc_section_display": true,
   "toc_window_display": false
  }
 },
 "nbformat": 4,
 "nbformat_minor": 4
}
