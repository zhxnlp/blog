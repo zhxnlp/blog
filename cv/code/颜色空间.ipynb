{
 "cells": [
  {
   "cell_type": "code",
   "execution_count": 1,
   "metadata": {
    "collapsed": true
   },
   "outputs": [
    {
     "ename": "AttributeError",
     "evalue": "module 'cv2.cv2' has no attribute 'destoryAllWindows'",
     "output_type": "error",
     "traceback": [
      "\u001b[1;31m---------------------------------------------------------------------------\u001b[0m",
      "\u001b[1;31mAttributeError\u001b[0m                            Traceback (most recent call last)",
      "\u001b[1;32m<ipython-input-1-44139ff6d198>\u001b[0m in \u001b[0;36m<module>\u001b[1;34m\u001b[0m\n\u001b[0;32m      6\u001b[0m \u001b[1;33m\u001b[0m\u001b[0m\n\u001b[0;32m      7\u001b[0m \u001b[0mcv2\u001b[0m\u001b[1;33m.\u001b[0m\u001b[0mwaitKey\u001b[0m\u001b[1;33m(\u001b[0m\u001b[1;36m0\u001b[0m\u001b[1;33m)\u001b[0m\u001b[1;33m\u001b[0m\u001b[1;33m\u001b[0m\u001b[0m\n\u001b[1;32m----> 8\u001b[1;33m \u001b[0mcv2\u001b[0m\u001b[1;33m.\u001b[0m\u001b[0mdestoryAllWindows\u001b[0m\u001b[1;33m(\u001b[0m\u001b[1;33m)\u001b[0m\u001b[1;33m\u001b[0m\u001b[1;33m\u001b[0m\u001b[0m\n\u001b[0m",
      "\u001b[1;31mAttributeError\u001b[0m: module 'cv2.cv2' has no attribute 'destoryAllWindows'"
     ]
    }
   ],
   "source": [
    "import cv2\n",
    "\n",
    "\n",
    "dog = cv2.imread('./dog.jpeg')\n",
    "cv2.imshow('dog', dog)\n",
    "\n",
    "cv2.waitKey(0)\n",
    "cv2.destoryAllWindows()"
   ]
  },
  {
   "cell_type": "code",
   "execution_count": 2,
   "metadata": {
    "collapsed": true
   },
   "outputs": [
    {
     "data": {
      "text/plain": [
       "array([[[213, 175, 140],\n",
       "        [216, 176, 141],\n",
       "        [220, 178, 143],\n",
       "        ...,\n",
       "        [223, 191, 156],\n",
       "        [224, 192, 157],\n",
       "        [225, 190, 156]],\n",
       "\n",
       "       [[222, 180, 145],\n",
       "        [222, 180, 145],\n",
       "        [220, 178, 143],\n",
       "        ...,\n",
       "        [227, 195, 160],\n",
       "        [227, 195, 160],\n",
       "        [225, 193, 157]],\n",
       "\n",
       "       [[225, 180, 146],\n",
       "        [225, 180, 146],\n",
       "        [223, 181, 146],\n",
       "        ...,\n",
       "        [227, 195, 160],\n",
       "        [225, 193, 158],\n",
       "        [222, 190, 154]],\n",
       "\n",
       "       ...,\n",
       "\n",
       "       [[ 50,  46,  28],\n",
       "        [ 54,  47,  30],\n",
       "        [ 55,  48,  33],\n",
       "        ...,\n",
       "        [ 95, 155, 209],\n",
       "        [ 92, 149, 204],\n",
       "        [103, 160, 215]],\n",
       "\n",
       "       [[ 58,  49,  29],\n",
       "        [ 59,  49,  31],\n",
       "        [ 63,  50,  34],\n",
       "        ...,\n",
       "        [ 94, 151, 206],\n",
       "        [100, 157, 212],\n",
       "        [100, 157, 213]],\n",
       "\n",
       "       [[ 67,  56,  36],\n",
       "        [ 73,  59,  41],\n",
       "        [ 71,  55,  39],\n",
       "        ...,\n",
       "        [ 73, 130, 185],\n",
       "        [113, 170, 226],\n",
       "        [ 81, 138, 194]]], dtype=uint8)"
      ]
     },
     "execution_count": 2,
     "metadata": {},
     "output_type": "execute_result"
    }
   ],
   "source": [
    "# 想看dog中有多少种不同的颜色.\n",
    "dog"
   ]
  },
  {
   "cell_type": "code",
   "execution_count": 3,
   "metadata": {},
   "outputs": [],
   "source": [
    "from pandas import DataFrame"
   ]
  },
  {
   "cell_type": "code",
   "execution_count": 4,
   "metadata": {},
   "outputs": [],
   "source": [
    "# 用每一个像素创建dataframe\n",
    "df = DataFrame(dog.reshape(-1, 3))"
   ]
  },
  {
   "cell_type": "code",
   "execution_count": 5,
   "metadata": {
    "scrolled": true
   },
   "outputs": [
    {
     "data": {
      "text/html": [
       "<div>\n",
       "<style scoped>\n",
       "    .dataframe tbody tr th:only-of-type {\n",
       "        vertical-align: middle;\n",
       "    }\n",
       "\n",
       "    .dataframe tbody tr th {\n",
       "        vertical-align: top;\n",
       "    }\n",
       "\n",
       "    .dataframe thead th {\n",
       "        text-align: right;\n",
       "    }\n",
       "</style>\n",
       "<table border=\"1\" class=\"dataframe\">\n",
       "  <thead>\n",
       "    <tr style=\"text-align: right;\">\n",
       "      <th></th>\n",
       "      <th>0</th>\n",
       "      <th>1</th>\n",
       "      <th>2</th>\n",
       "    </tr>\n",
       "  </thead>\n",
       "  <tbody>\n",
       "    <tr>\n",
       "      <th>0</th>\n",
       "      <td>213</td>\n",
       "      <td>175</td>\n",
       "      <td>140</td>\n",
       "    </tr>\n",
       "    <tr>\n",
       "      <th>1</th>\n",
       "      <td>216</td>\n",
       "      <td>176</td>\n",
       "      <td>141</td>\n",
       "    </tr>\n",
       "    <tr>\n",
       "      <th>2</th>\n",
       "      <td>220</td>\n",
       "      <td>178</td>\n",
       "      <td>143</td>\n",
       "    </tr>\n",
       "    <tr>\n",
       "      <th>3</th>\n",
       "      <td>221</td>\n",
       "      <td>179</td>\n",
       "      <td>144</td>\n",
       "    </tr>\n",
       "    <tr>\n",
       "      <th>4</th>\n",
       "      <td>217</td>\n",
       "      <td>177</td>\n",
       "      <td>142</td>\n",
       "    </tr>\n",
       "  </tbody>\n",
       "</table>\n",
       "</div>"
      ],
      "text/plain": [
       "     0    1    2\n",
       "0  213  175  140\n",
       "1  216  176  141\n",
       "2  220  178  143\n",
       "3  221  179  144\n",
       "4  217  177  142"
      ]
     },
     "execution_count": 5,
     "metadata": {},
     "output_type": "execute_result"
    }
   ],
   "source": [
    "df.head()"
   ]
  },
  {
   "cell_type": "code",
   "execution_count": 9,
   "metadata": {},
   "outputs": [
    {
     "data": {
      "text/plain": [
       "(179640, 3)"
      ]
     },
     "execution_count": 9,
     "metadata": {},
     "output_type": "execute_result"
    }
   ],
   "source": [
    "df.shape"
   ]
  },
  {
   "cell_type": "code",
   "execution_count": 10,
   "metadata": {},
   "outputs": [
    {
     "data": {
      "text/plain": [
       "54242"
      ]
     },
     "execution_count": 10,
     "metadata": {},
     "output_type": "execute_result"
    }
   ],
   "source": [
    "# dog中不重复的颜色\n",
    "179640 - df.duplicated().sum()"
   ]
  },
  {
   "cell_type": "code",
   "execution_count": 11,
   "metadata": {
    "scrolled": true
   },
   "outputs": [
    {
     "name": "stdout",
     "output_type": "stream",
     "text": [
      "2\n"
     ]
    }
   ],
   "source": [
    "print(cv2.COLOR_BGR2RGBA)"
   ]
  },
  {
   "cell_type": "code",
   "execution_count": 13,
   "metadata": {},
   "outputs": [],
   "source": [
    "# 关键API cv2.cvtColor\n",
    "import cv2\n",
    "\n",
    "\n",
    "def callback(value):\n",
    "    pass\n",
    "\n",
    "\n",
    "cv2.namedWindow('color', cv2.WINDOW_NORMAL)\n",
    "cv2.resizeWindow('color', 640, 480)\n",
    "\n",
    "# 读取照片, OpenCV读进来的图片默认是BGR的色彩空间.\n",
    "img = cv2.imread('./cat.jpeg')\n",
    "\n",
    "# 定义颜色空间转化列表\n",
    "color_spaces = [\n",
    "    # 所有颜色空间的转化都是COLOR开头\n",
    "    cv2.COLOR_BGR2RGBA, cv2.COLOR_BGR2BGRA,\n",
    "    cv2.COLOR_BGR2GRAY, cv2.COLOR_BGR2HSV,\n",
    "    cv2.COLOR_BGR2YUV\n",
    "]\n",
    "\n",
    "# 设置trackbar\n",
    "cv2.createTrackbar('trackbar', 'color', 0, 4, callback)\n",
    "\n",
    "while True:\n",
    "    # 获取trarckbar的值\n",
    "    index =cv2.getTrackbarPos('trackbar', 'color')\n",
    "    \n",
    "    # 进行颜色空间转换\n",
    "    cvt_img = cv2.cvtColor(img, color_spaces[index])\n",
    "    \n",
    "    cv2.imshow('color', cvt_img)\n",
    "    key = cv2.waitKey(10)\n",
    "    if key == ord('q'):\n",
    "        break\n",
    "    \n",
    "cv2.destroyAllWindows()"
   ]
  },
  {
   "cell_type": "code",
   "execution_count": null,
   "metadata": {},
   "outputs": [],
   "source": [
    "# opencv用mat这种数据结构来表示图片的. \n",
    "# C++中是用mat来保存图片. python中把mat转化成了numpy的ndarray\n",
    "cv2.imshow()"
   ]
  },
  {
   "cell_type": "code",
   "execution_count": 16,
   "metadata": {},
   "outputs": [
    {
     "data": {
      "text/plain": [
       "numpy.ndarray"
      ]
     },
     "execution_count": 16,
     "metadata": {},
     "output_type": "execute_result"
    }
   ],
   "source": [
    "type(img)"
   ]
  },
  {
   "cell_type": "code",
   "execution_count": 17,
   "metadata": {
    "collapsed": true
   },
   "outputs": [
    {
     "ename": "AttributeError",
     "evalue": "'numpy.ndarray' object has no attribute 'channels'",
     "output_type": "error",
     "traceback": [
      "\u001b[1;31m---------------------------------------------------------------------------\u001b[0m",
      "\u001b[1;31mAttributeError\u001b[0m                            Traceback (most recent call last)",
      "\u001b[1;32m<ipython-input-17-0239d3d9e8ca>\u001b[0m in \u001b[0;36m<module>\u001b[1;34m\u001b[0m\n\u001b[1;32m----> 1\u001b[1;33m \u001b[0mimg\u001b[0m\u001b[1;33m.\u001b[0m\u001b[0mchannels\u001b[0m\u001b[1;33m\u001b[0m\u001b[1;33m\u001b[0m\u001b[0m\n\u001b[0m",
      "\u001b[1;31mAttributeError\u001b[0m: 'numpy.ndarray' object has no attribute 'channels'"
     ]
    }
   ],
   "source": [
    "img.channels"
   ]
  },
  {
   "cell_type": "code",
   "execution_count": 20,
   "metadata": {},
   "outputs": [
    {
     "data": {
      "text/plain": [
       "<memory at 0x0000020FA88E94F8>"
      ]
     },
     "execution_count": 20,
     "metadata": {},
     "output_type": "execute_result"
    }
   ],
   "source": [
    "# ndarray4种常见属性?\n",
    "img.data"
   ]
  },
  {
   "cell_type": "code",
   "execution_count": 23,
   "metadata": {},
   "outputs": [],
   "source": [
    "import numpy as np\n",
    "\n",
    "ones = np.ones((2, 3))"
   ]
  },
  {
   "cell_type": "code",
   "execution_count": 24,
   "metadata": {},
   "outputs": [
    {
     "data": {
      "text/plain": [
       "<memory at 0x0000020FA8B168B8>"
      ]
     },
     "execution_count": 24,
     "metadata": {},
     "output_type": "execute_result"
    }
   ],
   "source": [
    "ones.data"
   ]
  },
  {
   "cell_type": "code",
   "execution_count": 25,
   "metadata": {},
   "outputs": [
    {
     "data": {
      "text/plain": [
       "921600"
      ]
     },
     "execution_count": 25,
     "metadata": {},
     "output_type": "execute_result"
    }
   ],
   "source": [
    "# 元素的总个数\n",
    "img.size"
   ]
  },
  {
   "cell_type": "code",
   "execution_count": 26,
   "metadata": {
    "scrolled": true
   },
   "outputs": [
    {
     "data": {
      "text/plain": [
       "dtype('uint8')"
      ]
     },
     "execution_count": 26,
     "metadata": {},
     "output_type": "execute_result"
    }
   ],
   "source": [
    "img.dtype"
   ]
  },
  {
   "cell_type": "code",
   "execution_count": 27,
   "metadata": {},
   "outputs": [
    {
     "data": {
      "text/plain": [
       "(480, 640, 3)"
      ]
     },
     "execution_count": 27,
     "metadata": {},
     "output_type": "execute_result"
    }
   ],
   "source": [
    "img.shape"
   ]
  },
  {
   "cell_type": "code",
   "execution_count": 28,
   "metadata": {},
   "outputs": [
    {
     "data": {
      "text/plain": [
       "1"
      ]
     },
     "execution_count": 28,
     "metadata": {},
     "output_type": "execute_result"
    }
   ],
   "source": [
    "img.itemsize"
   ]
  },
  {
   "cell_type": "code",
   "execution_count": 29,
   "metadata": {},
   "outputs": [
    {
     "data": {
      "text/plain": [
       "3"
      ]
     },
     "execution_count": 29,
     "metadata": {},
     "output_type": "execute_result"
    }
   ],
   "source": [
    "img.ndim"
   ]
  },
  {
   "cell_type": "code",
   "execution_count": 30,
   "metadata": {
    "collapsed": true
   },
   "outputs": [
    {
     "data": {
      "text/plain": [
       "array([[[0, 0, 0],\n",
       "        [0, 0, 0],\n",
       "        [0, 0, 0],\n",
       "        ...,\n",
       "        [0, 0, 0],\n",
       "        [0, 0, 0],\n",
       "        [0, 0, 0]],\n",
       "\n",
       "       [[0, 0, 0],\n",
       "        [0, 0, 0],\n",
       "        [0, 0, 0],\n",
       "        ...,\n",
       "        [0, 0, 0],\n",
       "        [0, 0, 0],\n",
       "        [0, 0, 0]],\n",
       "\n",
       "       [[0, 0, 0],\n",
       "        [0, 0, 0],\n",
       "        [0, 0, 0],\n",
       "        ...,\n",
       "        [0, 0, 0],\n",
       "        [0, 0, 0],\n",
       "        [0, 0, 0]],\n",
       "\n",
       "       ...,\n",
       "\n",
       "       [[0, 0, 0],\n",
       "        [0, 0, 0],\n",
       "        [0, 0, 0],\n",
       "        ...,\n",
       "        [0, 0, 0],\n",
       "        [0, 0, 0],\n",
       "        [0, 0, 0]],\n",
       "\n",
       "       [[0, 0, 0],\n",
       "        [0, 0, 0],\n",
       "        [0, 0, 0],\n",
       "        ...,\n",
       "        [0, 0, 0],\n",
       "        [0, 0, 0],\n",
       "        [0, 0, 0]],\n",
       "\n",
       "       [[0, 0, 0],\n",
       "        [0, 0, 0],\n",
       "        [0, 0, 0],\n",
       "        ...,\n",
       "        [0, 0, 0],\n",
       "        [0, 0, 0],\n",
       "        [0, 0, 0]]], dtype=uint8)"
      ]
     },
     "execution_count": 30,
     "metadata": {},
     "output_type": "execute_result"
    }
   ],
   "source": [
    "img.imag"
   ]
  },
  {
   "cell_type": "code",
   "execution_count": 33,
   "metadata": {},
   "outputs": [],
   "source": [
    "# 因为python中图片数据已经包装成ndarray了, 所以对mat的深浅拷贝,其实就是对ndarray深浅拷贝.\n",
    "import cv2\n",
    "import numpy as np\n",
    "\n",
    "img = cv2.imread('./cat.jpeg')\n",
    "\n",
    "# 浅拷贝.\n",
    "img2 = img.view()\n",
    "\n",
    "# 深拷贝\n",
    "img3 = img.copy()\n",
    "\n",
    "img[10:100, 10: 100] = [0, 0, 255]\n",
    "\n",
    "cv2.imshow('img', np.vstack((img, img2, img3)))\n",
    "\n",
    "cv2.waitKey(0)\n",
    "cv2.destroyAllWindows()"
   ]
  },
  {
   "cell_type": "code",
   "execution_count": 37,
   "metadata": {},
   "outputs": [
    {
     "name": "stdout",
     "output_type": "stream",
     "text": [
      "b: [[0 0 0 ... 0 0 0]\n",
      " [0 0 0 ... 0 0 0]\n",
      " [0 0 0 ... 0 0 0]\n",
      " ...\n",
      " [0 0 0 ... 0 0 0]\n",
      " [0 0 0 ... 0 0 0]\n",
      " [0 0 0 ... 0 0 0]]\n"
     ]
    }
   ],
   "source": [
    "# 图像的分割与融合\n",
    "import cv2\n",
    "import numpy as np\n",
    "\n",
    "img = np.zeros((200, 200, 3), np.uint8)\n",
    "\n",
    "# 分割通道\n",
    "b, g, r = cv2.split(img)\n",
    "print('b:', b)\n",
    "# 修改一些颜色\n",
    "b[10:100, 10:100] = 255\n",
    "g[10:100, 10: 100] = 255\n",
    "\n",
    "# 合并通道\n",
    "img2 = cv2.merge((b, g, r))\n",
    "\n",
    "cv2.imshow('img', np.hstack((b, g)))\n",
    "cv2.imshow('img2', np.hstack((img, img2)))\n",
    "\n",
    "cv2.waitKey(0)\n",
    "cv2.destroyAllWindows()"
   ]
  },
  {
   "cell_type": "code",
   "execution_count": 45,
   "metadata": {},
   "outputs": [],
   "source": [
    "# 绘制各种图形\n",
    "import cv2\n",
    "import numpy as np\n",
    "\n",
    "\n",
    "# 创建纯黑的背景图用来画图形\n",
    "img = np.zeros((800, 800, 3), np.uint8)\n",
    "# line(img, pt1, pt2, color, thickness, lineType, shift)\n",
    "cv2.line(img, (10, 20), (300, 400), (0, 0, 255), 5, 4)\n",
    "# cv2.line(img, (80, 100), (380, 480), (0, 0, 255), 5, 16)#\n",
    "# 和画线是完全一样的.\n",
    "# cv2.rectangle(img, (80, 100), (380, 380), (0, 255, 0), 5)\n",
    "\n",
    "# 画圆 需要传圆心坐标, 半径大小\n",
    "# cv2.circle(img, (320, 240), 100, (0, 0, 255), 5, 16)\n",
    "\n",
    "# ellipse(img, 中心点, 长宽的一半, 角度, 从哪个角度开始, 从哪个角度结束,...)\n",
    "# axes ->axis\n",
    "# cv2.ellipse(img, (320, 240), (100, 100), 0, 0, 360, [0, 0, 255], 5, 16)\n",
    "# 绘制多边形\n",
    "# pts多边形的点集, 必须是int32位\n",
    "pts = np.array([(250, 100), (150, 300), (50, 280)], np.int32)\n",
    "# 注意pts是3维的. \n",
    "# cv2.polylines(img, [pts], False, (0, 0, 255), 5)\n",
    "\n",
    "# 填充多边形\n",
    "# cv2.fillPoly(img, [pts], (0, 0, 255))\n",
    "# cv2.fillConvexPoly()\n",
    "# 绘制文本\n",
    "cv2.putText(img, '你好,我好, 大家好', (50, 400), cv2.FONT_HERSHEY_COMPLEX, 2, [0, 0, 255])\n",
    "\n",
    "cv2.imshow('draw', img)\n",
    "cv2.waitKey(0)\n",
    "cv2.destroyAllWindows()"
   ]
  },
  {
   "cell_type": "code",
   "execution_count": 46,
   "metadata": {},
   "outputs": [],
   "source": [
    "# 使用OpenCV绘制中文.\n",
    "# 曲线救国, OpenCV是没有办法直接绘制中文. \n",
    "# 使用Pillow包.  需要安装 pip install pillow \n",
    "from PIL import ImageFont, ImageDraw, Image\n",
    "\n",
    "\n",
    "# 纯白\n",
    "# img = np.full((500, 500, 3), fill_value=255, dtype=np.uint8)\n",
    "img = cv2.imread('./cat.jpeg')\n",
    "\n",
    "# 导入字体文件\n",
    "font = ImageFont.truetype('./msyhbd.ttc', 35)\n",
    "\n",
    "# 创建一个pillow的图片\n",
    "img_pil = Image.fromarray(img)\n",
    "\n",
    "draw = ImageDraw.Draw(img_pil)\n",
    "# 利用draw去绘制中文\n",
    "draw.text((100, 250), '你好, 我好, 大家好', font=font, fill=(0, 255, 0, 0))\n",
    "\n",
    "# 重新变回ndarray\n",
    "img = np.array(img_pil)\n",
    "\n",
    "cv2.imshow('img' ,img)\n",
    "\n",
    "cv2.waitKey(0)\n",
    "cv2.destroyAllWindows()"
   ]
  },
  {
   "cell_type": "code",
   "execution_count": null,
   "metadata": {},
   "outputs": [],
   "source": [
    "cv2.FONT"
   ]
  },
  {
   "cell_type": "code",
   "execution_count": 3,
   "metadata": {
    "collapsed": true
   },
   "outputs": [
    {
     "name": "stdout",
     "output_type": "stream",
     "text": [
      "[[[204 203 205]\n",
      "  [205 204 206]\n",
      "  [206 205 207]\n",
      "  ...\n",
      "  [209 208 210]\n",
      "  [209 208 210]\n",
      "  [210 209 211]]\n",
      "\n",
      " [[204 203 205]\n",
      "  [205 204 206]\n",
      "  [206 205 207]\n",
      "  ...\n",
      "  [209 208 210]\n",
      "  [209 208 210]\n",
      "  [210 209 211]]\n",
      "\n",
      " [[204 203 205]\n",
      "  [204 203 205]\n",
      "  [205 204 206]\n",
      "  ...\n",
      "  [208 207 209]\n",
      "  [209 208 210]\n",
      "  [209 208 210]]\n",
      "\n",
      " ...\n",
      "\n",
      " [[202 201 203]\n",
      "  [202 201 203]\n",
      "  [202 201 203]\n",
      "  ...\n",
      "  [203 205 206]\n",
      "  [203 205 206]\n",
      "  [203 205 206]]\n",
      "\n",
      " [[202 201 203]\n",
      "  [202 201 203]\n",
      "  [202 201 203]\n",
      "  ...\n",
      "  [203 205 206]\n",
      "  [203 205 206]\n",
      "  [203 205 206]]\n",
      "\n",
      " [[202 201 203]\n",
      "  [202 201 203]\n",
      "  [202 201 203]\n",
      "  ...\n",
      "  [203 205 206]\n",
      "  [203 205 206]\n",
      "  [203 205 206]]]\n"
     ]
    }
   ],
   "source": [
    "import cv2\n",
    "import numpy as np\n",
    "\n",
    "img = cv2.imread('./cat.jpeg')\n",
    "\n",
    "# 浅拷贝\n",
    "temp = img[0:100, 0:100]\n",
    "# 深拷贝\n",
    "temp2 = img[0:100, 0:100].copy()\n",
    "\n",
    "print(temp)\n",
    "temp[:] = [0, 0, 255]\n",
    "temp2[:] = [0, 255, 0]\n",
    "cv2.imshow('temp', temp)\n",
    "cv2.imshow('temp2', temp2)\n",
    "cv2.imshow('img', img)\n",
    "\n",
    "cv2.waitKey(0)\n",
    "cv2.destroyAllWindows()"
   ]
  },
  {
   "cell_type": "code",
   "execution_count": 38,
   "metadata": {},
   "outputs": [],
   "source": [
    "# 弑神同学作业代码\n",
    "import cv2\n",
    "import numpy as np\n",
    "import math\n",
    "\n",
    "ix,iy = -1,-1\n",
    "mode = 0  \n",
    "\n",
    "def draw(event, x, y, flag, userdata):\n",
    "    global ix, iy\n",
    "    if mode == 1:\n",
    "        if event == cv2.EVENT_LBUTTONDOWN:\n",
    "            ix,iy = x,y\n",
    "        elif event == cv2.EVENT_LBUTTONUP and (flag & cv2.EVENT_FLAG_LBUTTON):\n",
    "            cv2.line(img, (ix, iy), (x, y), (0, 0, 255), 1, 4)\n",
    "            cv2.imshow('mouse', img)\n",
    "        elif event == cv2.EVENT_LBUTTONUP:\n",
    "            cv2.line(img, (ix, iy), (x, y), (0, 0, 255), 1, 4)\n",
    "            cv2.imshow('mouse', img)\n",
    "    if mode == 2:\n",
    "        if event == cv2.EVENT_LBUTTONDOWN:\n",
    "            ix,iy = x,y\n",
    "        elif event == cv2.EVENT_LBUTTONUP and (flag & cv2.EVENT_FLAG_LBUTTON):\n",
    "            cv2.rectangle(img, (ix, iy), (x, y), (0, 0, 255), 1, 4)\n",
    "            cv2.imshow('mouse', img)\n",
    "        elif event == cv2.EVENT_LBUTTONUP:\n",
    "            cv2.rectangle(img, (ix, iy), (x, y), (0, 0, 255), 1, 4)\n",
    "            cv2.imshow('mouse', img)\n",
    "    if mode == 3:\n",
    "        if event == cv2.EVENT_LBUTTONDOWN:\n",
    "            ix,iy = x,y\n",
    "        elif event == cv2.EVENT_LBUTTONUP and (flag & cv2.EVENT_FLAG_LBUTTON):\n",
    "            cv2.circle(img, (ix, iy), int(np.sqrt((ix-x)**2+(iy-y)**2)), (0, 0, 255), 1, 4)\n",
    "            cv2.imshow('mouse', img)\n",
    "        elif event == cv2.EVENT_LBUTTONUP:\n",
    "            cv2.circle(img, (ix, iy), int(np.sqrt((ix-x)**2+(iy-y)**2)), (0, 0, 255), 1, 4)\n",
    "            cv2.imshow('mouse', img)\n",
    "        \n",
    "cv2.namedWindow('mouse', cv2.WINDOW_NORMAL)\n",
    "\n",
    "cv2.resizeWindow('mouse', 640, 360)\n",
    "\n",
    "cv2.setMouseCallback('mouse', draw,0)\n",
    "\n",
    "img = np.zeros((360, 640, 3), np.uint8)\n",
    "\n",
    "img.fill(255)\n",
    "\n",
    "while True:\n",
    "    cv2.imshow('mouse', img)\n",
    "    key = cv2.waitKey(0)\n",
    "    if key == ord('l'):\n",
    "        mode = 1\n",
    "    elif key == ord('r'):\n",
    "        mode = 2\n",
    "    elif key == ord('c'):\n",
    "        mode = 3\n",
    "    elif key == ord('q'):\n",
    "        break\n",
    "    \n",
    "cv2.destroyAllWindows()"
   ]
  },
  {
   "cell_type": "code",
   "execution_count": 39,
   "metadata": {},
   "outputs": [],
   "source": [
    "# swain同学代码\n",
    "import numpy as np\n",
    "import cv2 as cv\n",
    "\n",
    "ix,iy = -1,-1\n",
    "drawing=False\n",
    "def draw_line(event,x,y,flags,param):\n",
    "    global ix,iy,drawing#全局初始化\n",
    "    if event==cv2.EVENT_LBUTTONDOWN:\n",
    "        drawing=True#正在绘制\n",
    "        ix,iy=x,y#按下时，决定划线的起始位置\n",
    "    elif event==cv2.EVENT_LBUTTONUP:\n",
    "            if drawing==True:\n",
    "                    cv2.line(img,(ix,iy),(x,y),(0,255,158),4)#松开时为画直线的末端位置\n",
    "def  draw_circle(event,x,y,flags,param):\n",
    "    global ix,iy,drawing\n",
    "    if event==cv2.EVENT_LBUTTONDOWN:\n",
    "        drawing=True\n",
    "        ix,iy=x,y\n",
    "    elif event==cv2.EVENT_LBUTTONUP:\n",
    "            if drawing==True:\n",
    "                    r=int(np.sqrt((x-ix)**2+(y-iy)**2))#逆向求半径 R只能为int\n",
    "                    cv2.circle(img,(ix,iy),r,(0,255,50),-1)\n",
    "def   draw_rectangle(event,x,y,flags,param):\n",
    "    global ix,iy,drawing\n",
    "    if event==cv2.EVENT_LBUTTONDOWN:\n",
    "        drawing=True\n",
    "        ix,iy=x,y\n",
    "    elif event==cv2.EVENT_LBUTTONUP:\n",
    "            if drawing==True:\n",
    "                    cv2.rectangle(img,(ix,iy),(x,y),(0,255,200),-1)   \n",
    "while True:\n",
    "    cv2.imshow('image',img)\n",
    "    k=cv2.waitKey(1)\n",
    "    if k==ord('l'):#按下L键 为画直线\n",
    "        cv2.setMouseCallback('image',draw_line) \n",
    "    elif k==ord('c'):# 按下C键为画圆\n",
    "        cv2.setMouseCallback('image',draw_circle)\n",
    "    elif k==ord('r'):#按下R键为画矩形\n",
    "        cv2.setMouseCallback('image',draw_rectangle)\n",
    "    elif k== ord('q'):\n",
    "        break\n",
    "cv2.destroyAllWindows()"
   ]
  },
  {
   "cell_type": "code",
   "execution_count": null,
   "metadata": {},
   "outputs": [],
   "source": [
    "# 作业思路:\n",
    "# 按下按键比如l, 进入绘制直线模式. 需要记录起始位置, 即按下鼠标左键的那一瞬间的坐标位置.\n",
    "# 左键起来的鼠标坐标作为终点. 然后绘制."
   ]
  },
  {
   "cell_type": "code",
   "execution_count": 47,
   "metadata": {},
   "outputs": [],
   "source": [
    "# 按下l, 拖动鼠标, 可以绘制直线.\n",
    "# 按下r, 拖到鼠标, 可以绘制矩形\n",
    "# 按下c, 拖动鼠标, 可以绘制圆. 拖动的长度可以作为半径.\n",
    "import cv2\n",
    "import numpy as np\n",
    "\n",
    "# 这是一个全局标志, 判断要画什么类型的图.\n",
    "curshape = 0\n",
    "startpos = (0, 0)\n",
    "\n",
    "# 创建背景图\n",
    "img = np.zeros((480, 640, 3), np.uint8)\n",
    "\n",
    "# 要监听鼠标的行为, 所以必须通过鼠标回调函数实现.\n",
    "def mouse_callback(event, x, y, flags, userdata):\n",
    "    # 引入全局变量\n",
    "    global curshape, startpos\n",
    "    # 引入非本层的局部变量用什么关键字nonlocal\n",
    "    if event == cv2.EVENT_LBUTTONDOWN:\n",
    "        # 记录起始位置\n",
    "        startpos = (x, y)\n",
    "    elif event == cv2.EVENT_LBUTTONUP:\n",
    "        # 判断要画什么类型的图.\n",
    "        if curshape == 0: # 画直线\n",
    "            cv2.line(img, startpos, (x, y), (0, 0, 255), 3)\n",
    "        elif curshape == 1: # 画矩形\n",
    "            cv2.rectangle(img, startpos, (x, y), (0, 0, 255), 3)\n",
    "        elif curshape == 2: # 画圆\n",
    "            # 注意计算半径\n",
    "            a = (x - startpos[0])\n",
    "            b = (y - startpos[1])\n",
    "            r = int((a ** 2 + b ** 2) ** 0.5)\n",
    "            # 画圆的时候, 半径必须是整数\n",
    "            cv2.circle(img, startpos, r, (0, 0, 255), 3)\n",
    "        else: # 按其他的按键\n",
    "            print('暂不支持绘制其他图形')\n",
    "            \n",
    "            \n",
    "# 创建窗口\n",
    "cv2.namedWindow('drawshape', cv2.WINDOW_NORMAL)\n",
    "# 设置鼠标回调函数\n",
    "cv2.setMouseCallback('drawshape', mouse_callback)\n",
    "\n",
    "while True:\n",
    "    cv2.imshow('drawshape', img)\n",
    "    # 检测按键\n",
    "    key = cv2.waitKey(1)\n",
    "    if key == ord('q'):\n",
    "        break\n",
    "    elif key == ord('l'):\n",
    "        curshape = 0\n",
    "    elif key == ord('r'):\n",
    "        curshape = 1\n",
    "    elif key == ord('c'):\n",
    "        curshape = 2\n",
    "        \n",
    "cv2.destroyAllWindows()"
   ]
  },
  {
   "cell_type": "code",
   "execution_count": 52,
   "metadata": {},
   "outputs": [],
   "source": [
    "# 按下l, 拖动鼠标, 可以绘制直线.\n",
    "# 按下r, 拖到鼠标, 可以绘制矩形\n",
    "# 按下c, 拖动鼠标, 可以绘制圆. 拖动的长度可以作为半径.\n",
    "import cv2\n",
    "import numpy as np\n",
    "\n",
    "# 这是一个全局标志, 判断要画什么类型的图.\n",
    "curshape = 0\n",
    "startpos = (0, 0)\n",
    "\n",
    "# 创建背景图\n",
    "img = np.zeros((480, 640, 3), np.uint8)\n",
    "\n",
    "# 要监听鼠标的行为, 所以必须通过鼠标回调函数实现.\n",
    "def mouse_callback(event, x, y, flags, userdata):\n",
    "    # 引入全局变量\n",
    "    global curshape, startpos\n",
    "    # 引入非本层的局部变量用什么关键字nonlocal\n",
    "    if event == cv2.EVENT_LBUTTONDOWN:\n",
    "        # 记录起始位置\n",
    "        startpos = (x, y)\n",
    "        \n",
    "    elif event ==0 and flags == 1: # 表示按下鼠标左键并移动鼠标\n",
    "        if curshape == 0: # 画直线\n",
    "            cv2.line(img, startpos, (x, y), (0, 0, 255), 1)\n",
    "        elif curshape == 1: # 画矩形\n",
    "            cv2.rectangle(img, startpos, (x, y), (0, 0, 255), 1)\n",
    "        elif curshape == 2: # 画圆\n",
    "            # 注意计算半径\n",
    "            a = (x - startpos[0])\n",
    "            b = (y - startpos[1])\n",
    "            r = int((a ** 2 + b ** 2) ** 0.5)\n",
    "            # 画圆的时候, 半径必须是整数\n",
    "            cv2.circle(img, startpos, r, (0, 0, 255), 1)\n",
    "        else: # 按其他的按键\n",
    "            print('暂不支持绘制其他图形')\n",
    "            \n",
    "    elif event == cv2.EVENT_LBUTTONUP:\n",
    "        # 判断要画什么类型的图.\n",
    "        if curshape == 0: # 画直线\n",
    "            cv2.line(img, startpos, (x, y), (0, 0, 255), 3)\n",
    "        elif curshape == 1: # 画矩形\n",
    "            cv2.rectangle(img, startpos, (x, y), (0, 0, 255), 1)\n",
    "        elif curshape == 2: # 画圆\n",
    "            # 注意计算半径\n",
    "            a = (x - startpos[0])\n",
    "            b = (y - startpos[1])\n",
    "            r = int((a ** 2 + b ** 2) ** 0.5)\n",
    "            # 画圆的时候, 半径必须是整数\n",
    "            cv2.circle(img, startpos, r, (0, 0, 255), 1)\n",
    "        else: # 按其他的按键\n",
    "            print('暂不支持绘制其他图形')\n",
    "            \n",
    "            \n",
    "# 创建窗口\n",
    "cv2.namedWindow('drawshape', cv2.WINDOW_NORMAL)\n",
    "# 设置鼠标回调函数\n",
    "cv2.setMouseCallback('drawshape', mouse_callback)\n",
    "\n",
    "while True:\n",
    "    cv2.imshow('drawshape', img)\n",
    "    # 检测按键\n",
    "    key = cv2.waitKey(1)\n",
    "    if key == ord('q'):\n",
    "        break\n",
    "    elif key == ord('l'):\n",
    "        curshape = 0\n",
    "    elif key == ord('r'):\n",
    "        curshape = 1\n",
    "    elif key == ord('c'):\n",
    "        curshape = 2\n",
    "        \n",
    "cv2.destroyAllWindows()"
   ]
  }
 ],
 "metadata": {
  "kernelspec": {
   "display_name": "Python 3",
   "language": "python",
   "name": "python3"
  },
  "language_info": {
   "codemirror_mode": {
    "name": "ipython",
    "version": 3
   },
   "file_extension": ".py",
   "mimetype": "text/x-python",
   "name": "python",
   "nbconvert_exporter": "python",
   "pygments_lexer": "ipython3",
   "version": "3.6.8"
  }
 },
 "nbformat": 4,
 "nbformat_minor": 4
}
