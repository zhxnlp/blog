{
 "cells": [
  {
   "cell_type": "code",
   "execution_count": 5,
   "metadata": {
    "ExecuteTime": {
     "end_time": "2021-12-27T12:48:47.762789Z",
     "start_time": "2021-12-27T12:48:47.748826Z"
    }
   },
   "outputs": [],
   "source": [
    "import cv2\n",
    "import numpy as np\n",
    "\n",
    "\n",
    "# 面向对象 : 把grabcut进行交互式抠图的功能封装成一个类.\n"
   ]
  },
  {
   "cell_type": "code",
   "execution_count": 16,
   "metadata": {
    "ExecuteTime": {
     "end_time": "2021-12-27T13:24:08.461427Z",
     "start_time": "2021-12-27T13:20:22.836941Z"
    }
   },
   "outputs": [],
   "source": [
    "class App:\n",
    "    def __init__(self, image):\n",
    "        self.image = image\n",
    "        self.img = cv2.imread(self.image)\n",
    "        self.img2 = self.img.copy()\n",
    "        self.start_x = 0\n",
    "        self.start_y = 0\n",
    "        # 是否需要绘制矩形的标志\n",
    "        self.rect_flag = False\n",
    "        self.rect = (0, 0, 0, 0)\n",
    "        self.mask = np.zeros(shape=self.img.shape[:2], dtype=np.uint8)\n",
    "        # 输出\n",
    "        self.output = np.zeros(shape=self.img.shape[:2], dtype=np.uint8)\n",
    "    \n",
    "    # 实例方法, 第一个参数一定是self\n",
    "    # staticmethod默认类和实例对象不会自动传参数(self, cls)\n",
    "    # @staticmethod 静态方法   @classmethod\n",
    "    def on_mouse(self, event, x, y, flags, param):\n",
    "        # 按下左键, 开始框选前景区域\n",
    "        if event == cv2.EVENT_LBUTTONDOWN:\n",
    "            # 记录起始的坐标\n",
    "            self.start_x = x\n",
    "            self.start_y = y\n",
    "            self.rect_flag = True\n",
    "        elif event == cv2.EVENT_LBUTTONUP:\n",
    "            self.rect_flag = False\n",
    "            # 记录用户的矩形大小\n",
    "            self.rect = (min(self.start_x, x), min(self.start_y, y),\n",
    "                         abs(self.start_x - x), abs(self.start_y - y))\n",
    "            cv2.rectangle(self.img, (self.start_x, self.start_y), (x, y), (0, 0, 255), 2)\n",
    "        elif event == cv2.EVENT_MOUSEMOVE and self.rect_flag:\n",
    "            # 画矩形\n",
    "            self.img = self.img2.copy()\n",
    "            cv2.rectangle(self.img, (self.start_x, self.start_y), (x, y), (0, 255, 0), 2)\n",
    "            \n",
    "    # 编辑模式\n",
    "    # 核心逻辑: 窗口 回调函数 图片\n",
    "    def run(self):\n",
    "        cv2.namedWindow('img')\n",
    "        # 绑定鼠标事件\n",
    "        cv2.setMouseCallback('img', self.on_mouse)\n",
    "        while True:\n",
    "            cv2.imshow('img', self.img)\n",
    "            cv2.imshow('output', self.output)\n",
    "            \n",
    "            key = cv2.waitKey(1)\n",
    "            if key == 27:\n",
    "                break\n",
    "            elif key == ord('g'):\n",
    "                # 进行切图\n",
    "                cv2.grabCut(self.img2, self.mask, self.rect, None, None, 5, \n",
    "                            mode=cv2.GC_INIT_WITH_RECT)\n",
    "            # 把前景或者可能是前景的位置设置为255, \n",
    "            mask2 = np.where((self.mask == 1) | (self.mask == 3), 255, 0).astype(np.uint8)\n",
    "            # 使用与运算.\n",
    "            self.output = cv2.bitwise_and(self.img2, self.img2, mask=mask2)\n",
    "        cv2.destroyAllWindows()\n",
    "        \n",
    "        \n",
    "app = App('./lena.png')\n",
    "app.run()"
   ]
  }
 ],
 "metadata": {
  "kernelspec": {
   "display_name": "Python 3 (ipykernel)",
   "language": "python",
   "name": "python3"
  },
  "language_info": {
   "codemirror_mode": {
    "name": "ipython",
    "version": 3
   },
   "file_extension": ".py",
   "mimetype": "text/x-python",
   "name": "python",
   "nbconvert_exporter": "python",
   "pygments_lexer": "ipython3",
   "version": "3.11.4"
  },
  "toc": {
   "base_numbering": 1,
   "nav_menu": {},
   "number_sections": true,
   "sideBar": true,
   "skip_h1_title": false,
   "title_cell": "Table of Contents",
   "title_sidebar": "Contents",
   "toc_cell": false,
   "toc_position": {},
   "toc_section_display": true,
   "toc_window_display": false
  }
 },
 "nbformat": 4,
 "nbformat_minor": 4
}
