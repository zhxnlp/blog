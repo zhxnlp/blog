{
 "cells": [
  {
   "cell_type": "markdown",
   "metadata": {},
   "source": [
    "### 中值滤波"
   ]
  },
  {
   "cell_type": "code",
   "execution_count": 1,
   "metadata": {
    "ExecuteTime": {
     "end_time": "2021-11-17T12:02:14.218852Z",
     "start_time": "2021-11-17T12:01:50.423138Z"
    }
   },
   "outputs": [],
   "source": [
    "import cv2\n",
    "import numpy as np\n",
    "\n",
    "img = cv2.imread('./papper.png')\n",
    "\n",
    "# 中值滤波\n",
    "dst = cv2.medianBlur(img, 5)\n",
    "\n",
    "# 椒盐噪声使用高斯滤波, 效果怎么样, 效果不好. 高斯滤波处理椒盐噪声效果不好\n",
    "# dst = cv2.GaussianBlur(img, (3, 3), sigmaX=2)\n",
    "\n",
    "cv2.imshow('img', np.hstack((img, dst)))\n",
    "\n",
    "cv2.waitKey(0)\n",
    "cv2.destroyAllWindows()"
   ]
  },
  {
   "cell_type": "markdown",
   "metadata": {},
   "source": [
    "### 双边滤波"
   ]
  },
  {
   "cell_type": "code",
   "execution_count": 2,
   "metadata": {
    "ExecuteTime": {
     "end_time": "2021-11-17T12:04:35.595775Z",
     "start_time": "2021-11-17T12:04:14.435533Z"
    }
   },
   "outputs": [],
   "source": [
    "import cv2\n",
    "import numpy as np\n",
    "\n",
    "img = cv2.imread('./lena.png')\n",
    "# 双边滤波对椒盐噪声几乎没效果.\n",
    "# img = cv2.imread('./papper.png')\n",
    "\n",
    "# dst = cv2.bilateralFilter(img, 7, sigmaColor=10, sigmaSpace=20)\n",
    "\n",
    "dst = cv2.bilateralFilter(img, 7, sigmaColor=10, sigmaSpace=20)\n",
    "cv2.imshow('img', np.hstack((img, dst)))\n",
    "\n",
    "cv2.waitKey(0)\n",
    "cv2.destroyAllWindows()"
   ]
  },
  {
   "cell_type": "markdown",
   "metadata": {},
   "source": [
    "### sobel算子"
   ]
  },
  {
   "cell_type": "code",
   "execution_count": 3,
   "metadata": {
    "ExecuteTime": {
     "end_time": "2021-11-17T12:11:31.935257Z",
     "start_time": "2021-11-17T12:11:15.556847Z"
    }
   },
   "outputs": [],
   "source": [
    "import cv2\n",
    "import numpy as np\n",
    "\n",
    "img = cv2.imread('./chess.png')\n",
    "\n",
    "# 注意sobel算子要分别计算x,y的梯度\n",
    "# 计算x轴方向的梯度, 只有垂直方向的边缘\n",
    "dx = cv2.Sobel(img, cv2.CV_64F, dx=1, dy=0, ksize=5)\n",
    "# 计算y轴方向的梯度, 只有水平方向的边缘\n",
    "dy = cv2.Sobel(img, cv2.CV_64F, dx=0, dy=1, ksize=5)\n",
    "\n",
    "# sobel算子必须分开计算x,y轴, 不然话效果很差.\n",
    "# dst = cv2.Sobel(img, cv2.CV_64F, dx=1, dy=1, ksize=3)\n",
    "\n",
    "# 使用sobel算子, 别忘了把x,y的梯度合并在一起. \n",
    "# dst = cv2.add(dx, dy)\n",
    "# 使用addWeighted也可以\n",
    "dst = cv2.addWeighted(dx, 0.5, dy, 0.5, gamma=0)\n",
    "\n",
    "cv2.imshow('chess', img)\n",
    "cv2.imshow('img', np.hstack((dx, dy)))\n",
    "cv2.imshow('dst', dst)\n",
    "\n",
    "cv2.waitKey(0)\n",
    "cv2.destroyAllWindows()"
   ]
  },
  {
   "cell_type": "markdown",
   "metadata": {},
   "source": [
    "### 沙尔算子"
   ]
  },
  {
   "cell_type": "code",
   "execution_count": 23,
   "metadata": {
    "ExecuteTime": {
     "end_time": "2021-11-15T13:45:08.754320Z",
     "start_time": "2021-11-15T13:44:09.881399Z"
    }
   },
   "outputs": [],
   "source": [
    "import cv2\n",
    "import numpy as np\n",
    "\n",
    "img = cv2.imread('./lena.png')\n",
    "\n",
    "# 注意sobel算子要分别计算x,y的梯度\n",
    "# 计算x轴方向的梯度, 只有垂直方向的边缘\n",
    "dx = cv2.Scharr(img, cv2.CV_64F, dx=1, dy=0)\n",
    "# 计算y轴方向的梯度, 只有水平方向的边缘\n",
    "dy = cv2.Scharr(img, cv2.CV_64F, dx=0, dy=1)\n",
    "\n",
    "# sobel算子必须分开计算x,y轴, 不然话效果很差.\n",
    "# dst = cv2.Sobel(img, cv2.CV_64F, dx=1, dy=1, ksize=3)\n",
    "\n",
    "# 使用sobel算子, 别忘了把x,y的梯度合并在一起. \n",
    "# dst = cv2.add(dx, dy)\n",
    "# 使用addWeighted也可以\n",
    "dst = cv2.addWeighted(dx, 0.5, dy, 0.5, gamma=0)\n",
    "\n",
    "cv2.imshow('img', np.hstack((dx, dy, dst)))\n",
    "\n",
    "cv2.waitKey(0)\n",
    "cv2.destroyAllWindows()"
   ]
  },
  {
   "cell_type": "markdown",
   "metadata": {},
   "source": [
    "### 拉普拉斯算子"
   ]
  },
  {
   "cell_type": "code",
   "execution_count": 4,
   "metadata": {
    "ExecuteTime": {
     "end_time": "2021-11-17T12:16:43.597237Z",
     "start_time": "2021-11-17T12:16:31.122974Z"
    }
   },
   "outputs": [],
   "source": [
    "import cv2\n",
    "import numpy as np\n",
    "\n",
    "img = cv2.imread('./chess.png')\n",
    "\n",
    "dst = cv2.Laplacian(img, -1, ksize=3)\n",
    "\n",
    "cv2.imshow('img', np.hstack((img, dst)))\n",
    "\n",
    "cv2.waitKey(0)\n",
    "cv2.destroyAllWindows()"
   ]
  }
 ],
 "metadata": {
  "kernelspec": {
   "display_name": "Python 3",
   "language": "python",
   "name": "python3"
  },
  "language_info": {
   "codemirror_mode": {
    "name": "ipython",
    "version": 3
   },
   "file_extension": ".py",
   "mimetype": "text/x-python",
   "name": "python",
   "nbconvert_exporter": "python",
   "pygments_lexer": "ipython3",
   "version": "3.6.8"
  },
  "toc": {
   "base_numbering": 1,
   "nav_menu": {},
   "number_sections": true,
   "sideBar": true,
   "skip_h1_title": false,
   "title_cell": "Table of Contents",
   "title_sidebar": "Contents",
   "toc_cell": false,
   "toc_position": {},
   "toc_section_display": true,
   "toc_window_display": false
  }
 },
 "nbformat": 4,
 "nbformat_minor": 4
}
