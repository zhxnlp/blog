{
 "cells": [
  {
   "cell_type": "code",
   "execution_count": 3,
   "metadata": {
    "ExecuteTime": {
     "end_time": "2021-12-06T12:58:55.849631Z",
     "start_time": "2021-12-06T12:56:14.930702Z"
    }
   },
   "outputs": [
    {
     "name": "stdout",
     "output_type": "stream",
     "text": [
      "(500, 32)\n"
     ]
    }
   ],
   "source": [
    "import cv2 \n",
    "import numpy as np\n",
    "\n",
    "img = cv2.imread('./chess.png')\n",
    "\n",
    "gray = cv2.cvtColor(img, cv2.COLOR_BGR2GRAY)\n",
    "\n",
    "# 创建ORB对象\n",
    "orb = cv2.ORB_create()\n",
    "\n",
    "# 进行检测\n",
    "kp = orb.detect(gray)\n",
    "\n",
    "# 计算描述子\n",
    "kp, des = orb.compute(img, kp)\n",
    "# ORB算法的描述子只有32维向量\n",
    "print(des.shape)\n",
    "\n",
    "# 也可以一步到位得到关键点和描述子\n",
    "kp, des = orb.detectAndCompute(img, None)\n",
    "\n",
    "# 绘制关键点\n",
    "cv2.drawKeypoints(gray, kp, img)\n",
    "cv2.imshow('ORB', img)\n",
    "cv2.waitKey(0)\n",
    "cv2.destroyAllWindows()"
   ]
  }
 ],
 "metadata": {
  "kernelspec": {
   "display_name": "Python 3",
   "language": "python",
   "name": "python3"
  },
  "language_info": {
   "codemirror_mode": {
    "name": "ipython",
    "version": 3
   },
   "file_extension": ".py",
   "mimetype": "text/x-python",
   "name": "python",
   "nbconvert_exporter": "python",
   "pygments_lexer": "ipython3",
   "version": "3.6.8"
  },
  "toc": {
   "base_numbering": 1,
   "nav_menu": {},
   "number_sections": true,
   "sideBar": true,
   "skip_h1_title": false,
   "title_cell": "Table of Contents",
   "title_sidebar": "Contents",
   "toc_cell": false,
   "toc_position": {},
   "toc_section_display": true,
   "toc_window_display": false
  }
 },
 "nbformat": 4,
 "nbformat_minor": 4
}
