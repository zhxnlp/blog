{
 "cells": [
  {
   "cell_type": "markdown",
   "metadata": {},
   "source": [
    "### shi-tomasi角点检测"
   ]
  },
  {
   "cell_type": "code",
   "execution_count": 9,
   "metadata": {
    "ExecuteTime": {
     "end_time": "2021-12-03T12:35:34.152680Z",
     "start_time": "2021-12-03T12:35:27.577168Z"
    }
   },
   "outputs": [
    {
     "name": "stdout",
     "output_type": "stream",
     "text": [
      "(191, 1, 2)\n"
     ]
    }
   ],
   "source": [
    "import cv2\n",
    "import numpy as np\n",
    "\n",
    "img = cv2.imread('chess.png')\n",
    "# img = cv2.imread('chess.png', flags=cv2.IMREAD_GRAYSCALE)\n",
    "\n",
    "# 灰度化\n",
    "gray = cv2.cvtColor(img, cv2.COLOR_BGR2GRAY)\n",
    "\n",
    "# shi-tomasi焦点检测\n",
    "corners = cv2.goodFeaturesToTrack(gray, maxCorners=1000, qualityLevel=0.1, minDistance=10)\n",
    "# print(corners)\n",
    "# print(type(corners))\n",
    "print(corners.shape)\n",
    "corners = np.int0(corners)\n",
    "# img[dst>0.01 * dst.max()]\n",
    "\n",
    "# 画出角点\n",
    "for i in corners:\n",
    "    # i相当于corners中的每一行数据\n",
    "    # ravel()把二维变一维了.即角点的坐标点\n",
    "    x,y = i.ravel()\n",
    "    cv2.circle(img, (x, y), 3, (0, 0, 255), -1)\n",
    "    \n",
    "cv2.imshow('Shi-Tomasi', img)\n",
    "cv2.waitKey(0)\n",
    "cv2.destroyAllWindows()"
   ]
  },
  {
   "cell_type": "markdown",
   "metadata": {},
   "source": [
    "### sift算法"
   ]
  },
  {
   "cell_type": "code",
   "execution_count": 7,
   "metadata": {
    "ExecuteTime": {
     "end_time": "2021-12-03T14:06:17.449794Z",
     "start_time": "2021-12-03T14:03:07.358689Z"
    },
    "scrolled": true
   },
   "outputs": [
    {
     "name": "stdout",
     "output_type": "stream",
     "text": [
      "766\n",
      "<class 'numpy.ndarray'>\n",
      "(766, 128)\n",
      "[  0.   0.   0.   0.   0.   0.   0.   0.   0.   0.   0.   0.   0.   0.\n",
      "  10.  12.   0.   0.   0.   0.   0.   0.  50.  11.   0.   0.   0.   0.\n",
      "   0.   0.  68.  11.   3.   0.   0.   0.   0.   0.   0.   8.  88.   1.\n",
      "   0.   0.   0.   0.  93. 171.  19.   0.   0.   0.   0.   0. 171. 151.\n",
      "   0.   0.   0.   0.   0.   0. 171.  62.   7.   1.   0.   0.   0.   0.\n",
      "   0.   1. 171.  36.   0.   0.   0.   0.   7.  56. 145.  15.   0.   0.\n",
      "   0.   0.  63.  46.   0.   0.   0.   0.   0.   0.  51.   8.   1.   0.\n",
      "   0.   0.   0.   0.   0.   0. 171.  44.   0.   0.   0.   0.   0.   0.\n",
      " 169.  26.   0.   0.   0.   0.   0.   0.   1.   0.   0.   0.   0.   0.\n",
      "   0.   0.]\n"
     ]
    }
   ],
   "source": [
    "import cv2\n",
    "import numpy as np\n",
    "\n",
    "img = cv2.imread('chess.png')\n",
    "# img = cv2.imread('chess.png', flags=cv2.IMREAD_GRAYSCALE)\n",
    "\n",
    "# 灰度化\n",
    "gray = cv2.cvtColor(img, cv2.COLOR_BGR2GRAY)\n",
    "\n",
    "# 创建sift对象\n",
    "sift = cv2.xfeatures2d.SIFT_create()\n",
    "\n",
    "# 进行检测\n",
    "kp = sift.detect(gray)\n",
    "\n",
    "# 计算描述子\n",
    "kp, des = sift.compute(gray, kp)\n",
    "# kp是一个列表, 里面存放的是封装的KeyPoint对象.\n",
    "# 还可以 一步到位计算\n",
    "kp, des = sift.detectAndCompute(gray, None)\n",
    "# print(kp)\n",
    "print(len(kp))\n",
    "print(type(des))\n",
    "print(des.shape)\n",
    "print(des[0])\n",
    "\n",
    "# 绘制关键点\n",
    "cv2.drawKeypoints(gray, kp, img)\n",
    "cv2.imshow('img', img)\n",
    "cv2.waitKey(0)\n",
    "cv2.destroyAllWindows()"
   ]
  },
  {
   "cell_type": "code",
   "execution_count": null,
   "metadata": {},
   "outputs": [],
   "source": []
  }
 ],
 "metadata": {
  "kernelspec": {
   "display_name": "Python 3",
   "language": "python",
   "name": "python3"
  },
  "language_info": {
   "codemirror_mode": {
    "name": "ipython",
    "version": 3
   },
   "file_extension": ".py",
   "mimetype": "text/x-python",
   "name": "python",
   "nbconvert_exporter": "python",
   "pygments_lexer": "ipython3",
   "version": "3.6.8"
  },
  "toc": {
   "base_numbering": 1,
   "nav_menu": {},
   "number_sections": true,
   "sideBar": true,
   "skip_h1_title": false,
   "title_cell": "Table of Contents",
   "title_sidebar": "Contents",
   "toc_cell": false,
   "toc_position": {},
   "toc_section_display": true,
   "toc_window_display": false
  }
 },
 "nbformat": 4,
 "nbformat_minor": 4
}
