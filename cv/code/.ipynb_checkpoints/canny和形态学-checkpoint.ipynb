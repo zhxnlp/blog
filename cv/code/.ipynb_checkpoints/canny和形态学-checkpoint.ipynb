{
 "cells": [
  {
   "cell_type": "markdown",
   "metadata": {},
   "source": [
    "### canny边缘检测"
   ]
  },
  {
   "cell_type": "code",
   "execution_count": null,
   "metadata": {
    "ExecuteTime": {
     "start_time": "2021-11-19T12:05:51.552Z"
    }
   },
   "outputs": [],
   "source": [
    "import cv2 \n",
    "import numpy as np\n",
    "\n",
    "\n",
    "# 导入图片\n",
    "img = cv2.imread('./lena.png')\n",
    "\n",
    "# 阈值给的稍大一些, 绘制的边缘不够精细\n",
    "lena1 = cv2.Canny(img, 100, 200)\n",
    "\n",
    "# 可以通过给小一点阈值, 得到较为精细的边缘\n",
    "lena2 = cv2.Canny(img, 64, 128)\n",
    "\n",
    "lena3 = cv2.Canny(img, 80, 150)\n",
    "cv2.imshow('lena', np.hstack((lena1, lena2, lena3)))\n",
    "\n",
    "cv2.waitKey(0)\n",
    "cv2.destroyAllWindows()"
   ]
  },
  {
   "cell_type": "markdown",
   "metadata": {},
   "source": [
    "### 全局二值化\n"
   ]
  },
  {
   "cell_type": "code",
   "execution_count": 10,
   "metadata": {
    "ExecuteTime": {
     "end_time": "2021-11-17T13:17:14.965317Z",
     "start_time": "2021-11-17T13:17:02.321177Z"
    }
   },
   "outputs": [
    {
     "name": "stdout",
     "output_type": "stream",
     "text": [
      "110.0\n"
     ]
    }
   ],
   "source": [
    "import cv2 \n",
    "import numpy as np\n",
    "\n",
    "\n",
    "# 导入图片\n",
    "img = cv2.imread('./dog.jpeg')\n",
    "\n",
    "# 二值化操作是对灰度图像操作, 把dog变成灰度图像\n",
    "gray = cv2.cvtColor(img, cv2.COLOR_BGR2GRAY)\n",
    "\n",
    "# 注意, threshold会返回两个值, 一个是阈值, 二值化处理后的图片\n",
    "thresh, dst = cv2.threshold(gray, 110, 255, cv2.THRESH_BINARY)\n",
    "\n",
    "print(thresh)\n",
    "# 展示\n",
    "cv2.imshow('dog', np.hstack((gray, dst)))\n",
    "cv2.waitKey(0)\n",
    "cv2.destroyAllWindows()"
   ]
  },
  {
   "cell_type": "markdown",
   "metadata": {},
   "source": [
    "### 自适应阈值二值化"
   ]
  },
  {
   "cell_type": "code",
   "execution_count": 17,
   "metadata": {
    "ExecuteTime": {
     "end_time": "2021-11-17T13:26:31.166865Z",
     "start_time": "2021-11-17T13:26:23.239840Z"
    }
   },
   "outputs": [],
   "source": [
    "import cv2 \n",
    "import numpy as np\n",
    "\n",
    "\n",
    "# 导入图片\n",
    "img = cv2.imread('./dog.jpeg')\n",
    "\n",
    "# 二值化操作是对灰度图像操作, 把dog变成灰度图像\n",
    "gray = cv2.cvtColor(img, cv2.COLOR_BGR2GRAY)\n",
    "\n",
    "# 自适应阈值二值化只有一个返回值,\n",
    "dst = cv2.adaptiveThreshold(gray, 255, cv2.ADAPTIVE_THRESH_GAUSSIAN_C, cv2.THRESH_BINARY, 19, 0)\n",
    "\n",
    "# 展示\n",
    "cv2.imshow('dog', np.hstack((gray, dst)))\n",
    "cv2.waitKey(0)\n",
    "cv2.destroyAllWindows()"
   ]
  },
  {
   "cell_type": "code",
   "execution_count": 22,
   "metadata": {
    "ExecuteTime": {
     "end_time": "2021-11-17T13:31:57.271502Z",
     "start_time": "2021-11-17T13:31:10.784834Z"
    }
   },
   "outputs": [
    {
     "name": "stdout",
     "output_type": "stream",
     "text": [
      "180.0\n"
     ]
    }
   ],
   "source": [
    "# 更加具有代表性的例子\n",
    "import cv2 \n",
    "import numpy as np\n",
    "\n",
    "\n",
    "# 导入图片\n",
    "img = cv2.imread('./math.png')\n",
    "\n",
    "# 创建窗口调整显示的大小\n",
    "cv2.namedWindow('img', cv2.WINDOW_NORMAL)\n",
    "cv2.resizeWindow('img', 640, 480)\n",
    "\n",
    "# 二值化操作是对灰度图像操作, 把dog变成灰度图像\n",
    "gray = cv2.cvtColor(img, cv2.COLOR_BGR2GRAY)\n",
    "\n",
    "# 我们发现适应全局阈值二值化, 对图片光线不好的地方效果不太好\n",
    "thresh, dst = cv2.threshold(gray, 180, 255, cv2.THRESH_BINARY)\n",
    "\n",
    "print(thresh)\n",
    "# 展示\n",
    "cv2.imshow('img', np.hstack((gray, dst)))\n",
    "cv2.waitKey(0)\n",
    "cv2.destroyAllWindows()"
   ]
  },
  {
   "cell_type": "code",
   "execution_count": 26,
   "metadata": {
    "ExecuteTime": {
     "end_time": "2021-11-17T13:36:11.064595Z",
     "start_time": "2021-11-17T13:34:53.689382Z"
    }
   },
   "outputs": [
    {
     "name": "stdout",
     "output_type": "stream",
     "text": [
      "180.0\n"
     ]
    }
   ],
   "source": [
    "# 使用自适应阈值二值化\n",
    "# 更加具有代表性的例子\n",
    "import cv2 \n",
    "import numpy as np\n",
    "\n",
    "\n",
    "# 导入图片\n",
    "img = cv2.imread('./math.png')\n",
    "\n",
    "# 创建窗口调整显示的大小\n",
    "cv2.namedWindow('img', cv2.WINDOW_NORMAL)\n",
    "cv2.resizeWindow('img', 1080, 720)\n",
    "\n",
    "# 二值化操作是对灰度图像操作, 把dog变成灰度图像\n",
    "gray = cv2.cvtColor(img, cv2.COLOR_BGR2GRAY)\n",
    "\n",
    "# 我们发现适应全局阈值二值化, 对图片光线不好的地方效果不太好\n",
    "dst = cv2.adaptiveThreshold(gray, 255, cv2.ADAPTIVE_THRESH_GAUSSIAN_C, cv2.THRESH_BINARY_INV, 5, 0)\n",
    "\n",
    "print(thresh)\n",
    "# 展示\n",
    "cv2.imshow('img', np.hstack((gray, dst)))\n",
    "cv2.waitKey(0)\n",
    "cv2.destroyAllWindows()"
   ]
  },
  {
   "cell_type": "markdown",
   "metadata": {},
   "source": [
    "### 腐蚀操作"
   ]
  },
  {
   "cell_type": "code",
   "execution_count": 41,
   "metadata": {
    "ExecuteTime": {
     "end_time": "2021-11-17T13:59:01.040043Z",
     "start_time": "2021-11-17T13:58:44.007505Z"
    }
   },
   "outputs": [],
   "source": [
    "import cv2 \n",
    "import numpy as np\n",
    "\n",
    "\n",
    "# 导入图片\n",
    "img = cv2.imread('./msb.png')\n",
    "\n",
    "# 定义核\n",
    "kernel = np.ones((5, 5), np.uint8)\n",
    "dst = cv2.erode(img, kernel, iterations=1)\n",
    "\n",
    "cv2.imshow('img', np.hstack((img, dst)))\n",
    "\n",
    "cv2.waitKey(0)\n",
    "cv2.destroyAllWindows()"
   ]
  },
  {
   "cell_type": "markdown",
   "metadata": {},
   "source": [
    "### 获取形态学卷积核"
   ]
  },
  {
   "cell_type": "code",
   "execution_count": 38,
   "metadata": {
    "ExecuteTime": {
     "end_time": "2021-11-17T13:54:00.355698Z",
     "start_time": "2021-11-17T13:53:51.471148Z"
    },
    "scrolled": true
   },
   "outputs": [
    {
     "name": "stdout",
     "output_type": "stream",
     "text": [
      "[[0 0 1 0 0]\n",
      " [0 0 1 0 0]\n",
      " [1 1 1 1 1]\n",
      " [0 0 1 0 0]\n",
      " [0 0 1 0 0]]\n"
     ]
    }
   ],
   "source": [
    "import cv2 \n",
    "import numpy as np\n",
    "\n",
    "img = cv2.imread('./j.png')\n",
    "\n",
    "kernel = cv2.getStructuringElement(cv2.MORPH_CROSS, (5, 5))\n",
    "print(kernel)\n",
    "\n",
    "# 腐蚀\n",
    "dst = cv2.erode(img, kernel)\n",
    "\n",
    "cv2.imshow('img', np.hstack((img, dst)))\n",
    "\n",
    "cv2.waitKey(0)\n",
    "cv2.destroyAllWindows()"
   ]
  },
  {
   "cell_type": "markdown",
   "metadata": {},
   "source": [
    "### 膨胀操作\n"
   ]
  },
  {
   "cell_type": "code",
   "execution_count": 40,
   "metadata": {
    "ExecuteTime": {
     "end_time": "2021-11-17T13:58:23.291572Z",
     "start_time": "2021-11-17T13:58:14.534635Z"
    },
    "collapsed": true
   },
   "outputs": [
    {
     "name": "stdout",
     "output_type": "stream",
     "text": [
      "[[1 1 1 1 1]\n",
      " [1 1 1 1 1]\n",
      " [1 1 1 1 1]\n",
      " [1 1 1 1 1]\n",
      " [1 1 1 1 1]]\n"
     ]
    }
   ],
   "source": [
    "import cv2 \n",
    "import numpy as np\n",
    "\n",
    "img = cv2.imread('./j.png')\n",
    "\n",
    "kernel = cv2.getStructuringElement(cv2.MORPH_RECT, (5, 5))\n",
    "\n",
    "# 膨胀\n",
    "dst = cv2.dilate(img, kernel, iterations=1)\n",
    "\n",
    "cv2.imshow('img', np.hstack((img, dst)))\n",
    "\n",
    "cv2.waitKey(0)\n",
    "cv2.destroyAllWindows()"
   ]
  },
  {
   "cell_type": "code",
   "execution_count": 42,
   "metadata": {
    "ExecuteTime": {
     "end_time": "2021-11-17T14:00:52.276260Z",
     "start_time": "2021-11-17T14:00:10.749096Z"
    }
   },
   "outputs": [],
   "source": [
    "# 膨胀和腐蚀简单应用\n",
    "import cv2 \n",
    "import numpy as np\n",
    "\n",
    "\n",
    "# 导入图片\n",
    "img = cv2.imread('./msb.png')\n",
    "\n",
    "# 定义核\n",
    "kernel = np.ones((5, 5), np.uint8)\n",
    "# 先腐蚀\n",
    "dst = cv2.erode(img, kernel, iterations=1)\n",
    "\n",
    "# 再膨胀\n",
    "dst = cv2.dilate(dst, kernel, iterations=1)\n",
    "cv2.imshow('img', np.hstack((img, dst)))\n",
    "\n",
    "cv2.waitKey(0)\n",
    "cv2.destroyAllWindows()"
   ]
  }
 ],
 "metadata": {
  "kernelspec": {
   "display_name": "Python 3",
   "language": "python",
   "name": "python3"
  },
  "language_info": {
   "codemirror_mode": {
    "name": "ipython",
    "version": 3
   },
   "file_extension": ".py",
   "mimetype": "text/x-python",
   "name": "python",
   "nbconvert_exporter": "python",
   "pygments_lexer": "ipython3",
   "version": "3.6.8"
  },
  "toc": {
   "base_numbering": 1,
   "nav_menu": {},
   "number_sections": true,
   "sideBar": true,
   "skip_h1_title": false,
   "title_cell": "Table of Contents",
   "title_sidebar": "Contents",
   "toc_cell": false,
   "toc_position": {},
   "toc_section_display": true,
   "toc_window_display": false
  }
 },
 "nbformat": 4,
 "nbformat_minor": 4
}
