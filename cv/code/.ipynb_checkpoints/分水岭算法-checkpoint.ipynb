{
 "cells": [
  {
   "cell_type": "code",
   "execution_count": 1,
   "metadata": {
    "ExecuteTime": {
     "end_time": "2021-12-24T12:05:09.528821Z",
     "start_time": "2021-12-24T12:05:09.513861Z"
    }
   },
   "outputs": [],
   "source": [
    "import argparse "
   ]
  },
  {
   "cell_type": "code",
   "execution_count": 2,
   "metadata": {
    "ExecuteTime": {
     "end_time": "2021-12-24T12:05:23.632620Z",
     "start_time": "2021-12-24T12:05:23.622647Z"
    }
   },
   "outputs": [],
   "source": [
    "ap = argparse.ArgumentParser()"
   ]
  },
  {
   "cell_type": "code",
   "execution_count": null,
   "metadata": {},
   "outputs": [],
   "source": [
    "ap.add_argument()"
   ]
  },
  {
   "cell_type": "code",
   "execution_count": 3,
   "metadata": {
    "ExecuteTime": {
     "end_time": "2021-12-24T12:10:08.941390Z",
     "start_time": "2021-12-24T12:10:08.930419Z"
    }
   },
   "outputs": [],
   "source": [
    "class A:\n",
    "    def __init__(self, x, y):\n",
    "        self.x = x\n",
    "        self.y = y\n",
    "a = A(1, 2)"
   ]
  },
  {
   "cell_type": "code",
   "execution_count": 4,
   "metadata": {
    "ExecuteTime": {
     "end_time": "2021-12-24T12:10:12.602220Z",
     "start_time": "2021-12-24T12:10:12.590252Z"
    }
   },
   "outputs": [
    {
     "data": {
      "text/plain": [
       "1"
      ]
     },
     "execution_count": 4,
     "metadata": {},
     "output_type": "execute_result"
    }
   ],
   "source": [
    "a.x"
   ]
  },
  {
   "cell_type": "code",
   "execution_count": 5,
   "metadata": {
    "ExecuteTime": {
     "end_time": "2021-12-24T12:10:14.461323Z",
     "start_time": "2021-12-24T12:10:14.446360Z"
    }
   },
   "outputs": [
    {
     "data": {
      "text/plain": [
       "2"
      ]
     },
     "execution_count": 5,
     "metadata": {},
     "output_type": "execute_result"
    }
   ],
   "source": [
    "a.y"
   ]
  },
  {
   "cell_type": "code",
   "execution_count": 6,
   "metadata": {
    "ExecuteTime": {
     "end_time": "2021-12-24T12:10:22.296693Z",
     "start_time": "2021-12-24T12:10:22.279232Z"
    }
   },
   "outputs": [
    {
     "data": {
      "text/plain": [
       "{'x': 1, 'y': 2}"
      ]
     },
     "execution_count": 6,
     "metadata": {},
     "output_type": "execute_result"
    }
   ],
   "source": [
    "vars(a)"
   ]
  },
  {
   "cell_type": "code",
   "execution_count": 7,
   "metadata": {
    "ExecuteTime": {
     "end_time": "2021-12-24T12:10:39.170129Z",
     "start_time": "2021-12-24T12:10:39.151179Z"
    },
    "collapsed": true
   },
   "outputs": [
    {
     "data": {
      "text/plain": [
       "{'__name__': '__main__',\n",
       " '__doc__': 'Automatically created module for IPython interactive environment',\n",
       " '__package__': None,\n",
       " '__loader__': None,\n",
       " '__spec__': None,\n",
       " '__builtin__': <module 'builtins' (built-in)>,\n",
       " '__builtins__': <module 'builtins' (built-in)>,\n",
       " '_ih': ['',\n",
       "  'import argparse ',\n",
       "  'ap = argparse.ArgumentParser()',\n",
       "  'class A:\\n    def __init__(self, x, y):\\n        self.x = x\\n        self.y = y\\na = A(1, 2)',\n",
       "  'a.x',\n",
       "  'a.y',\n",
       "  'vars(a)',\n",
       "  'vars()'],\n",
       " '_oh': {4: 1, 5: 2, 6: {'x': 1, 'y': 2}},\n",
       " '_dh': ['D:\\\\AIoT-深度学习视频版\\\\基于opencv的机器视觉\\\\day21_图像分割与修复(一)\\\\代码'],\n",
       " 'In': ['',\n",
       "  'import argparse ',\n",
       "  'ap = argparse.ArgumentParser()',\n",
       "  'class A:\\n    def __init__(self, x, y):\\n        self.x = x\\n        self.y = y\\na = A(1, 2)',\n",
       "  'a.x',\n",
       "  'a.y',\n",
       "  'vars(a)',\n",
       "  'vars()'],\n",
       " 'Out': {4: 1, 5: 2, 6: {'x': 1, 'y': 2}},\n",
       " 'get_ipython': <bound method InteractiveShell.get_ipython of <ipykernel.zmqshell.ZMQInteractiveShell object at 0x000001BA4BC897F0>>,\n",
       " 'exit': <IPython.core.autocall.ZMQExitAutocall at 0x1ba4bd1e6a0>,\n",
       " 'quit': <IPython.core.autocall.ZMQExitAutocall at 0x1ba4bd1e6a0>,\n",
       " '_': {'x': 1, 'y': 2},\n",
       " '__': 2,\n",
       " '___': 1,\n",
       " '__path__': ['d:\\\\2005\\\\.venv\\\\lib\\\\site-packages\\\\pyforest'],\n",
       " '__cached__': 'd:\\\\2005\\\\.venv\\\\lib\\\\site-packages\\\\pyforest\\\\__pycache__\\\\__init__.cpython-36.pyc',\n",
       " '_importable': <module 'pyforest._importable' from 'd:\\\\2005\\\\.venv\\\\lib\\\\site-packages\\\\pyforest\\\\_importable.py'>,\n",
       " 'user_specific_imports': <module 'pyforest.user_specific_imports' from 'd:\\\\2005\\\\.venv\\\\lib\\\\site-packages\\\\pyforest\\\\user_specific_imports.py'>,\n",
       " '_imports': <module 'pyforest._imports' from 'd:\\\\2005\\\\.venv\\\\lib\\\\site-packages\\\\pyforest\\\\_imports.py'>,\n",
       " 'LazyImport': pyforest._importable.LazyImport,\n",
       " 'pd': lazy pyforest.LazyImport for 'import pandas as pd',\n",
       " 'np': lazy pyforest.LazyImport for 'import numpy as np',\n",
       " 'dd': lazy pyforest.LazyImport for 'from dask import dataframe as dd',\n",
       " 'SparkContext': lazy pyforest.LazyImport for 'from pyspark import SparkContext',\n",
       " 'load_workbook': lazy pyforest.LazyImport for 'from openpyxl import load_workbook',\n",
       " 'wr': lazy pyforest.LazyImport for 'import awswrangler as wr',\n",
       " 'mpl': lazy pyforest.LazyImport for 'import matplotlib as mpl',\n",
       " 'plt': lazy pyforest.LazyImport for 'import matplotlib.pyplot as plt',\n",
       " 'sns': lazy pyforest.LazyImport for 'import seaborn as sns',\n",
       " 'py': lazy pyforest.LazyImport for 'import plotly as py',\n",
       " 'go': lazy pyforest.LazyImport for 'import plotly.graph_objs as go',\n",
       " 'px': lazy pyforest.LazyImport for 'import plotly.express as px',\n",
       " 'dash': lazy pyforest.LazyImport for 'import dash',\n",
       " 'bokeh': lazy pyforest.LazyImport for 'import bokeh',\n",
       " 'alt': lazy pyforest.LazyImport for 'import altair as alt',\n",
       " 'pydot': lazy pyforest.LazyImport for 'import pydot',\n",
       " 'statistics': lazy pyforest.LazyImport for 'import statistics',\n",
       " 'sklearn': lazy pyforest.LazyImport for 'import sklearn',\n",
       " 'OneHotEncoder': lazy pyforest.LazyImport for 'from sklearn.preprocessing import OneHotEncoder',\n",
       " 'TSNE': lazy pyforest.LazyImport for 'from sklearn.manifold import TSNE',\n",
       " 'train_test_split': lazy pyforest.LazyImport for 'from sklearn.model_selection import train_test_split',\n",
       " 'svm': lazy pyforest.LazyImport for 'from sklearn import svm',\n",
       " 'GradientBoostingClassifier': lazy pyforest.LazyImport for 'from sklearn.ensemble import GradientBoostingClassifier',\n",
       " 'GradientBoostingRegressor': lazy pyforest.LazyImport for 'from sklearn.ensemble import GradientBoostingRegressor',\n",
       " 'RandomForestClassifier': lazy pyforest.LazyImport for 'from sklearn.ensemble import RandomForestClassifier',\n",
       " 'RandomForestRegressor': lazy pyforest.LazyImport for 'from sklearn.ensemble import RandomForestRegressor',\n",
       " 'TfidfVectorizer': lazy pyforest.LazyImport for 'from sklearn.feature_extraction.text import TfidfVectorizer',\n",
       " 'xgb': lazy pyforest.LazyImport for 'import xgboost as xgb',\n",
       " 'lgb': lazy pyforest.LazyImport for 'import lightgbm as lgb',\n",
       " 'tf': lazy pyforest.LazyImport for 'import tensorflow as tf',\n",
       " 'keras': lazy pyforest.LazyImport for 'import keras',\n",
       " 'nltk': lazy pyforest.LazyImport for 'import nltk',\n",
       " 'gensim': lazy pyforest.LazyImport for 'import gensim',\n",
       " 'spacy': lazy pyforest.LazyImport for 'import spacy',\n",
       " 're': lazy pyforest.LazyImport for 'import re',\n",
       " 'sys': lazy pyforest.LazyImport for 'import sys',\n",
       " 'os': lazy pyforest.LazyImport for 'import os',\n",
       " 'glob': lazy pyforest.LazyImport for 'import glob',\n",
       " 'Path': lazy pyforest.LazyImport for 'from pathlib import Path',\n",
       " 'pickle': lazy pyforest.LazyImport for 'import pickle',\n",
       " 'dt': lazy pyforest.LazyImport for 'import datetime as dt',\n",
       " 'tqdm': lazy pyforest.LazyImport for 'import tqdm',\n",
       " 'lazy_imports': <function pyforest._imports.lazy_imports()>,\n",
       " 'active_imports': <function pyforest._imports.active_imports(print_statements=True)>,\n",
       " 'utils': <module 'pyforest.utils' from 'd:\\\\2005\\\\.venv\\\\lib\\\\site-packages\\\\pyforest\\\\utils.py'>,\n",
       " 'get_user_symbols': <function pyforest.utils.get_user_symbols()>,\n",
       " 'install_extensions': <function pyforest.utils.install_extensions()>,\n",
       " 'install_nbextension': <function pyforest.utils.install_nbextension()>,\n",
       " 'install_labextension': <function pyforest.utils.install_labextension()>,\n",
       " 'user_symbols': {...},\n",
       " 'pyforest': <module 'pyforest' from 'd:\\\\2005\\\\.venv\\\\lib\\\\site-packages\\\\pyforest\\\\__init__.py'>,\n",
       " '_i': 'vars(a)',\n",
       " '_ii': 'a.y',\n",
       " '_iii': 'a.x',\n",
       " '_i1': 'import argparse ',\n",
       " 'argparse': <module 'argparse' from 'c:\\\\users\\\\supercoldzzz\\\\appdata\\\\local\\\\programs\\\\python\\\\python36\\\\lib\\\\argparse.py'>,\n",
       " '_i2': 'ap = argparse.ArgumentParser()',\n",
       " 'ap': ArgumentParser(prog='ipykernel_launcher.py', usage=None, description=None, formatter_class=<class 'argparse.HelpFormatter'>, conflict_handler='error', add_help=True),\n",
       " '_i3': 'class A:\\n    def __init__(self, x, y):\\n        self.x = x\\n        self.y = y\\na = A(1, 2)',\n",
       " 'A': __main__.A,\n",
       " 'a': <__main__.A at 0x1ba4f076a90>,\n",
       " '_i4': 'a.x',\n",
       " '_4': 1,\n",
       " '_i5': 'a.y',\n",
       " '_5': 2,\n",
       " '_i6': 'vars(a)',\n",
       " '_6': {'x': 1, 'y': 2},\n",
       " '_i7': 'vars()'}"
      ]
     },
     "execution_count": 7,
     "metadata": {},
     "output_type": "execute_result"
    }
   ],
   "source": [
    "vars()"
   ]
  },
  {
   "cell_type": "code",
   "execution_count": 8,
   "metadata": {
    "ExecuteTime": {
     "end_time": "2021-12-24T12:10:58.524615Z",
     "start_time": "2021-12-24T12:10:58.511649Z"
    },
    "collapsed": true
   },
   "outputs": [
    {
     "data": {
      "text/plain": [
       "{'__name__': '__main__',\n",
       " '__doc__': 'Automatically created module for IPython interactive environment',\n",
       " '__package__': None,\n",
       " '__loader__': None,\n",
       " '__spec__': None,\n",
       " '__builtin__': <module 'builtins' (built-in)>,\n",
       " '__builtins__': <module 'builtins' (built-in)>,\n",
       " '_ih': ['',\n",
       "  'import argparse ',\n",
       "  'ap = argparse.ArgumentParser()',\n",
       "  'class A:\\n    def __init__(self, x, y):\\n        self.x = x\\n        self.y = y\\na = A(1, 2)',\n",
       "  'a.x',\n",
       "  'a.y',\n",
       "  'vars(a)',\n",
       "  'vars()',\n",
       "  'globals()'],\n",
       " '_oh': {4: 1, 5: 2, 6: {'x': 1, 'y': 2}, 7: {...}},\n",
       " '_dh': ['D:\\\\AIoT-深度学习视频版\\\\基于opencv的机器视觉\\\\day21_图像分割与修复(一)\\\\代码'],\n",
       " 'In': ['',\n",
       "  'import argparse ',\n",
       "  'ap = argparse.ArgumentParser()',\n",
       "  'class A:\\n    def __init__(self, x, y):\\n        self.x = x\\n        self.y = y\\na = A(1, 2)',\n",
       "  'a.x',\n",
       "  'a.y',\n",
       "  'vars(a)',\n",
       "  'vars()',\n",
       "  'globals()'],\n",
       " 'Out': {4: 1, 5: 2, 6: {'x': 1, 'y': 2}, 7: {...}},\n",
       " 'get_ipython': <bound method InteractiveShell.get_ipython of <ipykernel.zmqshell.ZMQInteractiveShell object at 0x000001BA4BC897F0>>,\n",
       " 'exit': <IPython.core.autocall.ZMQExitAutocall at 0x1ba4bd1e6a0>,\n",
       " 'quit': <IPython.core.autocall.ZMQExitAutocall at 0x1ba4bd1e6a0>,\n",
       " '_': {...},\n",
       " '__': {'x': 1, 'y': 2},\n",
       " '___': 2,\n",
       " '__path__': ['d:\\\\2005\\\\.venv\\\\lib\\\\site-packages\\\\pyforest'],\n",
       " '__cached__': 'd:\\\\2005\\\\.venv\\\\lib\\\\site-packages\\\\pyforest\\\\__pycache__\\\\__init__.cpython-36.pyc',\n",
       " '_importable': <module 'pyforest._importable' from 'd:\\\\2005\\\\.venv\\\\lib\\\\site-packages\\\\pyforest\\\\_importable.py'>,\n",
       " 'user_specific_imports': <module 'pyforest.user_specific_imports' from 'd:\\\\2005\\\\.venv\\\\lib\\\\site-packages\\\\pyforest\\\\user_specific_imports.py'>,\n",
       " '_imports': <module 'pyforest._imports' from 'd:\\\\2005\\\\.venv\\\\lib\\\\site-packages\\\\pyforest\\\\_imports.py'>,\n",
       " 'LazyImport': pyforest._importable.LazyImport,\n",
       " 'pd': lazy pyforest.LazyImport for 'import pandas as pd',\n",
       " 'np': lazy pyforest.LazyImport for 'import numpy as np',\n",
       " 'dd': lazy pyforest.LazyImport for 'from dask import dataframe as dd',\n",
       " 'SparkContext': lazy pyforest.LazyImport for 'from pyspark import SparkContext',\n",
       " 'load_workbook': lazy pyforest.LazyImport for 'from openpyxl import load_workbook',\n",
       " 'wr': lazy pyforest.LazyImport for 'import awswrangler as wr',\n",
       " 'mpl': lazy pyforest.LazyImport for 'import matplotlib as mpl',\n",
       " 'plt': lazy pyforest.LazyImport for 'import matplotlib.pyplot as plt',\n",
       " 'sns': lazy pyforest.LazyImport for 'import seaborn as sns',\n",
       " 'py': lazy pyforest.LazyImport for 'import plotly as py',\n",
       " 'go': lazy pyforest.LazyImport for 'import plotly.graph_objs as go',\n",
       " 'px': lazy pyforest.LazyImport for 'import plotly.express as px',\n",
       " 'dash': lazy pyforest.LazyImport for 'import dash',\n",
       " 'bokeh': lazy pyforest.LazyImport for 'import bokeh',\n",
       " 'alt': lazy pyforest.LazyImport for 'import altair as alt',\n",
       " 'pydot': lazy pyforest.LazyImport for 'import pydot',\n",
       " 'statistics': lazy pyforest.LazyImport for 'import statistics',\n",
       " 'sklearn': lazy pyforest.LazyImport for 'import sklearn',\n",
       " 'OneHotEncoder': lazy pyforest.LazyImport for 'from sklearn.preprocessing import OneHotEncoder',\n",
       " 'TSNE': lazy pyforest.LazyImport for 'from sklearn.manifold import TSNE',\n",
       " 'train_test_split': lazy pyforest.LazyImport for 'from sklearn.model_selection import train_test_split',\n",
       " 'svm': lazy pyforest.LazyImport for 'from sklearn import svm',\n",
       " 'GradientBoostingClassifier': lazy pyforest.LazyImport for 'from sklearn.ensemble import GradientBoostingClassifier',\n",
       " 'GradientBoostingRegressor': lazy pyforest.LazyImport for 'from sklearn.ensemble import GradientBoostingRegressor',\n",
       " 'RandomForestClassifier': lazy pyforest.LazyImport for 'from sklearn.ensemble import RandomForestClassifier',\n",
       " 'RandomForestRegressor': lazy pyforest.LazyImport for 'from sklearn.ensemble import RandomForestRegressor',\n",
       " 'TfidfVectorizer': lazy pyforest.LazyImport for 'from sklearn.feature_extraction.text import TfidfVectorizer',\n",
       " 'xgb': lazy pyforest.LazyImport for 'import xgboost as xgb',\n",
       " 'lgb': lazy pyforest.LazyImport for 'import lightgbm as lgb',\n",
       " 'tf': lazy pyforest.LazyImport for 'import tensorflow as tf',\n",
       " 'keras': lazy pyforest.LazyImport for 'import keras',\n",
       " 'nltk': lazy pyforest.LazyImport for 'import nltk',\n",
       " 'gensim': lazy pyforest.LazyImport for 'import gensim',\n",
       " 'spacy': lazy pyforest.LazyImport for 'import spacy',\n",
       " 're': lazy pyforest.LazyImport for 'import re',\n",
       " 'sys': lazy pyforest.LazyImport for 'import sys',\n",
       " 'os': lazy pyforest.LazyImport for 'import os',\n",
       " 'glob': lazy pyforest.LazyImport for 'import glob',\n",
       " 'Path': lazy pyforest.LazyImport for 'from pathlib import Path',\n",
       " 'pickle': lazy pyforest.LazyImport for 'import pickle',\n",
       " 'dt': lazy pyforest.LazyImport for 'import datetime as dt',\n",
       " 'tqdm': lazy pyforest.LazyImport for 'import tqdm',\n",
       " 'lazy_imports': <function pyforest._imports.lazy_imports()>,\n",
       " 'active_imports': <function pyforest._imports.active_imports(print_statements=True)>,\n",
       " 'utils': <module 'pyforest.utils' from 'd:\\\\2005\\\\.venv\\\\lib\\\\site-packages\\\\pyforest\\\\utils.py'>,\n",
       " 'get_user_symbols': <function pyforest.utils.get_user_symbols()>,\n",
       " 'install_extensions': <function pyforest.utils.install_extensions()>,\n",
       " 'install_nbextension': <function pyforest.utils.install_nbextension()>,\n",
       " 'install_labextension': <function pyforest.utils.install_labextension()>,\n",
       " 'user_symbols': {...},\n",
       " 'pyforest': <module 'pyforest' from 'd:\\\\2005\\\\.venv\\\\lib\\\\site-packages\\\\pyforest\\\\__init__.py'>,\n",
       " '_i': 'vars()',\n",
       " '_ii': 'vars(a)',\n",
       " '_iii': 'a.y',\n",
       " '_i1': 'import argparse ',\n",
       " 'argparse': <module 'argparse' from 'c:\\\\users\\\\supercoldzzz\\\\appdata\\\\local\\\\programs\\\\python\\\\python36\\\\lib\\\\argparse.py'>,\n",
       " '_i2': 'ap = argparse.ArgumentParser()',\n",
       " 'ap': ArgumentParser(prog='ipykernel_launcher.py', usage=None, description=None, formatter_class=<class 'argparse.HelpFormatter'>, conflict_handler='error', add_help=True),\n",
       " '_i3': 'class A:\\n    def __init__(self, x, y):\\n        self.x = x\\n        self.y = y\\na = A(1, 2)',\n",
       " 'A': __main__.A,\n",
       " 'a': <__main__.A at 0x1ba4f076a90>,\n",
       " '_i4': 'a.x',\n",
       " '_4': 1,\n",
       " '_i5': 'a.y',\n",
       " '_5': 2,\n",
       " '_i6': 'vars(a)',\n",
       " '_6': {'x': 1, 'y': 2},\n",
       " '_i7': 'vars()',\n",
       " '_7': {...},\n",
       " '_i8': 'globals()'}"
      ]
     },
     "execution_count": 8,
     "metadata": {},
     "output_type": "execute_result"
    }
   ],
   "source": [
    "globals()"
   ]
  },
  {
   "cell_type": "code",
   "execution_count": 9,
   "metadata": {
    "ExecuteTime": {
     "end_time": "2021-12-24T12:18:12.066846Z",
     "start_time": "2021-12-24T12:18:12.049384Z"
    }
   },
   "outputs": [],
   "source": [
    "# 封装显示图片的函数\n",
    "def cv_show(name, img):\n",
    "    cv2.imshow(name, img)\n",
    "    cv2.waitKey(0)\n",
    "    cv2.destroyAllWindows()"
   ]
  },
  {
   "cell_type": "code",
   "execution_count": 20,
   "metadata": {
    "ExecuteTime": {
     "end_time": "2021-12-24T12:37:24.601873Z",
     "start_time": "2021-12-24T12:36:28.239992Z"
    },
    "collapsed": true
   },
   "outputs": [
    {
     "name": "stdout",
     "output_type": "stream",
     "text": [
      "24\n",
      "0\n"
     ]
    },
    {
     "data": {
      "image/png": "[encoded data removed]",
      "text/plain": [
       "<Figure size 432x288 with 1 Axes>"
      ]
     },
     "metadata": {
      "needs_background": "light"
     },
     "output_type": "display_data"
    }
   ],
   "source": [
    "import cv2\n",
    "import numpy as np\n",
    "import matplotlib.pyplot as plt\n",
    "\n",
    "img = cv2.imread('water_coins.jpeg')\n",
    "gray = cv2.cvtColor(img, cv2.COLOR_BGR2GRAY)\n",
    "\n",
    "# cv_show('gray', gray)\n",
    "\n",
    "_ = plt.hist(gray.ravel(), bins=256, range=[0, 255])\n",
    "# 二值化处理, 这是一个典型的双峰结构, 我们使用大津算法进行二值化处理\n",
    "_, thresh = cv2.threshold(gray, 0, 255, cv2.THRESH_BINARY_INV | cv2.THRESH_OTSU)\n",
    "# 发现二值化之后的图片, 存在毛边, 和一些小的噪点.\n",
    "# cv_show('thresh', thresh)\n",
    "# 做一个开运算.\n",
    "kernel = cv2.getStructuringElement(cv2.MORPH_RECT, (3, 3))\n",
    "opening = cv2.morphologyEx(thresh, cv2.MORPH_OPEN, kernel, iterations=2)\n",
    "# cv_show('opening', opening)\n",
    "\n",
    "# 想办法找到图中的背景和前景.\n",
    "# 对opening进行膨胀. \n",
    "bg = cv2.dilate(opening, kernel, iterations=2)\n",
    "# cv_show('bg', np.hstack((opening, bg)))\n",
    "\n",
    "# 腐蚀, \n",
    "fg = cv2.erode(opening, kernel, iterations=2)\n",
    "# cv_show('fg', np.hstack((opening, bg, fg)))\n",
    "# 剩下的区域(硬币边界附近)不能确定是背景还是前景. \n",
    "# 可以通过膨胀之后的图减去腐蚀之后的图, 得到未知区域大小.\n",
    "unknown = cv2.subtract(bg, fg)\n",
    "# cv_show('unknown', np.hstack((opening, bg, fg, unknown)))\n",
    "\n",
    "# 因为硬币之间彼此是接触的, 导致腐蚀之后的前景图不太对, 硬币和硬币之间形成了通道.\n",
    "# 腐蚀在这里不适合. \n",
    "# distanceTransform来确定前景. \n",
    "dist_transform = cv2.distanceTransform(opening, cv2.DIST_L2, 5)\n",
    "# print(dist_transform.max())\n",
    "# 对dist_transform做归一化方便展示结果\n",
    "cv2.normalize(dist_transform, dist_transform, 0, 1.0, cv2.NORM_MINMAX)\n",
    "# cv_show('dist_transform', dist_transform)\n",
    "\n",
    "# 对dist_transform做二值化处理\n",
    "_, fg = cv2.threshold(dist_transform, 0.5 * dist_transform.max(), 255, cv2.THRESH_BINARY)\n",
    "# cv_show('fg', fg)\n",
    "# print(fg)\n",
    "fg = np.uint8(fg)\n",
    "# 顺便把未知区域算出\n",
    "unknown = cv2.subtract(bg, fg)\n",
    "# cv_show('gg', np.hstack((bg, fg, unknown)))\n",
    "# connectedComponents要求输入的图片是个8位的单通道图片, 即单通道的0到255的图片.\n",
    "# connectedComponents用0 来标记背景, 用大于0的整数来标记前景\n",
    "_, markers = cv2.connectedComponents(fg)\n",
    "print(markers.max())\n",
    "print(markers.min())\n",
    "\n",
    "# 因为watershed中0认为是不确定区域, 1是背景, 大于1的是前景.\n",
    "# markers + 1把原来的0变成1了. \n",
    "markers += 1\n",
    "# 从markers中筛选出位置区域, 赋值为0.\n",
    "markers[unknown == 255] = 0\n",
    "# 展示markers\n",
    "markers_copy = markers.copy()\n",
    "# 位置区域\n",
    "markers_copy[markers == 0] = 150\n",
    "# 背景\n",
    "markers_copy[markers == 1] = 0\n",
    "# 前景\n",
    "markers_copy[markers > 1] = 255\n",
    "markers_copy = np.uint8(markers_copy)\n",
    "# cv_show('markers_copy', markers_copy)\n",
    "\n",
    "# 到此为止, 我们的markers就已经生成好了. \n",
    "# watershed返回的markers已经做了修改. 边界区域标记为-1了. \n",
    "markers = cv2.watershed(img, markers)\n",
    "# print(markers.min(), markers.max())\n",
    "# 显示一下前景图片的边缘\n",
    "# img[markers == -1] = [0, 0, 255]\n",
    "# 单独取出或者标记出前景\n",
    "# img[markers > 1] = [0, 255, 0]\n",
    "# coins = img[markers > 1].copy()\n",
    "# 抠出硬币\n",
    "# mask把要抠图的地方赋值为255, 其他位置, 即背景赋值为0\n",
    "mask = np.zeros(shape=img.shape[:2], dtype=np.uint8)\n",
    "mask[markers > 1] = 255\n",
    "coins = cv2.bitwise_and(img, img, mask=mask)\n",
    "\n",
    "cv_show('coins', coins)\n",
    "cv_show('img', img)\n",
    "# 把分水岭算法和边缘检测Canny和轮廓查找做个对比. "
   ]
  },
  {
   "cell_type": "code",
   "execution_count": 24,
   "metadata": {
    "ExecuteTime": {
     "end_time": "2021-12-24T12:41:31.576302Z",
     "start_time": "2021-12-24T12:40:49.096234Z"
    }
   },
   "outputs": [],
   "source": [
    "# 和canny对比\n",
    "img_canny = cv2.Canny(img, 100, 150)\n",
    "cv_show('img_canny', img_canny)\n",
    "img_canny"
   ]
  },
  {
   "cell_type": "code",
   "execution_count": 35,
   "metadata": {
    "ExecuteTime": {
     "end_time": "2021-12-24T12:59:52.903582Z",
     "start_time": "2021-12-24T12:59:16.954693Z"
    }
   },
   "outputs": [],
   "source": [
    "# 和findContours对比\n",
    "# 把img变成灰度图\n",
    "img = cv2.imread('water_coins.jpeg')\n",
    "gray = cv2.cvtColor(img, cv2.COLOR_BGR2GRAY)\n",
    "\n",
    "# 二值化\n",
    "_, thresh = cv2.threshold(gray, 0, 255, cv2.THRESH_BINARY_INV | cv2.THRESH_OTSU)\n",
    "cv_show('gray', np.hstack((gray, thresh)))\n",
    "# findContours要求是单通道, 0到255的整数的图片, 最好是二值化的图片. \n",
    "image, contours, _ = cv2.findContours(thresh, mode=cv2.RETR_TREE, method=cv2.CHAIN_APPROX_SIMPLE)\n",
    "# 显示轮廓, 会直接修改img\n",
    "cv2.drawContours(img, contours, -1, (0, 0, 255), 3)\n",
    "cv_show('contours', img)"
   ]
  }
 ],
 "metadata": {
  "kernelspec": {
   "display_name": "Python 3",
   "language": "python",
   "name": "python3"
  },
  "language_info": {
   "codemirror_mode": {
    "name": "ipython",
    "version": 3
   },
   "file_extension": ".py",
   "mimetype": "text/x-python",
   "name": "python",
   "nbconvert_exporter": "python",
   "pygments_lexer": "ipython3",
   "version": "3.6.8"
  },
  "toc": {
   "base_numbering": 1,
   "nav_menu": {},
   "number_sections": true,
   "sideBar": true,
   "skip_h1_title": false,
   "title_cell": "Table of Contents",
   "title_sidebar": "Contents",
   "toc_cell": false,
   "toc_position": {},
   "toc_section_display": true,
   "toc_window_display": false
  }
 },
 "nbformat": 4,
 "nbformat_minor": 4
}
