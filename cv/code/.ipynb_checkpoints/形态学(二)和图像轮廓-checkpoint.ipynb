{
 "cells": [
  {
   "cell_type": "markdown",
   "metadata": {},
   "source": [
    "### 开运算"
   ]
  },
  {
   "cell_type": "code",
   "execution_count": 6,
   "metadata": {
    "ExecuteTime": {
     "end_time": "2021-11-19T12:28:06.563272Z",
     "start_time": "2021-11-19T12:27:52.157285Z"
    }
   },
   "outputs": [],
   "source": [
    "import cv2 \n",
    "import numpy as np\n",
    "\n",
    "# 开运算 = 腐蚀  + 膨胀\n",
    "# 开运算提供了另一种去除噪声的思路.\n",
    "img = cv2.imread('./dotj.png')\n",
    "kernel = cv2.getStructuringElement(cv2.MORPH_RECT, (5, 5))\n",
    "# # 先腐蚀\n",
    "# dst = cv2.erode(img, kernel, iterations=2)\n",
    "\n",
    "# # 膨胀\n",
    "# dst = cv2.dilate(dst, kernel, iterations=2)\n",
    "\n",
    "# 调用opencv提供的api\n",
    "dst = cv2.morphologyEx(img, cv2.MORPH_OPEN, kernel, iterations=2)\n",
    "\n",
    "cv2.imshow('img', np.hstack((img, dst)))\n",
    "\n",
    "cv2.waitKey(0)\n",
    "cv2.destroyAllWindows()"
   ]
  },
  {
   "cell_type": "markdown",
   "metadata": {},
   "source": [
    "### 闭运算= 膨胀 + 腐蚀"
   ]
  },
  {
   "cell_type": "code",
   "execution_count": 11,
   "metadata": {
    "ExecuteTime": {
     "end_time": "2021-11-19T12:33:32.711688Z",
     "start_time": "2021-11-19T12:33:08.830642Z"
    }
   },
   "outputs": [],
   "source": [
    "import cv2 \n",
    "import numpy as np\n",
    "\n",
    "# 闭运算= 膨胀 + 腐蚀\n",
    "# 闭运算可以去除图形内部的噪声\n",
    "# imread没有读到东西是不会报错的, 只会返回一个None\n",
    "img = cv2.imread('./dotinj.png')\n",
    "kernel = cv2.getStructuringElement(cv2.MORPH_RECT, (5, 5))\n",
    "\n",
    "\n",
    "# 调用opencv提供的api\n",
    "dst = cv2.morphologyEx(img, cv2.MORPH_CLOSE, kernel, iterations=2)\n",
    "\n",
    "cv2.imshow('img', np.hstack((img, dst)))\n",
    "\n",
    "cv2.waitKey(0)\n",
    "cv2.destroyAllWindows()"
   ]
  },
  {
   "cell_type": "markdown",
   "metadata": {},
   "source": [
    "### 形态学梯度"
   ]
  },
  {
   "cell_type": "code",
   "execution_count": 14,
   "metadata": {
    "ExecuteTime": {
     "end_time": "2021-11-19T12:38:28.061547Z",
     "start_time": "2021-11-19T12:38:01.244803Z"
    }
   },
   "outputs": [],
   "source": [
    "# 形态学梯度 = 原图 - 腐蚀\n",
    "import cv2 \n",
    "import numpy as np\n",
    "\n",
    "img = cv2.imread('./j.png')\n",
    "kernel = cv2.getStructuringElement(cv2.MORPH_RECT, (3, 3))\n",
    "\n",
    "\n",
    "# 调用opencv提供的api\n",
    "dst = cv2.morphologyEx(img, cv2.MORPH_GRADIENT, kernel, iterations=1)\n",
    "\n",
    "cv2.imshow('img', np.hstack((img, dst)))\n",
    "\n",
    "cv2.waitKey(0)\n",
    "cv2.destroyAllWindows()"
   ]
  },
  {
   "cell_type": "markdown",
   "metadata": {},
   "source": [
    "### 顶帽操作(tophat)"
   ]
  },
  {
   "cell_type": "code",
   "execution_count": 16,
   "metadata": {
    "ExecuteTime": {
     "end_time": "2021-11-19T12:42:45.959788Z",
     "start_time": "2021-11-19T12:42:14.005671Z"
    }
   },
   "outputs": [],
   "source": [
    "# 顶帽操作 = 原图  - 开运算 得到图形外的噪声\n",
    "import cv2 \n",
    "import numpy as np\n",
    "\n",
    "img = cv2.imread('./dotj.png')\n",
    "kernel = cv2.getStructuringElement(cv2.MORPH_RECT, (5, 5))\n",
    "\n",
    "\n",
    "# 调用opencv提供的api\n",
    "dst = cv2.morphologyEx(img, cv2.MORPH_TOPHAT, kernel, iterations=2)\n",
    "\n",
    "cv2.imshow('img', np.hstack((img, dst)))\n",
    "\n",
    "cv2.waitKey(0)\n",
    "cv2.destroyAllWindows()"
   ]
  },
  {
   "cell_type": "markdown",
   "metadata": {},
   "source": [
    "### 黑帽操作\n"
   ]
  },
  {
   "cell_type": "code",
   "execution_count": 17,
   "metadata": {
    "ExecuteTime": {
     "end_time": "2021-11-19T12:45:25.707058Z",
     "start_time": "2021-11-19T12:45:15.043094Z"
    }
   },
   "outputs": [],
   "source": [
    "# 黑帽操作 = 原图  - 闭运算 得到图形内部的噪声\n",
    "import cv2 \n",
    "import numpy as np\n",
    "\n",
    "img = cv2.imread('./dotinj.png')\n",
    "kernel = cv2.getStructuringElement(cv2.MORPH_RECT, (5, 5))\n",
    "\n",
    "\n",
    "# 调用opencv提供的api\n",
    "dst = cv2.morphologyEx(img, cv2.MORPH_BLACKHAT, kernel, iterations=2)\n",
    "\n",
    "cv2.imshow('img', np.hstack((img, dst)))\n",
    "\n",
    "cv2.waitKey(0)\n",
    "cv2.destroyAllWindows()"
   ]
  },
  {
   "cell_type": "markdown",
   "metadata": {},
   "source": [
    "### 查找轮廓"
   ]
  },
  {
   "cell_type": "code",
   "execution_count": 23,
   "metadata": {
    "ExecuteTime": {
     "end_time": "2021-11-19T13:25:53.509307Z",
     "start_time": "2021-11-19T13:25:53.499333Z"
    },
    "collapsed": true
   },
   "outputs": [
    {
     "name": "stdout",
     "output_type": "stream",
     "text": [
      "<class 'list'>\n",
      "[array([[[  0,   0]],\n",
      "\n",
      "       [[  0, 435]],\n",
      "\n",
      "       [[345, 435]],\n",
      "\n",
      "       [[345,   0]]], dtype=int32), array([[[ 36, 130]],\n",
      "\n",
      "       [[ 37, 129]],\n",
      "\n",
      "       [[310, 129]],\n",
      "\n",
      "       [[311, 130]],\n",
      "\n",
      "       [[311, 400]],\n",
      "\n",
      "       [[310, 401]],\n",
      "\n",
      "       [[ 37, 401]],\n",
      "\n",
      "       [[ 36, 400]]], dtype=int32), array([[[ 36,  35]],\n",
      "\n",
      "       [[ 37,  34]],\n",
      "\n",
      "       [[308,  34]],\n",
      "\n",
      "       [[309,  35]],\n",
      "\n",
      "       [[309,  39]],\n",
      "\n",
      "       [[308,  40]],\n",
      "\n",
      "       [[ 37,  40]],\n",
      "\n",
      "       [[ 36,  39]]], dtype=int32)]\n",
      "[[[-1 -1  1 -1]\n",
      "  [ 2 -1 -1  0]\n",
      "  [-1  1 -1  0]]]\n"
     ]
    }
   ],
   "source": [
    "import cv2 \n",
    "import numpy as np\n",
    "\n",
    "# 该图形显示是黑白的,但是实际上是3个通道的彩色图像\n",
    "img = cv2.imread('./contours1.jpeg')\n",
    "\n",
    "# print(img.shape)\n",
    "# 先变成单通道的黑白图片\n",
    "gray = cv2.cvtColor(img, cv2.COLOR_BGR2GRAY)\n",
    "\n",
    "# 二值化, 返回两个东西, 一个阈值, 一个二值化之后的图.\n",
    "thresh, binary = cv2.threshold(gray, 150, 255, cv2.THRESH_BINARY) \n",
    "\n",
    "# 查找轮廓, 新版本返回两个结果, 分别是轮廓和层级\n",
    "result, contours, hierarchy = cv2.findContours(binary, cv2.RETR_TREE, cv2.CHAIN_APPROX_SIMPLE)\n",
    "\n",
    "# contours是list 不是ndarray, 里面放的是ndarray, 每个ndarray表示一个contour\n",
    "print(type(contours))\n",
    "print(contours)\n",
    "print(hierarchy)\n",
    "\n",
    "# cv2.imshow('img', img)\n",
    "# cv2.imshow('gray', gray)\n",
    "# cv2.imshow('binary', binary)\n",
    "cv2.waitKey(0)\n",
    "cv2.destroyAllWindows()"
   ]
  },
  {
   "cell_type": "markdown",
   "metadata": {},
   "source": [
    "### 绘制轮廓"
   ]
  },
  {
   "cell_type": "code",
   "execution_count": 28,
   "metadata": {
    "ExecuteTime": {
     "end_time": "2021-11-19T13:34:05.979614Z",
     "start_time": "2021-11-19T13:33:51.066987Z"
    }
   },
   "outputs": [],
   "source": [
    "import cv2 \n",
    "import numpy as np\n",
    "\n",
    "# 该图形显示是黑白的,但是实际上是3个通道的彩色图像\n",
    "img = cv2.imread('./contours1.jpeg')\n",
    "\n",
    "# print(img.shape)\n",
    "# 先变成单通道的黑白图片\n",
    "gray = cv2.cvtColor(img, cv2.COLOR_BGR2GRAY)\n",
    "\n",
    "# 二值化, 返回两个东西, 一个阈值, 一个二值化之后的图.\n",
    "thresh, binary = cv2.threshold(gray, 150, 255, cv2.THRESH_BINARY) \n",
    "\n",
    "# 查找轮廓, 新版本返回两个结果, 分别是轮廓和层级\n",
    "result, contours, hierarchy = cv2.findContours(binary, cv2.RETR_TREE, cv2.CHAIN_APPROX_SIMPLE)\n",
    "\n",
    "# 绘制轮廓会直接修改原图.\n",
    "# 如果想保持原图不变, 建议copy一份\n",
    "img_copy = img.copy()\n",
    "cv2.drawContours(img_copy, contours, 1, (0, 0, 255), 2)\n",
    "\n",
    "cv2.imshow('img', img)\n",
    "cv2.imshow('img_copy', img_copy)\n",
    "# cv2.imshow('gray', gray)\n",
    "# cv2.imshow('binary', binary)\n",
    "cv2.waitKey(0)\n",
    "cv2.destroyAllWindows()"
   ]
  },
  {
   "cell_type": "markdown",
   "metadata": {},
   "source": [
    "### 计算轮廓面积和周长"
   ]
  },
  {
   "cell_type": "code",
   "execution_count": 33,
   "metadata": {
    "ExecuteTime": {
     "end_time": "2021-11-19T13:41:29.459309Z",
     "start_time": "2021-11-19T13:41:14.426462Z"
    },
    "scrolled": true
   },
   "outputs": [
    {
     "name": "stdout",
     "output_type": "stream",
     "text": [
      "area: 74798.0\n",
      "perimeter: 1091.6568541526794\n"
     ]
    }
   ],
   "source": [
    "import cv2 \n",
    "import numpy as np\n",
    "\n",
    "# 该图形显示是黑白的,但是实际上是3个通道的彩色图像\n",
    "img = cv2.imread('./contours1.jpeg')\n",
    "\n",
    "# print(img.shape)\n",
    "# 先变成单通道的黑白图片\n",
    "gray = cv2.cvtColor(img, cv2.COLOR_BGR2GRAY)\n",
    "\n",
    "# 二值化, 返回两个东西, 一个阈值, 一个二值化之后的图.\n",
    "thresh, binary = cv2.threshold(gray, 150, 255, cv2.THRESH_BINARY) \n",
    "\n",
    "# 查找轮廓, 新版本返回两个结果, 分别是轮廓和层级\n",
    "result, contours, hierarchy = cv2.findContours(binary, cv2.RETR_TREE, cv2.CHAIN_APPROX_SIMPLE)\n",
    "\n",
    "# 绘制轮廓会直接修改原图.\n",
    "# 如果想保持原图不变, 建议copy一份\n",
    "img_copy = img.copy()\n",
    "cv2.drawContours(img_copy, contours, 1, (0, 0, 255), 2)\n",
    "\n",
    "# 计算轮廓面积\n",
    "area = cv2.contourArea(contours[1])\n",
    "print('area:', area)\n",
    "\n",
    "# 计算轮廓周长\n",
    "perimeter = cv2.arcLength(contours[1], closed=True)\n",
    "print('perimeter:', perimeter)\n",
    "\n",
    "cv2.imshow('img', img)\n",
    "cv2.imshow('img_copy', img_copy)\n",
    "cv2.waitKey(0)\n",
    "cv2.destroyAllWindows()"
   ]
  },
  {
   "cell_type": "code",
   "execution_count": 32,
   "metadata": {
    "ExecuteTime": {
     "end_time": "2021-11-19T13:41:10.086867Z",
     "start_time": "2021-11-19T13:41:10.068915Z"
    }
   },
   "outputs": [
    {
     "data": {
      "text/plain": [
       "1095.5424"
      ]
     },
     "execution_count": 32,
     "metadata": {},
     "output_type": "execute_result"
    }
   ],
   "source": [
    "(821.6568/ 3) * 4"
   ]
  },
  {
   "cell_type": "markdown",
   "metadata": {},
   "source": [
    "### 多边形逼近与凸包"
   ]
  },
  {
   "cell_type": "code",
   "execution_count": 40,
   "metadata": {
    "ExecuteTime": {
     "end_time": "2021-11-19T14:00:33.618571Z",
     "start_time": "2021-11-19T13:59:51.537927Z"
    },
    "scrolled": false
   },
   "outputs": [],
   "source": [
    "## import cv2 \n",
    "import numpy as np\n",
    "\n",
    "# 该图形显示是黑白的,但是实际上是3个通道的彩色图像\n",
    "img = cv2.imread('./hand.png')\n",
    "\n",
    "# print(img.shape)\n",
    "# 先变成单通道的黑白图片\n",
    "gray = cv2.cvtColor(img, cv2.COLOR_BGR2GRAY)\n",
    "\n",
    "# 二值化, 返回两个东西, 一个阈值, 一个二值化之后的图.\n",
    "thresh, binary = cv2.threshold(gray, 150, 255, cv2.THRESH_BINARY) \n",
    "\n",
    "# 查找轮廓, 新版本返回两个结果, 分别是轮廓和层级\n",
    "result, contours, hierarchy = cv2.findContours(binary, cv2.RETR_TREE, cv2.CHAIN_APPROX_SIMPLE)\n",
    "\n",
    "# 绘制轮廓会直接修改原图.\n",
    "# 如果想保持原图不变, 建议copy一份\n",
    "img_copy = img.copy()\n",
    "cv2.drawContours(img_copy, contours, 0, (0, 0, 255), 2)\n",
    "\n",
    "# 使用多边形逼近, 近似模拟手的轮廓\n",
    "approx = cv2.approxPolyDP(contours[0], 5, closed=True)\n",
    "# approx本质上就是一个轮廓数据\n",
    "# print(type(approx))\n",
    "# print(approx)\n",
    "# print('--------------------')\n",
    "# print(contours[0])\n",
    "# 画出多边形逼近的轮廓\n",
    "cv2.drawContours(img_copy, [approx], 0, (0, 255, 0), 2)\n",
    "\n",
    "# cv2.imshow('img', img)\n",
    "cv2.imshow('img_copy', img_copy)\n",
    "cv2.waitKey(0)\n",
    "cv2.destroyAllWindows()"
   ]
  }
 ],
 "metadata": {
  "kernelspec": {
   "display_name": "Python 3",
   "language": "python",
   "name": "python3"
  },
  "language_info": {
   "codemirror_mode": {
    "name": "ipython",
    "version": 3
   },
   "file_extension": ".py",
   "mimetype": "text/x-python",
   "name": "python",
   "nbconvert_exporter": "python",
   "pygments_lexer": "ipython3",
   "version": "3.6.8"
  },
  "toc": {
   "base_numbering": 1,
   "nav_menu": {},
   "number_sections": true,
   "sideBar": true,
   "skip_h1_title": false,
   "title_cell": "Table of Contents",
   "title_sidebar": "Contents",
   "toc_cell": false,
   "toc_position": {},
   "toc_section_display": true,
   "toc_window_display": false
  }
 },
 "nbformat": 4,
 "nbformat_minor": 4
}
