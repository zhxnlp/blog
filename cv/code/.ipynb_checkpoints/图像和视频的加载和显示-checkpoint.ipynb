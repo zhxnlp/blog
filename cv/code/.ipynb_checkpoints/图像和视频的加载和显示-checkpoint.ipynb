{
 "cells": [
  {
   "cell_type": "markdown",
   "metadata": {},
   "source": [
    "### 窗口创建和销毁"
   ]
  },
  {
   "cell_type": "code",
   "execution_count": 1,
   "metadata": {},
   "outputs": [],
   "source": [
    "# opencv名字叫做opencv但是导包的时候, 叫做cv2\n",
    "import cv2"
   ]
  },
  {
   "cell_type": "code",
   "execution_count": null,
   "metadata": {},
   "outputs": [],
   "source": [
    "# python函数编码规范, 单词首字母小写, 单词与单词之间用下滑线连接.wait_key"
   ]
  },
  {
   "cell_type": "code",
   "execution_count": 3,
   "metadata": {},
   "outputs": [
    {
     "name": "stdout",
     "output_type": "stream",
     "text": [
      "准备销毁窗口\n"
     ]
    }
   ],
   "source": [
    "# 创建窗口\n",
    "# cv2.WINDOW_AUTOSIZE不允许修改窗口大小\n",
    "# cv2.namedWindow('window', cv2.WINDOW_AUTOSIZE)\n",
    "cv2.namedWindow('window', cv2.WINDOW_NORMAL)\n",
    "# 更改窗口的大小\n",
    "cv2.resizeWindow('window', 800, 600)\n",
    "# 展示名字为window的窗口\n",
    "cv2.imshow('window', 0)\n",
    "\n",
    "# 等待按键\n",
    "# waitKey会返回按键的ascii的值\n",
    "# 0表示接受任意按键. 如果给其他的整数, 表示等待按键的时间. 单位是毫秒. \n",
    "#  可以利用waitkey来销毁窗口, 不用每次都重启python.\n",
    "key = cv2.waitKey(0)\n",
    "# key是int型, 最少都是16位, 但是ascii码是8位. \n",
    "if key & 0xFF == ord('q'):\n",
    "    print('准备销毁窗口')\n",
    "    cv2.destroyAllWindows()"
   ]
  },
  {
   "cell_type": "code",
   "execution_count": 1,
   "metadata": {},
   "outputs": [
    {
     "data": {
      "text/plain": [
       "113"
      ]
     },
     "execution_count": 1,
     "metadata": {},
     "output_type": "execute_result"
    }
   ],
   "source": [
    "# 怎么计算q的ascii码\n",
    "# ord是python中计算ascii的值的函数\n",
    "ord('q')"
   ]
  },
  {
   "cell_type": "markdown",
   "metadata": {},
   "source": [
    "### 读取图片"
   ]
  },
  {
   "cell_type": "code",
   "execution_count": 10,
   "metadata": {},
   "outputs": [],
   "source": [
    "import matplotlib.pyplot as plt"
   ]
  },
  {
   "cell_type": "code",
   "execution_count": 5,
   "metadata": {
    "collapsed": true
   },
   "outputs": [
    {
     "data": {
      "text/plain": [
       "array([[[204, 203, 205],\n",
       "        [205, 204, 206],\n",
       "        [206, 205, 207],\n",
       "        ...,\n",
       "        [208, 208, 208],\n",
       "        [208, 208, 208],\n",
       "        [208, 208, 208]],\n",
       "\n",
       "       [[204, 203, 205],\n",
       "        [205, 204, 206],\n",
       "        [206, 205, 207],\n",
       "        ...,\n",
       "        [208, 208, 208],\n",
       "        [208, 208, 208],\n",
       "        [208, 208, 208]],\n",
       "\n",
       "       [[204, 203, 205],\n",
       "        [204, 203, 205],\n",
       "        [205, 204, 206],\n",
       "        ...,\n",
       "        [208, 208, 208],\n",
       "        [208, 208, 208],\n",
       "        [208, 208, 208]],\n",
       "\n",
       "       ...,\n",
       "\n",
       "       [[128, 129, 133],\n",
       "        [133, 134, 138],\n",
       "        [136, 137, 141],\n",
       "        ...,\n",
       "        [214, 214, 214],\n",
       "        [214, 214, 214],\n",
       "        [214, 214, 214]],\n",
       "\n",
       "       [[124, 125, 129],\n",
       "        [128, 129, 133],\n",
       "        [130, 131, 135],\n",
       "        ...,\n",
       "        [214, 214, 214],\n",
       "        [214, 214, 214],\n",
       "        [214, 214, 214]],\n",
       "\n",
       "       [[125, 126, 130],\n",
       "        [129, 130, 134],\n",
       "        [129, 130, 134],\n",
       "        ...,\n",
       "        [214, 214, 214],\n",
       "        [214, 214, 214],\n",
       "        [214, 214, 214]]], dtype=uint8)"
      ]
     },
     "execution_count": 5,
     "metadata": {},
     "output_type": "execute_result"
    }
   ],
   "source": [
    "# 默认是按照彩色图片来读取的. \n",
    "cat = cv2.imread('./cat.jpeg')\n",
    "\n",
    "# numpy的ndarray\n",
    "cat"
   ]
  },
  {
   "cell_type": "code",
   "execution_count": 7,
   "metadata": {},
   "outputs": [
    {
     "data": {
      "text/plain": [
       "255"
      ]
     },
     "execution_count": 7,
     "metadata": {},
     "output_type": "execute_result"
    }
   ],
   "source": [
    "2 ** 8 - 1"
   ]
  },
  {
   "cell_type": "code",
   "execution_count": 8,
   "metadata": {
    "scrolled": true
   },
   "outputs": [
    {
     "data": {
      "text/plain": [
       "255"
      ]
     },
     "execution_count": 8,
     "metadata": {},
     "output_type": "execute_result"
    }
   ],
   "source": [
    "cat.max()"
   ]
  },
  {
   "cell_type": "code",
   "execution_count": 11,
   "metadata": {
    "scrolled": true
   },
   "outputs": [
    {
     "data": {
      "text/plain": [
       "<matplotlib.image.AxesImage at 0x245be3144e0>"
      ]
     },
     "execution_count": 11,
     "metadata": {},
     "output_type": "execute_result"
    },
    {
     "data": {
      "image/png": "[encoded data removed]",
      "text/plain": [
       "<Figure size 432x288 with 1 Axes>"
      ]
     },
     "metadata": {
      "needs_background": "light"
     },
     "output_type": "display_data"
    }
   ],
   "source": [
    "# 发现matplotlib显示的图片和真实的图片颜色不一样. 因为opencv读进来的图片数据的通道不是默认的RGB\n",
    "# 而是BGR, 所以一般opencv读进来的图片不用要别方式去展示比如matplotlib\n",
    "# 用opencv自己的方式去展示就没有问题.\n",
    "plt.imshow(cat)"
   ]
  },
  {
   "cell_type": "code",
   "execution_count": null,
   "metadata": {
    "scrolled": true
   },
   "outputs": [
    {
     "name": "stdout",
     "output_type": "stream",
     "text": [
      "准备销毁窗口\n"
     ]
    }
   ],
   "source": [
    "import cv2\n",
    "\n",
    "\n",
    "cat = cv2.imread('./cat.jpeg')\n",
    "cv2.imshow('cat', cat)\n",
    "\n",
    "while True:\n",
    "    key = cv2.waitKey(0)\n",
    "    if key & 0xFF == ord('q'):\n",
    "        print('准备销毁窗口')\n",
    "        cv2.destroyAllWindows()"
   ]
  },
  {
   "cell_type": "code",
   "execution_count": 20,
   "metadata": {},
   "outputs": [],
   "source": [
    "# 必须执行外部文件\n",
    "# table和空格混用的缩进问题. 执行之后, 会自动把外部函数导入.\n",
    "%run utils.py"
   ]
  },
  {
   "cell_type": "code",
   "execution_count": 21,
   "metadata": {},
   "outputs": [],
   "source": [
    "cv_show('cat', cat)"
   ]
  },
  {
   "cell_type": "code",
   "execution_count": 1,
   "metadata": {},
   "outputs": [],
   "source": [
    "import cv2\n",
    "\n",
    "\n",
    "# 创建窗口\n",
    "cv2.namedWindow('img', cv2.WINDOW_NORMAL)\n",
    "cv2.resizeWindow('img', 640, 480)\n",
    "\n",
    "# 读取图片\n",
    "img = cv2.imread('./cat.jpeg')\n",
    "\n",
    "while True:\n",
    "    cv2.imshow('img', img)\n",
    "    key = cv2.waitKey(0)\n",
    "    \n",
    "    if key == ord('q'):\n",
    "        break\n",
    "    elif key == ord('s'):\n",
    "        cv2.imwrite('./123.png', img)\n",
    "    else:\n",
    "        print(key)\n",
    "    \n",
    "cv2.destroyAllWindows()"
   ]
  },
  {
   "cell_type": "code",
   "execution_count": null,
   "metadata": {},
   "outputs": [],
   "source": [
    "# 视频其实本质上就是由一幅一幅的图片组成的.\n",
    "# 24帧, 30帧.60帧 "
   ]
  },
  {
   "cell_type": "code",
   "execution_count": 3,
   "metadata": {},
   "outputs": [
    {
     "data": {
      "text/plain": [
       "113"
      ]
     },
     "execution_count": 3,
     "metadata": {},
     "output_type": "execute_result"
    }
   ],
   "source": [
    "ord('q')"
   ]
  },
  {
   "cell_type": "code",
   "execution_count": 6,
   "metadata": {},
   "outputs": [],
   "source": [
    "# 打开摄像头\n",
    "import  cv2\n",
    "\n",
    "cv2.namedWindow('video', cv2.WINDOW_NORMAL)\n",
    "cv2.resizeWindow('video', 640, 480)\n",
    "\n",
    "\n",
    "# 如果打开失败, 不会报错. \n",
    "# cap = cv2.VideoCapture(1)\n",
    "cap = cv2.VideoCapture(0)\n",
    "\n",
    "# 循环读取摄像头的每一帧\n",
    "# while True:\n",
    "while cap.isOpened():\n",
    "    # 读一帧数据, 返回标记和这一帧数据. True表示读到了数据, False表示没读到数据. \n",
    "    ret, frame = cap.read()\n",
    "    \n",
    "    # 可以根据ret做个判断\n",
    "    if not ret:\n",
    "        # 没读到数据, 直接退出\n",
    "        break\n",
    "        \n",
    "    # 显示数据\n",
    "    cv2.imshow('video', frame)\n",
    "    \n",
    "    key = cv2.waitKey(10)\n",
    "    if key & 0xFF == ord('q'):\n",
    "        break\n",
    "        \n",
    "# 别忘了释放资源\n",
    "cap.release()\n",
    "cv2.destroyAllWindows()"
   ]
  },
  {
   "cell_type": "code",
   "execution_count": 1,
   "metadata": {},
   "outputs": [],
   "source": [
    "# 打开视频\n",
    "# 打开摄像头\n",
    "import  cv2\n",
    "\n",
    "cv2.namedWindow('video', cv2.WINDOW_NORMAL)\n",
    "cv2.resizeWindow('video', 640, 480)\n",
    "\n",
    "\n",
    "# 如果打开失败, 不会报错. \n",
    "# cap = cv2.VideoCapture(1)\n",
    "# 打开视频, 输入视频的地址\n",
    "cap = cv2.VideoCapture('./1.mp4')\n",
    "\n",
    "# 循环读取摄像头的每一帧\n",
    "# while True:\n",
    "while cap.isOpened():\n",
    "    # 读一帧数据, 返回标记和这一帧数据. True表示读到了数据, False表示没读到数据. \n",
    "    ret, frame = cap.read()\n",
    "    \n",
    "    # 可以根据ret做个判断\n",
    "    if not ret:\n",
    "        # 没读到数据, 直接退出\n",
    "        break\n",
    "        \n",
    "    # 显示数据\n",
    "    cv2.imshow('video', frame)\n",
    "    \n",
    "    # 假如一个视频是30帧, 那么每张图之间要间隔多少毫秒\n",
    "    # 只能是整数\n",
    "    key = cv2.waitKey(1000 // 30)\n",
    "    if key & 0xFF == ord('q'):\n",
    "        break\n",
    "        \n",
    "# 别忘了释放资源\n",
    "cap.release()\n",
    "cv2.destroyAllWindows()"
   ]
  },
  {
   "cell_type": "code",
   "execution_count": 2,
   "metadata": {},
   "outputs": [],
   "source": [
    "cap = cv2.VideoCapture(0)\n",
    "# fourcc = cv2.VideoWriter_fourcc(*'mp4v')\n",
    "# avi格式的视频\n",
    "fourcc = cv2.VideoWriter_fourcc(*'XVID')\n",
    "\n",
    "# 创建videowriter\n",
    "# vw = cv2.VideoWriter('output.mp4', fourcc, 30, (640, 480))\n",
    "vw = cv2.VideoWriter('output3.avi', fourcc, 30, (1280, 720))\n",
    "while cap.isOpened():\n",
    "    ret, frame = cap.read()\n",
    "    if not ret:\n",
    "        break\n",
    "        \n",
    "    # 写每一帧数据\n",
    "    vw.write(frame)\n",
    "    cv2.imshow('frame', frame)\n",
    "    \n",
    "    if cv2.waitKey(1) == ord('q'):\n",
    "        break\n",
    "        \n",
    "# 别忘了release\n",
    "cap.release()\n",
    "vw.release()\n",
    "cv2.destroyAllWindows()"
   ]
  },
  {
   "cell_type": "code",
   "execution_count": 1,
   "metadata": {},
   "outputs": [
    {
     "name": "stdout",
     "output_type": "stream",
     "text": [
      "0 1 15 0 123\n",
      "0 2 15 0 123\n",
      "0 4 15 0 123\n",
      "0 7 15 0 123\n",
      "0 10 15 0 123\n",
      "0 10 15 0 123\n",
      "1 10 15 1 123\n",
      "0 10 15 1 123\n",
      "0 10 15 1 123\n",
      "0 10 15 1 123\n",
      "0 10 15 1 123\n",
      "0 11 15 1 123\n",
      "0 12 16 1 123\n",
      "0 14 18 1 123\n",
      "0 15 18 1 123\n",
      "0 16 19 1 123\n",
      "0 17 20 1 123\n",
      "0 21 23 1 123\n",
      "0 24 26 1 123\n",
      "0 27 28 1 123\n",
      "0 28 28 1 123\n",
      "0 29 28 1 123\n",
      "0 31 29 1 123\n",
      "0 31 30 1 123\n",
      "0 33 30 1 123\n",
      "0 36 32 1 123\n",
      "0 38 33 1 123\n",
      "0 40 35 1 123\n",
      "0 41 35 1 123\n",
      "0 43 36 1 123\n",
      "0 45 39 1 123\n",
      "0 48 41 1 123\n",
      "0 50 42 1 123\n",
      "0 53 44 1 123\n",
      "0 55 47 1 123\n",
      "0 56 47 1 123\n",
      "0 59 49 1 123\n",
      "0 61 52 1 123\n",
      "0 63 54 1 123\n",
      "0 68 58 1 123\n",
      "0 70 60 1 123\n",
      "0 72 62 1 123\n",
      "0 73 62 1 123\n",
      "0 73 63 1 123\n",
      "0 75 64 1 123\n",
      "0 76 65 1 123\n",
      "0 76 65 1 123\n",
      "0 78 67 1 123\n",
      "0 79 67 1 123\n",
      "0 81 69 1 123\n",
      "0 81 69 1 123\n",
      "0 82 69 1 123\n",
      "0 83 69 1 123\n",
      "0 84 71 1 123\n",
      "0 85 71 1 123\n",
      "0 87 73 1 123\n",
      "0 87 74 1 123\n",
      "0 92 76 1 123\n",
      "0 92 76 1 123\n",
      "0 93 78 1 123\n",
      "0 94 78 1 123\n",
      "0 95 80 1 123\n",
      "0 97 82 1 123\n",
      "0 97 82 1 123\n",
      "0 97 82 1 123\n",
      "0 97 82 1 123\n",
      "4 97 82 0 123\n",
      "0 97 82 0 123\n",
      "0 97 82 0 123\n",
      "0 97 82 0 123\n"
     ]
    }
   ],
   "source": [
    "# opencv控制鼠标\n",
    "import cv2\n",
    "import numpy as np\n",
    "\n",
    "# 函数名可以随便取, 但是参数必须是5个.\n",
    "# event表示鼠标事件, x,y是鼠标的坐标\n",
    "# flags鼠标的组合按键\n",
    "def mouse_callback(event, x, y, flags, userdata):\n",
    "    print(event, x, y, flags, userdata)\n",
    "    # 按下鼠标右键退出\n",
    "    if event == 2:\n",
    "        cv2.destroyAllWindows()\n",
    "    \n",
    "# mouse的复数是什么?\n",
    "# 创建窗口\n",
    "cv2.namedWindow('mouse', cv2.WINDOW_NORMAL)\n",
    "# 宽度和高度\n",
    "cv2.resizeWindow('mouse', 640, 360)\n",
    "\n",
    "# 设置鼠标回调函数\n",
    "cv2.setMouseCallback('mouse', mouse_callback, '123')\n",
    "\n",
    "# 生成全黑的图片\n",
    "img = np.zeros((360, 640, 3), np.uint8)\n",
    "while True:\n",
    "    cv2.imshow('mouse', img)\n",
    "    key = cv2.waitKey(1)\n",
    "    if key == ord('q'):\n",
    "        break\n",
    "        \n",
    "cv2.destroyAllWindows()"
   ]
  },
  {
   "cell_type": "code",
   "execution_count": 3,
   "metadata": {},
   "outputs": [],
   "source": [
    "# trackbar的使用\n",
    "import cv2 \n",
    "import numpy as np\n",
    "\n",
    "# 创建窗口\n",
    "cv2.namedWindow('trackbar', cv2.WINDOW_NORMAL)\n",
    "cv2.resizeWindow('trackbar', 640, 480)\n",
    "\n",
    "# 定义回调函数\n",
    "def callback(value):\n",
    "#     print(value)\n",
    "    pass\n",
    "    \n",
    "# 创建3个trackbar\n",
    "cv2.createTrackbar('R', 'trackbar', 0, 255, callback)\n",
    "cv2.createTrackbar('G', 'trackbar', 0, 255, callback)\n",
    "cv2.createTrackbar('B', 'trackbar', 0, 255, callback)\n",
    "\n",
    "# 创建背景图片\n",
    "img = np.zeros((480, 640, 3), np.uint8)\n",
    "\n",
    "while True:\n",
    "    # 获取当前trackbar的值\n",
    "    r = cv2.getTrackbarPos('R', 'trackbar')\n",
    "    g = cv2.getTrackbarPos('G', 'trackbar')\n",
    "    b = cv2.getTrackbarPos('B', 'trackbar')\n",
    "    \n",
    "    # 用获取到的三个值修改背景图片颜色\n",
    "    img[:] = [b, g, r]\n",
    "    cv2.imshow('trackbar', img)\n",
    "    key = cv2.waitKey(1)\n",
    "    if key == ord('q'):\n",
    "        break\n",
    "        \n",
    "cv2.destroyAllWindows()"
   ]
  },
  {
   "cell_type": "code",
   "execution_count": 9,
   "metadata": {
    "collapsed": true
   },
   "outputs": [
    {
     "data": {
      "text/plain": [
       "array([[[  0, 255, 255],\n",
       "        [  0, 255, 255],\n",
       "        [  0, 255, 255],\n",
       "        ...,\n",
       "        [  0, 255, 255],\n",
       "        [  0, 255, 255],\n",
       "        [  0, 255, 255]],\n",
       "\n",
       "       [[  0, 255, 255],\n",
       "        [  0, 255, 255],\n",
       "        [  0, 255, 255],\n",
       "        ...,\n",
       "        [  0, 255, 255],\n",
       "        [  0, 255, 255],\n",
       "        [  0, 255, 255]],\n",
       "\n",
       "       [[  0, 255, 255],\n",
       "        [  0, 255, 255],\n",
       "        [  0, 255, 255],\n",
       "        ...,\n",
       "        [  0, 255, 255],\n",
       "        [  0, 255, 255],\n",
       "        [  0, 255, 255]],\n",
       "\n",
       "       ...,\n",
       "\n",
       "       [[  0, 255, 255],\n",
       "        [  0, 255, 255],\n",
       "        [  0, 255, 255],\n",
       "        ...,\n",
       "        [  0, 255, 255],\n",
       "        [  0, 255, 255],\n",
       "        [  0, 255, 255]],\n",
       "\n",
       "       [[  0, 255, 255],\n",
       "        [  0, 255, 255],\n",
       "        [  0, 255, 255],\n",
       "        ...,\n",
       "        [  0, 255, 255],\n",
       "        [  0, 255, 255],\n",
       "        [  0, 255, 255]],\n",
       "\n",
       "       [[  0, 255, 255],\n",
       "        [  0, 255, 255],\n",
       "        [  0, 255, 255],\n",
       "        ...,\n",
       "        [  0, 255, 255],\n",
       "        [  0, 255, 255],\n",
       "        [  0, 255, 255]]], dtype=uint8)"
      ]
     },
     "execution_count": 9,
     "metadata": {},
     "output_type": "execute_result"
    }
   ],
   "source": [
    "img"
   ]
  },
  {
   "cell_type": "code",
   "execution_count": 1,
   "metadata": {},
   "outputs": [],
   "source": [
    "# 找到摄像头原来的分辨率\n",
    "# 打开视频\n",
    "# 打开摄像头\n",
    "import  cv2\n",
    "\n",
    "\n",
    "\n",
    "# 如果打开失败, 不会报错. \n",
    "# cap = cv2.VideoCapture(1)\n",
    "# 打开视频, 输入视频的地址\n",
    "cap = cv2.VideoCapture(0)\n",
    "\n",
    "# 循环读取摄像头的每一帧\n",
    "# while True:\n",
    "while cap.isOpened():\n",
    "    # 读一帧数据, 返回标记和这一帧数据. True表示读到了数据, False表示没读到数据. \n",
    "    ret, frame = cap.read()\n",
    "    \n",
    "    # 可以根据ret做个判断\n",
    "    if not ret:\n",
    "        # 没读到数据, 直接退出\n",
    "        break\n",
    "        \n",
    "    # 显示数据\n",
    "    cv2.imshow('video', frame)\n",
    "    \n",
    "    # 假如一个视频是30帧, 那么每张图之间要间隔多少毫秒\n",
    "    # 只能是整数\n",
    "    key = cv2.waitKey(1000 // 30)\n",
    "    if key & 0xFF == ord('q'):\n",
    "        break\n",
    "        \n",
    "# 别忘了释放资源\n",
    "cap.release()\n",
    "cv2.destroyAllWindows()"
   ]
  }
 ],
 "metadata": {
  "kernelspec": {
   "display_name": "Python 3",
   "language": "python",
   "name": "python3"
  },
  "language_info": {
   "codemirror_mode": {
    "name": "ipython",
    "version": 3
   },
   "file_extension": ".py",
   "mimetype": "text/x-python",
   "name": "python",
   "nbconvert_exporter": "python",
   "pygments_lexer": "ipython3",
   "version": "3.6.8"
  }
 },
 "nbformat": 4,
 "nbformat_minor": 4
}
