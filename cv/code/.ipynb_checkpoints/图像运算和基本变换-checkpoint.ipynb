{
 "cells": [
  {
   "cell_type": "code",
   "execution_count": 31,
   "metadata": {
    "collapsed": true
   },
   "outputs": [
    {
     "name": "stdout",
     "output_type": "stream",
     "text": [
      "(480, 640, 3)\n",
      "(360, 499, 3)\n",
      "[[[204 203 205]\n",
      "  [205 204 206]\n",
      "  [206 205 207]]\n",
      "\n",
      " [[204 203 205]\n",
      "  [205 204 206]\n",
      "  [206 205 207]]\n",
      "\n",
      " [[204 203 205]\n",
      "  [204 203 205]\n",
      "  [205 204 206]]]\n",
      "-------------------\n",
      "[[[213 175 140]\n",
      "  [216 176 141]\n",
      "  [220 178 143]]\n",
      "\n",
      " [[222 180 145]\n",
      "  [222 180 145]\n",
      "  [220 178 143]]\n",
      "\n",
      " [[225 180 146]\n",
      "  [225 180 146]\n",
      "  [223 181 146]]]\n",
      "_---------------------\n"
     ]
    }
   ],
   "source": [
    "# 加法运算\n",
    "import cv2\n",
    "import numpy as np\n",
    "\n",
    "# 读取图片\n",
    "cat = cv2.imread('./cat.jpeg')\n",
    "dog = cv2.imread('./dog.jpeg')\n",
    "\n",
    "print(cat.shape)\n",
    "print(dog.shape)\n",
    "# 在做加法之前需要把图片的形状变得完全一致才行.\n",
    "# 可以通过ndarray的切片方式取出完全一样的形状.\n",
    "# 猫更大, 所以从猫里面切出狗的形状\n",
    "new_cat = cat[0:360, :499]\n",
    "# print(new_cat.shape)\n",
    "# cv2.add 加法操作要求两个图片的长宽相同, 通道数相同. \n",
    "# add的规则就是两个图对应位置的元素相加, 如果超过255, 全部变成255.\n",
    "print(new_cat[:3, :3])\n",
    "print('-------------------')\n",
    "print(dog[:3, :3])\n",
    "# new_img = cv2.add(new_cat, dog)\n",
    "print('_---------------------')\n",
    "# print(new_img[:3, :3])\n",
    "\n",
    "# 图片还可以和单个数字进行运算\n",
    "# 每个和100进行加法运算, 超出255的数字, 会被截断, 相当于 % 256\n",
    "# dog += 100\n",
    "# print(dog[:3, :3])\n",
    "\n",
    "# 减法 subtract, 对应位置的元素相减, 减完小于0, 统一变成0\n",
    "# new_img = cv2.subtract(new_cat, dog)\n",
    "\n",
    "# 乘法 multiply\n",
    "# new_img = cv2.multiply(new_cat, dog)\n",
    "\n",
    "# 除 divide\n",
    "new_img = cv2.divide(new_cat, dog)\n",
    "\n",
    "\n",
    "\n",
    "# cv2.imshow('new_img', dog)\n",
    "cv2.imshow('new_img', new_img)\n",
    "cv2.waitKey(0)\n",
    "cv2.destroyAllWindows()"
   ]
  },
  {
   "cell_type": "code",
   "execution_count": 15,
   "metadata": {
    "scrolled": true
   },
   "outputs": [
    {
     "data": {
      "text/plain": [
       "57"
      ]
     },
     "execution_count": 15,
     "metadata": {},
     "output_type": "execute_result"
    }
   ],
   "source": [
    "(213 + 100) % 256"
   ]
  },
  {
   "cell_type": "code",
   "execution_count": 27,
   "metadata": {},
   "outputs": [],
   "source": [
    "# 图像的融合\n",
    "# 不是简单的加法了. 相当于拿图片做了线性运算. new_img = img1 * w1 + img2 * w2 + bias\n",
    "import cv2\n",
    "import numpy as np\n",
    "\n",
    "# 读取图片\n",
    "cat = cv2.imread('./cat.jpeg')\n",
    "dog = cv2.imread('./dog.jpeg')\n",
    "\n",
    "new_cat = cat[0:360, :499]\n",
    "\n",
    "new_img = cv2.addWeighted(new_cat, 0.5, dog, 0.5, 0)\n",
    "\n",
    "cv2.imshow('new_img', new_img)\n",
    "cv2.waitKey(0)\n",
    "cv2.destroyAllWindows()"
   ]
  },
  {
   "cell_type": "code",
   "execution_count": 32,
   "metadata": {},
   "outputs": [
    {
     "data": {
      "text/plain": [
       "196"
      ]
     },
     "execution_count": 32,
     "metadata": {},
     "output_type": "execute_result"
    }
   ],
   "source": [
    "# OpenCV的逻辑运算-- 与或非 异或\n",
    "# OpenCV中的逻辑运算就是对应位置元素进行与或非, 异或.\n",
    "204 & 213"
   ]
  },
  {
   "cell_type": "code",
   "execution_count": 33,
   "metadata": {},
   "outputs": [
    {
     "data": {
      "text/plain": [
       "-256"
      ]
     },
     "execution_count": 33,
     "metadata": {},
     "output_type": "execute_result"
    }
   ],
   "source": [
    "# opecv中的非, 0 反过来是255,\n",
    "~255"
   ]
  },
  {
   "cell_type": "code",
   "execution_count": 34,
   "metadata": {},
   "outputs": [
    {
     "data": {
      "text/plain": [
       "25"
      ]
     },
     "execution_count": 34,
     "metadata": {},
     "output_type": "execute_result"
    }
   ],
   "source": [
    "204 ^ 213"
   ]
  },
  {
   "cell_type": "code",
   "execution_count": 52,
   "metadata": {
    "collapsed": true
   },
   "outputs": [
    {
     "name": "stdout",
     "output_type": "stream",
     "text": [
      "[[[204 203 205]\n",
      "  [205 204 206]]\n",
      "\n",
      " [[204 203 205]\n",
      "  [205 204 206]]]\n",
      "-----\n",
      "[[[213 175 140]\n",
      "  [216 176 141]]\n",
      "\n",
      " [[222 180 145]\n",
      "  [222 180 145]]]\n",
      "-------------\n",
      "[[[ 25 100  65]\n",
      "  [ 21 124  67]]\n",
      "\n",
      " [[ 18 127  92]\n",
      "  [ 19 120  95]]]\n"
     ]
    }
   ],
   "source": [
    "import cv2\n",
    "import numpy as np\n",
    "\n",
    "# 读取图片\n",
    "cat = cv2.imread('./cat.jpeg')\n",
    "dog = cv2.imread('./dog.jpeg')\n",
    "\n",
    "# 非操作 相当于 255 - cat\n",
    "# cat_not = cv2.bitwise_not(cat)\n",
    "# cv2.imshow('not', np.hstack((cat, cat_not)))\n",
    "# print(cat[:2, :2])\n",
    "# print(cat_not[:2, :2])\n",
    "\n",
    "# 与操作\n",
    "new_cat = cat[0:360, :499]\n",
    "# 两个图片对应位置的元素进行与操作.\n",
    "# cat_and = cv2.bitwise_and(new_cat, dog)\n",
    "# cv2.imshow('and', np.hstack((new_cat, cat_and)))\n",
    "# print(new_cat[:5, :5])\n",
    "# print('-----')\n",
    "# print(dog[:5, :5])\n",
    "# print('-------------')\n",
    "# print(cat_and[:5, :5])\n",
    "\n",
    "# 或操作, 对应位置的元素进行或运算.\n",
    "# cat_or = cv2.bitwise_or(new_cat, dog)\n",
    "# cv2.imshow('and', np.hstack((new_cat, dog, cat_or)))\n",
    "# print(new_cat[:2, :2])\n",
    "# print('-----')\n",
    "# print(dog[:2, :2])\n",
    "# print('-------------')\n",
    "# print(cat_or[:2, :2])\n",
    "\n",
    "# 异或操作, 对应位置元素按位执行异或操作.\n",
    "cat_xor = cv2.bitwise_xor(new_cat, dog)\n",
    "cv2.imshow('and', np.hstack((new_cat, dog, cat_xor)))\n",
    "print(new_cat[:2, :2])\n",
    "print('-----')\n",
    "print(dog[:2, :2])\n",
    "print('-------------')\n",
    "print(cat_xor[:2, :2])\n",
    "\n",
    "cv2.waitKey(0)\n",
    "cv2.destroyAllWindows()"
   ]
  },
  {
   "cell_type": "code",
   "execution_count": 54,
   "metadata": {},
   "outputs": [
    {
     "data": {
      "text/plain": [
       "0"
      ]
     },
     "execution_count": 54,
     "metadata": {},
     "output_type": "execute_result"
    }
   ],
   "source": [
    "255 ^ 255"
   ]
  },
  {
   "cell_type": "code",
   "execution_count": 55,
   "metadata": {},
   "outputs": [
    {
     "data": {
      "text/plain": [
       "0"
      ]
     },
     "execution_count": 55,
     "metadata": {},
     "output_type": "execute_result"
    }
   ],
   "source": [
    "0 ^ 0"
   ]
  },
  {
   "cell_type": "code",
   "execution_count": 53,
   "metadata": {},
   "outputs": [
    {
     "data": {
      "text/plain": [
       "25"
      ]
     },
     "execution_count": 53,
     "metadata": {},
     "output_type": "execute_result"
    }
   ],
   "source": [
    "204 ^ 213"
   ]
  },
  {
   "cell_type": "code",
   "execution_count": 50,
   "metadata": {},
   "outputs": [
    {
     "data": {
      "text/plain": [
       "221"
      ]
     },
     "execution_count": 50,
     "metadata": {},
     "output_type": "execute_result"
    }
   ],
   "source": [
    "204 | 213"
   ]
  },
  {
   "cell_type": "code",
   "execution_count": 43,
   "metadata": {},
   "outputs": [
    {
     "data": {
      "text/plain": [
       "255"
      ]
     },
     "execution_count": 43,
     "metadata": {},
     "output_type": "execute_result"
    }
   ],
   "source": [
    "255  & 255"
   ]
  },
  {
   "cell_type": "code",
   "execution_count": 46,
   "metadata": {},
   "outputs": [
    {
     "data": {
      "text/plain": [
       "201"
      ]
     },
     "execution_count": 46,
     "metadata": {},
     "output_type": "execute_result"
    }
   ],
   "source": [
    "203 & 205"
   ]
  },
  {
   "cell_type": "code",
   "execution_count": 60,
   "metadata": {},
   "outputs": [],
   "source": [
    "import cv2\n",
    "import numpy as np\n",
    "\n",
    "#创建2张图片\n",
    "img = np.zeros((200,200), np.uint8)\n",
    "img2 = np.zeros((200,200), np.uint8)\n",
    "\n",
    "img[20:120, 20:120] = 255\n",
    "img2[80:180, 80:180] = 255\n",
    "\n",
    "# new_img = cv2.bitwise_not(img)\n",
    "# 取出了相同的部分, 白色部分的交集\n",
    "# new_img = cv2.bitwise_and(img, img2)\n",
    "# 白色部分的并集\n",
    "# new_img = cv2.bitwise_or(img, img2)\n",
    "# 白色区域的差集\n",
    "new_img = cv2.bitwise_xor(img, img2)\n",
    "\n",
    "\n",
    "cv2.imshow('new_img', np.hstack((img, img2, new_img)))\n",
    "cv2.waitKey(0)\n",
    "cv2.destroyAllWindows()"
   ]
  },
  {
   "cell_type": "code",
   "execution_count": null,
   "metadata": {},
   "outputs": [],
   "source": [
    "# 作业: 在图片上加上自己设计的logo, 建议logo简单一些. "
   ]
  },
  {
   "cell_type": "markdown",
   "metadata": {},
   "source": [
    "#### 图像的基本变换"
   ]
  },
  {
   "cell_type": "code",
   "execution_count": 63,
   "metadata": {
    "collapsed": true
   },
   "outputs": [
    {
     "name": "stdout",
     "output_type": "stream",
     "text": [
      "(360, 499, 3)\n",
      "(480, 640, 3)\n",
      "(360, 499, 3)\n"
     ]
    }
   ],
   "source": [
    "import cv2\n",
    "import numpy as np\n",
    "\n",
    "dog = cv2.imread('./dog.jpeg')\n",
    "cat = cv2.imread('./cat.jpeg')\n",
    "\n",
    "print(dog.shape)\n",
    "print(cat.shape)\n",
    "\n",
    "# 把猫缩放成和狗一样大\n",
    "new_cat = cv2.resize(cat, (499, 360))\n",
    "print(new_cat.shape)\n",
    "\n",
    "cv2.imshow('new_cat', np.hstack((dog, new_cat)))\n",
    "cv2.imshow('cat', cat)\n",
    "\n",
    "cv2.waitKey(0)\n",
    "cv2.destroyAllWindows()"
   ]
  },
  {
   "cell_type": "code",
   "execution_count": 64,
   "metadata": {},
   "outputs": [
    {
     "data": {
      "text/plain": [
       "921728"
      ]
     },
     "execution_count": 64,
     "metadata": {},
     "output_type": "execute_result"
    }
   ],
   "source": [
    "cat.__sizeof__()"
   ]
  },
  {
   "cell_type": "code",
   "execution_count": 65,
   "metadata": {
    "scrolled": true
   },
   "outputs": [
    {
     "data": {
      "text/plain": [
       "539048"
      ]
     },
     "execution_count": 65,
     "metadata": {},
     "output_type": "execute_result"
    }
   ],
   "source": [
    "new_cat.__sizeof__()"
   ]
  },
  {
   "cell_type": "code",
   "execution_count": 74,
   "metadata": {},
   "outputs": [
    {
     "name": "stdout",
     "output_type": "stream",
     "text": [
      "(180, 748, 3)\n"
     ]
    }
   ],
   "source": [
    "import cv2\n",
    "import numpy as np\n",
    "\n",
    "dog = cv2.imread('./dog.jpeg')\n",
    "cat = cv2.imread('./cat.jpeg')\n",
    "\n",
    "# 把猫缩放成和狗一样大\n",
    "# new_dog1 = cv2.resize(dog, (640, 480), interpolation=cv2.INTER_NEAREST)\n",
    "# new_dog2 = cv2.resize(dog, (640, 480), interpolation=cv2.INTER_LINEAR)# 默认效果\n",
    "# new_dog3 = cv2.resize(dog, (640, 480), interpolation=cv2.INTER_CUBIC)\n",
    "# new_dog4 = cv2.resize(dog, (640, 480), interpolation=cv2.INTER_AREA)\n",
    "# 还可以按照x,y轴的比例进序缩放\n",
    "new_dog = cv2.resize(dog, dsize=None, fx=1.5, fy=0.5, interpolation=cv2.INTER_AREA)\n",
    "print(new_dog.shape)\n",
    "cv2.imshow('new_dog', new_dog)\n",
    "\n",
    "# cv2.imshow('new_dog1', new_dog1)\n",
    "# cv2.imshow('new_dog2', new_dog2)\n",
    "# cv2.imshow('new_dog3', new_dog3)\n",
    "# cv2.imshow('new_dog4', new_dog4)\n",
    "cv2.imshow('dog', dog)\n",
    "\n",
    "cv2.waitKey(0)\n",
    "cv2.destroyAllWindows()"
   ]
  }
 ],
 "metadata": {
  "kernelspec": {
   "display_name": "Python 3",
   "language": "python",
   "name": "python3"
  },
  "language_info": {
   "codemirror_mode": {
    "name": "ipython",
    "version": 3
   },
   "file_extension": ".py",
   "mimetype": "text/x-python",
   "name": "python",
   "nbconvert_exporter": "python",
   "pygments_lexer": "ipython3",
   "version": "3.6.8"
  }
 },
 "nbformat": 4,
 "nbformat_minor": 4
}
