{
 "cells": [
  {
   "cell_type": "code",
   "execution_count": 7,
   "metadata": {
    "ExecuteTime": {
     "end_time": "2021-12-06T12:36:17.365513Z",
     "start_time": "2021-12-06T12:36:17.362522Z"
    }
   },
   "outputs": [],
   "source": [
    "import cv2"
   ]
  },
  {
   "cell_type": "code",
   "execution_count": 8,
   "metadata": {
    "ExecuteTime": {
     "end_time": "2021-12-06T12:36:22.132862Z",
     "start_time": "2021-12-06T12:36:22.122888Z"
    }
   },
   "outputs": [
    {
     "data": {
      "text/plain": [
       "'3.4.1'"
      ]
     },
     "execution_count": 8,
     "metadata": {},
     "output_type": "execute_result"
    }
   ],
   "source": [
    "cv2.__version__"
   ]
  },
  {
   "cell_type": "markdown",
   "metadata": {},
   "source": [
    "### SURF算法"
   ]
  },
  {
   "cell_type": "code",
   "execution_count": 14,
   "metadata": {
    "ExecuteTime": {
     "end_time": "2021-12-06T12:58:56.443549Z",
     "start_time": "2021-12-06T12:56:18.513185Z"
    }
   },
   "outputs": [
    {
     "name": "stdout",
     "output_type": "stream",
     "text": [
      "<class 'numpy.ndarray'>\n",
      "(1356, 64)\n"
     ]
    }
   ],
   "source": [
    "import cv2\n",
    "import numpy as np\n",
    "\n",
    "img = cv2.imread('./chess.png')\n",
    "\n",
    "gray = cv2.cvtColor(img, cv2.COLOR_BGR2GRAY)\n",
    "\n",
    "# 创建SURF对象\n",
    "surf = cv2.xfeatures2d.SURF_create()\n",
    "\n",
    "# 返回的是列表, 里面每一个都是一个keypoint对象\n",
    "kp = surf.detect(gray)\n",
    "# 检测关键点, 并计算描述子(描述符)\n",
    "kp, des = surf.detectAndCompute(img, None)\n",
    "# print(type(kp))\n",
    "# print(type(kp[0]))\n",
    "# print(kp[0].pt)\n",
    "print(type(des))\n",
    "# SURF算法的特征描述子是一个64维的向量, 比SIFT少了一半\n",
    "print(des.shape)\n",
    "\n",
    "# surf.computer(img, kp)\n",
    "\n",
    "# 绘制关键点\n",
    "cv2.drawKeypoints(gray, kp, img)\n",
    "\n",
    "cv2.imshow('SURF', img)\n",
    "cv2.waitKey(0)\n",
    "cv2.destroyAllWindows()"
   ]
  },
  {
   "cell_type": "markdown",
   "metadata": {},
   "source": [
    "### ORB算法"
   ]
  },
  {
   "cell_type": "code",
   "execution_count": null,
   "metadata": {},
   "outputs": [],
   "source": [
    "import cv2 \n",
    "import numpy as np\n",
    "\n",
    "img = cv2.imread('./chess.png')\n",
    "\n",
    "gray = cv2.cvtColor(img, cv2.COLOR_BGR2GRAY)\n",
    "\n",
    "# 创建ORB对象\n",
    "orb = cv2.ORB_create()\n",
    "\n",
    "# 进行检测\n",
    "kp = orb.detect(gray)\n",
    "\n",
    "# 计算描述子\n",
    "kp, des = orb.compute(img, kp)\n",
    "# ORB算法的描述子只有32维向量\n",
    "print(des.shape)\n",
    "\n",
    "# 也可以一步到位得到关键点和描述子\n",
    "kp, des = orb.detectAndCompute(img, None)\n",
    "\n",
    "# 绘制关键点\n",
    "cv2.drawKeypoints(gray, kp, img)\n",
    "cv2.imshow('ORB', img)\n",
    "cv2.waitKey(0)\n",
    "cv2.destroyAllWindows()"
   ]
  },
  {
   "cell_type": "markdown",
   "metadata": {},
   "source": [
    "### 暴力特征匹配"
   ]
  },
  {
   "cell_type": "code",
   "execution_count": 42,
   "metadata": {
    "ExecuteTime": {
     "end_time": "2021-12-06T14:03:23.684733Z",
     "start_time": "2021-12-06T14:03:06.383848Z"
    },
    "scrolled": true
   },
   "outputs": [
    {
     "name": "stdout",
     "output_type": "stream",
     "text": [
      "18\n",
      "[[<DMatch 000001D03967CAD0>, <DMatch 000001D03967C130>], [<DMatch 000001D03967C070>, <DMatch 000001D03967CD70>], [<DMatch 000001D03967C210>, <DMatch 000001D03967C810>], [<DMatch 000001D03967C510>, <DMatch 000001D03967CD50>], [<DMatch 000001D03967C9F0>, <DMatch 000001D0266B9350>], [<DMatch 000001D0266B9390>, <DMatch 000001D0266B92F0>], [<DMatch 000001D0266B94F0>, <DMatch 000001D0266B92D0>], [<DMatch 000001D0266B9490>, <DMatch 000001D0266B92B0>], [<DMatch 000001D0266B9B50>, <DMatch 000001D0266B9710>], [<DMatch 000001D0266B9650>, <DMatch 000001D0266B9230>], [<DMatch 000001D0266B95B0>, <DMatch 000001D0266B9790>], [<DMatch 000001D0266B9F10>, <DMatch 000001D0266B9630>], [<DMatch 000001D0266B93B0>, <DMatch 000001D0266B9530>], [<DMatch 000001D0266B97F0>, <DMatch 000001D0266B97D0>], [<DMatch 000001D0266B9510>, <DMatch 000001D0266B9310>], [<DMatch 000001D0266B9410>, <DMatch 000001D0266B9750>], [<DMatch 000001D0266B90F0>, <DMatch 000001D0266B9A50>], [<DMatch 000001D0266B9190>, <DMatch 000001D0266B90B0>]]\n",
      "2523.0\n",
      "0\n",
      "229\n"
     ]
    }
   ],
   "source": [
    "import cv2\n",
    "import numpy as np\n",
    "\n",
    "img1 = cv2.imread('./opencv_search.png')\n",
    "img2 = cv2.imread('opencv_orig.png')\n",
    "\n",
    "gray1 = cv2.cvtColor(img1, cv2.COLOR_BGR2GRAY)\n",
    "gray2 = cv2.cvtColor(img2, cv2.COLOR_BGR2GRAY)\n",
    "\n",
    "# 创建特征检测对象\n",
    "sift = cv2.xfeatures2d.SIFT_create()\n",
    "\n",
    "# 计算描述子\n",
    "kp1, des1 = sift.detectAndCompute(img1, None)\n",
    "kp2, des2 = sift.detectAndCompute(img2, None)\n",
    "\n",
    "# 进行暴力匹配\n",
    "bf = cv2.BFMatcher(cv2.NORM_L1)\n",
    "# 进行匹配\n",
    "match = bf.match(des1, des2)\n",
    "# 除了match可以进行匹配, 还有knnMatch\n",
    "# 一般k=2\n",
    "match = bf.knnMatch(des1, des2, k=2)\n",
    "# print(type(match))\n",
    "print(len(match))\n",
    "print(match)\n",
    "print(match[0][0].distance)\n",
    "print(match[0][0].queryIdx)\n",
    "print(match[0][0].trainIdx)\n",
    "\n",
    "# 绘制特征匹配\n",
    "# result = cv2.drawMatches(img1, kp1, img2, kp2, match, None)\n",
    "# 专门用来画knnmatch匹配结果的\n",
    "good = []\n",
    "for m, n in match:\n",
    "    # 设定阈值, 距离小于对方距离的0.7倍, 我们认为是好的匹配点. \n",
    "    if m.distance < 0.7 * n.distance:\n",
    "        good.append(m)\n",
    "        \n",
    "result = cv2.drawMatchesKnn(img1, kp1, img2, kp2, [good], None)\n",
    "cv2.imshow('result', result)\n",
    "cv2.waitKey(0)\n",
    "cv2.destroyAllWindows()"
   ]
  },
  {
   "cell_type": "markdown",
   "metadata": {},
   "source": [
    "### FLANN特征匹配"
   ]
  },
  {
   "cell_type": "code",
   "execution_count": 38,
   "metadata": {
    "ExecuteTime": {
     "end_time": "2021-12-06T13:58:03.128604Z",
     "start_time": "2021-12-06T13:57:35.559228Z"
    }
   },
   "outputs": [
    {
     "name": "stdout",
     "output_type": "stream",
     "text": [
      "18\n"
     ]
    }
   ],
   "source": [
    "import cv2\n",
    "import numpy as np\n",
    "\n",
    "img1 = cv2.imread('./opencv_search.png')\n",
    "img2 = cv2.imread('opencv_orig.png')\n",
    "\n",
    "gray1 = cv2.cvtColor(img1, cv2.COLOR_BGR2GRAY)\n",
    "gray2 = cv2.cvtColor(img2, cv2.COLOR_BGR2GRAY)\n",
    "\n",
    "# 创建特征检测对象\n",
    "sift = cv2.xfeatures2d.SIFT_create()\n",
    "\n",
    "# 计算描述子\n",
    "kp1, des1 = sift.detectAndCompute(img1, None)\n",
    "kp2, des2 = sift.detectAndCompute(img2, None)\n",
    "\n",
    "# 创建FLANN特征匹配对象\n",
    "index_params = dict(algorithm=1, tree=5)\n",
    "# 根据经验, kdtree设置5个tree, 那么checks一般设置为50\n",
    "search_params = dict(checks=50)\n",
    "flann = cv2.FlannBasedMatcher(index_params, search_params)\n",
    "\n",
    "matches = flann.match(des1, des2)\n",
    "\n",
    "print(len(matches))\n",
    "\n",
    "result = cv2.drawMatches(img1, kp1, img2, kp2, matches, None)\n",
    "\n",
    "cv2.imshow('result', result)\n",
    "cv2.waitKey(0)\n",
    "cv2.destroyAllWindows()"
   ]
  }
 ],
 "metadata": {
  "kernelspec": {
   "display_name": "Python 3",
   "language": "python",
   "name": "python3"
  },
  "language_info": {
   "codemirror_mode": {
    "name": "ipython",
    "version": 3
   },
   "file_extension": ".py",
   "mimetype": "text/x-python",
   "name": "python",
   "nbconvert_exporter": "python",
   "pygments_lexer": "ipython3",
   "version": "3.6.8"
  },
  "toc": {
   "base_numbering": 1,
   "nav_menu": {},
   "number_sections": true,
   "sideBar": true,
   "skip_h1_title": false,
   "title_cell": "Table of Contents",
   "title_sidebar": "Contents",
   "toc_cell": false,
   "toc_position": {},
   "toc_section_display": true,
   "toc_window_display": false
  }
 },
 "nbformat": 4,
 "nbformat_minor": 4
}
