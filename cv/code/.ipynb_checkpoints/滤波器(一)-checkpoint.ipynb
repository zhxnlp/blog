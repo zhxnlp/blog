{
 "cells": [
  {
   "cell_type": "markdown",
   "metadata": {},
   "source": [
    "### opencv中的卷积操作"
   ]
  },
  {
   "cell_type": "code",
   "execution_count": 6,
   "metadata": {
    "ExecuteTime": {
     "end_time": "2021-11-10T13:03:08.319522Z",
     "start_time": "2021-11-10T13:02:14.169953Z"
    }
   },
   "outputs": [],
   "source": [
    "# opencv中的卷积操作\n",
    "import cv2\n",
    "import numpy as np\n",
    "\n",
    "img = cv2.imread('dog.jpeg')\n",
    "\n",
    "gray_img = cv2.cvtColor(img, cv2.COLOR_BGR2GRAY)\n",
    "# kernel必须是float型\n",
    "# kernel = np.ones((5, 5), np.float32) / 25\n",
    "\n",
    "# 尝试其他卷积核, 突出轮廓\n",
    "# kernel = np.array([[-1,-1, -1], [-1, 8, -1], [-1, -1, -1]])\n",
    "\n",
    "# 浮雕效果\n",
    "kernel = np.array([[-2, 1, 0], [-1, 1, 1], [0, 1, 2]])\n",
    "\n",
    "# 锐化\n",
    "# kernel = np.array([[0, -1, 0], [-1, 5, -1], [0, -1, 0]])\n",
    "\n",
    "\n",
    "\n",
    "# 卷积操作\n",
    "dst = cv2.filter2D(gray_img, -1, kernel)\n",
    "\n",
    "cv2.imshow('img', np.hstack((gray_img, dst)))\n",
    "cv2.waitKey(0)\n",
    "cv2.destroyAllWindows()"
   ]
  },
  {
   "cell_type": "markdown",
   "metadata": {
    "ExecuteTime": {
     "end_time": "2021-11-10T13:23:58.674608Z",
     "start_time": "2021-11-10T13:23:58.663635Z"
    }
   },
   "source": [
    "### 方盒滤波"
   ]
  },
  {
   "cell_type": "code",
   "execution_count": 7,
   "metadata": {
    "ExecuteTime": {
     "end_time": "2021-11-10T13:19:07.362754Z",
     "start_time": "2021-11-10T13:18:48.951998Z"
    }
   },
   "outputs": [],
   "source": [
    "# 方盒滤波\n",
    "import cv2\n",
    "import numpy as np\n",
    "\n",
    "img = cv2.imread('dog.jpeg')\n",
    "\n",
    "# 不用手动创建卷积核, 只需要告诉方盒滤波, 卷积核的大小是多少.\n",
    "dst = cv2.boxFilter(img, -1, (5, 5), normalize=True)\n",
    "\n",
    "cv2.imshow('img', np.hstack((img, dst)))\n",
    "cv2.waitKey(0)\n",
    "cv2.destroyAllWindows()"
   ]
  },
  {
   "cell_type": "markdown",
   "metadata": {},
   "source": [
    "### 均值滤波"
   ]
  },
  {
   "cell_type": "code",
   "execution_count": 15,
   "metadata": {
    "ExecuteTime": {
     "end_time": "2021-11-10T13:55:03.579938Z",
     "start_time": "2021-11-10T13:54:08.644401Z"
    }
   },
   "outputs": [],
   "source": [
    "# 均值滤波\n",
    "import cv2\n",
    "import numpy as np\n",
    "\n",
    "img = cv2.imread('dog.jpeg')\n",
    "# 均值滤波没有位深这个参数ddepth\n",
    "dst = cv2.blur(img, (5, 5))\n",
    "\n",
    "cv2.imshow('img', np.hstack((img, dst)))\n",
    "cv2.waitKey(0)\n",
    "cv2.destroyAllWindows()"
   ]
  },
  {
   "cell_type": "markdown",
   "metadata": {},
   "source": [
    "### 高斯滤波"
   ]
  },
  {
   "cell_type": "markdown",
   "metadata": {},
   "source": [
    "<font size=5>$G(x,y) = \\frac{1}{2 \\pi \\sigma^2}e^{-\\frac{x^2+y^2}{2\\sigma ^2}}$</font>"
   ]
  },
  {
   "cell_type": "code",
   "execution_count": 12,
   "metadata": {
    "ExecuteTime": {
     "end_time": "2021-11-10T13:42:29.359167Z",
     "start_time": "2021-11-10T13:42:29.341215Z"
    }
   },
   "outputs": [
    {
     "data": {
      "text/plain": [
       "0.0707355302630646"
      ]
     },
     "execution_count": 12,
     "metadata": {},
     "output_type": "execute_result"
    }
   ],
   "source": [
    "# 计算(0,0)坐标点,对应的值\n",
    "1 / (2 * np.pi * 1.5**2)"
   ]
  },
  {
   "cell_type": "code",
   "execution_count": 13,
   "metadata": {
    "ExecuteTime": {
     "end_time": "2021-11-10T13:43:40.887663Z",
     "start_time": "2021-11-10T13:43:40.876691Z"
    }
   },
   "outputs": [
    {
     "data": {
      "text/plain": [
       "0.04535423476987057"
      ]
     },
     "execution_count": 13,
     "metadata": {},
     "output_type": "execute_result"
    }
   ],
   "source": [
    "# 计算(-1, 1)坐标点对应的值\n",
    "1 / (2 * np.pi * 1.5**2)* np.exp(-(2/(2*1.5**2)))"
   ]
  },
  {
   "cell_type": "code",
   "execution_count": 14,
   "metadata": {
    "ExecuteTime": {
     "end_time": "2021-11-10T13:46:37.068654Z",
     "start_time": "2021-11-10T13:46:37.060675Z"
    }
   },
   "outputs": [
    {
     "data": {
      "text/plain": [
       "1.5596211168061338"
      ]
     },
     "execution_count": 14,
     "metadata": {},
     "output_type": "execute_result"
    }
   ],
   "source": [
    "0.147761 / 0.0947416"
   ]
  },
  {
   "cell_type": "code",
   "execution_count": 21,
   "metadata": {
    "ExecuteTime": {
     "end_time": "2021-11-10T14:01:05.926929Z",
     "start_time": "2021-11-10T14:00:54.435334Z"
    },
    "scrolled": true
   },
   "outputs": [],
   "source": [
    "# import cv2\n",
    "import numpy as np\n",
    "\n",
    "img = cv2.imread('lena.png')\n",
    "\n",
    "# dst = cv2.GaussianBlur(img, (5, 5), sigmaX=100)\n",
    "# 不指定sigmaX会使用ksize计算sigma\n",
    "dst = cv2.GaussianBlur(img, (9, 9), sigmaX=0)\n",
    "\n",
    "\n",
    "cv2.imshow('img', np.hstack((img, dst)))\n",
    "cv2.waitKey(0)\n",
    "cv2.destroyAllWindows()"
   ]
  },
  {
   "cell_type": "code",
   "execution_count": 23,
   "metadata": {
    "ExecuteTime": {
     "end_time": "2021-11-10T14:03:31.493151Z",
     "start_time": "2021-11-10T14:02:38.299590Z"
    }
   },
   "outputs": [],
   "source": [
    "# 使用高斯滤波去噪\n",
    "# import cv2\n",
    "import numpy as np\n",
    "\n",
    "img = cv2.imread('gaussian.png')\n",
    "\n",
    "# dst = cv2.GaussianBlur(img, (5, 5), sigmaX=100)\n",
    "# 不指定sigmaX会使用ksize计算sigma\n",
    "dst = cv2.GaussianBlur(img, (5, 5), sigmaX=1)\n",
    "\n",
    "\n",
    "cv2.imshow('img', np.hstack((img, dst)))\n",
    "cv2.waitKey(0)\n",
    "cv2.destroyAllWindows()"
   ]
  }
 ],
 "metadata": {
  "kernelspec": {
   "display_name": "Python 3",
   "language": "python",
   "name": "python3"
  },
  "language_info": {
   "codemirror_mode": {
    "name": "ipython",
    "version": 3
   },
   "file_extension": ".py",
   "mimetype": "text/x-python",
   "name": "python",
   "nbconvert_exporter": "python",
   "pygments_lexer": "ipython3",
   "version": "3.6.8"
  },
  "toc": {
   "base_numbering": 1,
   "nav_menu": {},
   "number_sections": true,
   "sideBar": true,
   "skip_h1_title": false,
   "title_cell": "Table of Contents",
   "title_sidebar": "Contents",
   "toc_cell": false,
   "toc_position": {
    "height": "calc(100% - 180px)",
    "left": "10px",
    "top": "150px",
    "width": "175.543px"
   },
   "toc_section_display": true,
   "toc_window_display": true
  }
 },
 "nbformat": 4,
 "nbformat_minor": 4
}
