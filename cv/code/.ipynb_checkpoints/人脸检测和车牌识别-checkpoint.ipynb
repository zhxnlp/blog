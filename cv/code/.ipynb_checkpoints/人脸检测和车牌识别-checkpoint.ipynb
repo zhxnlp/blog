{
 "cells": [
  {
   "cell_type": "markdown",
   "metadata": {},
   "source": [
    "### 人脸检测\n"
   ]
  },
  {
   "cell_type": "code",
   "execution_count": 1,
   "metadata": {
    "ExecuteTime": {
     "end_time": "2021-12-31T12:36:08.702892Z",
     "start_time": "2021-12-31T12:36:08.589197Z"
    }
   },
   "outputs": [],
   "source": [
    "import numpy as np\n",
    "import cv2"
   ]
  },
  {
   "cell_type": "code",
   "execution_count": 5,
   "metadata": {
    "ExecuteTime": {
     "end_time": "2021-12-31T12:55:16.021588Z",
     "start_time": "2021-12-31T12:55:00.011096Z"
    }
   },
   "outputs": [],
   "source": [
    "img = cv2.imread('./p3.png')\n",
    "\n",
    "# 变成黑白图片\n",
    "gray = cv2.cvtColor(img, cv2.COLOR_BGR2GRAY)\n",
    "\n",
    "# 创建haar级联器\n",
    "face = cv2.CascadeClassifier('./haarcascade_frontalface_default.xml')\n",
    "\n",
    "# 检测人脸\n",
    "faces = face.detectMultiScale(gray)\n",
    "\n",
    "# print(type(faces))\n",
    "# print(faces)\n",
    "\n",
    "# 画出检测出的人脸框\n",
    "for (x, y, w, h) in faces:\n",
    "    cv2.rectangle(img, (x, y), (x + w, y + h), (0, 0, 255), 2)\n",
    "    \n",
    "cv2.imshow('img', img)\n",
    "cv2.waitKey(0)\n",
    "cv2.destroyAllWindows()"
   ]
  },
  {
   "cell_type": "code",
   "execution_count": 10,
   "metadata": {
    "ExecuteTime": {
     "end_time": "2021-12-31T13:02:58.438070Z",
     "start_time": "2021-12-31T13:02:26.393627Z"
    }
   },
   "outputs": [],
   "source": [
    "### 世界物理合照图片人脸检测\n",
    "img = cv2.imread('./322a1792fb4fd575aaf6fa809607aa82.jpg')\n",
    "\n",
    "# 变成黑白图片\n",
    "gray = cv2.cvtColor(img, cv2.COLOR_BGR2GRAY)\n",
    "\n",
    "# 创建haar级联器\n",
    "face = cv2.CascadeClassifier('./haarcascade_frontalface_alt2.xml')\n",
    "\n",
    "# 检测人脸\n",
    "faces = face.detectMultiScale(gray, scaleFactor=1.2, minNeighbors=4)\n",
    "\n",
    "# print(type(faces))\n",
    "# print(faces)\n",
    "\n",
    "# 画出检测出的人脸框\n",
    "for (x, y, w, h) in faces:\n",
    "    cv2.rectangle(img, (x, y), (x + w, y + h), (0, 0, 255), 2)\n",
    "    \n",
    "cv2.imshow('img', img)\n",
    "cv2.waitKey(0)\n",
    "cv2.destroyAllWindows()"
   ]
  },
  {
   "cell_type": "code",
   "execution_count": 16,
   "metadata": {
    "ExecuteTime": {
     "end_time": "2021-12-31T13:37:38.885694Z",
     "start_time": "2021-12-31T13:29:39.473264Z"
    }
   },
   "outputs": [],
   "source": [
    "### 检测眼睛\n",
    "img = cv2.imread('./p3.png')\n",
    "\n",
    "# 变成黑白图片\n",
    "gray = cv2.cvtColor(img, cv2.COLOR_BGR2GRAY)\n",
    "\n",
    "# 创建haar级联器\n",
    "face = cv2.CascadeClassifier('./haarcascade_frontalface_default.xml')\n",
    "eye = cv2.CascadeClassifier('./haarcascade_eye.xml')\n",
    "\n",
    "# 检测人脸\n",
    "faces = face.detectMultiScale(gray)\n",
    "\n",
    "\n",
    "# print(type(faces))\n",
    "# print(faces)\n",
    "\n",
    "# 画出检测出的人脸框\n",
    "for (x, y, w, h) in faces:\n",
    "    cv2.rectangle(img, (x, y), (x + w, y + h), (0, 0, 255), 2)\n",
    "    roi_img = img[y: y + h, x: x + w]\n",
    "    eyes = eye.detectMultiScale(roi_img)\n",
    "    for (ox, oy, ow, oh) in eyes:\n",
    "        cv2.rectangle(roi_img, (ox, oy), (ox + ow, oy + oh), (0, 255, 0), 2)\n",
    "        roi_eye = roi_img[oy: oy + oh, ox: ox + ow]\n",
    "        img[y: y + h, x: x + w] = roi_img\n",
    "        cv2.imshow('eye', roi_eye)\n",
    "        \n",
    "# for (x, y, w, h) in eyes:\n",
    "#     cv2.rectangle(img, (x, y), (x + w, y + h), (0, 255, 0), 2)\n",
    "\n",
    "# cv2.imshow('eye', roi_img)\n",
    "cv2.imshow('img', img)\n",
    "cv2.waitKey(0)\n",
    "cv2.destroyAllWindows()"
   ]
  },
  {
   "cell_type": "markdown",
   "metadata": {},
   "source": [
    "### 车牌识别"
   ]
  },
  {
   "cell_type": "code",
   "execution_count": 23,
   "metadata": {
    "ExecuteTime": {
     "end_time": "2021-12-31T14:10:26.608549Z",
     "start_time": "2021-12-31T14:08:37.475762Z"
    },
    "scrolled": true
   },
   "outputs": [
    {
     "name": "stdout",
     "output_type": "stream",
     "text": [
      "让5N555\n",
      "\f",
      "\n"
     ]
    }
   ],
   "source": [
    "import pytesseract\n",
    "\n",
    "img = cv2.imread('./chinacar.jpeg')\n",
    "\n",
    "# 变成黑白图片\n",
    "gray = cv2.cvtColor(img, cv2.COLOR_BGR2GRAY)\n",
    "\n",
    "# 创建haar级联器\n",
    "car = cv2.CascadeClassifier('./haarcascade_russian_plate_number.xml')\n",
    "cars = car.detectMultiScale(gray)\n",
    "for (x, y, w, h) in cars:\n",
    "    cv2.rectangle(img, (x, y), (x + w, y + h), (0, 0, 255), 2)\n",
    "    roi = gray[y: y + h, x: x + w]\n",
    "    \n",
    "    # 进行形态学操作\n",
    "    # 二值化\n",
    "    ret, roi_bin = cv2.threshold(roi, 0, 255, cv2.THRESH_BINARY | cv2.THRESH_OTSU)\n",
    "    cv2.imshow('roi', roi_bin)\n",
    "    # 开操作'\n",
    "#     kernel = cv2.getStructuringElement(cv2.MORPH_RECT, (3, 3))\n",
    "    kernel = np.ones(shape=(3, 3), dtype=np.uint8)\n",
    "    roi = cv2.morphologyEx(roi_bin, cv2.MORPH_OPEN, kernel, iterations=1)\n",
    "    cv2.imshow('roi2', roi)\n",
    "    print(pytesseract.image_to_string(roi, lang='chi_sim+eng', config='--psm 8 --oem 3'))\n",
    "    \n",
    "cv2.imshow('img', img)\n",
    "cv2.waitKey(0)\n",
    "cv2.destroyAllWindows()"
   ]
  }
 ],
 "metadata": {
  "kernelspec": {
   "display_name": "Python 3",
   "language": "python",
   "name": "python3"
  },
  "language_info": {
   "codemirror_mode": {
    "name": "ipython",
    "version": 3
   },
   "file_extension": ".py",
   "mimetype": "text/x-python",
   "name": "python",
   "nbconvert_exporter": "python",
   "pygments_lexer": "ipython3",
   "version": "3.6.8"
  },
  "toc": {
   "base_numbering": 1,
   "nav_menu": {},
   "number_sections": true,
   "sideBar": true,
   "skip_h1_title": false,
   "title_cell": "Table of Contents",
   "title_sidebar": "Contents",
   "toc_cell": false,
   "toc_position": {},
   "toc_section_display": true,
   "toc_window_display": false
  }
 },
 "nbformat": 4,
 "nbformat_minor": 4
}
