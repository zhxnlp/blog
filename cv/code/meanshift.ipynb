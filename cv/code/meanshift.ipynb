{
 "cells": [
  {
   "cell_type": "code",
   "execution_count": 7,
   "metadata": {
    "ExecuteTime": {
     "end_time": "2021-12-27T13:40:39.402495Z",
     "start_time": "2021-12-27T13:39:31.037146Z"
    }
   },
   "outputs": [],
   "source": [
    "import cv2\n",
    "import numpy as np\n",
    "\n",
    "img = cv2.imread('./flower.png')\n",
    "img_mean = cv2.pyrMeanShiftFiltering(img, 20, 30)\n",
    "img_canny = cv2.Canny(img_mean, 150, 300)\n",
    "\n",
    "img_canny2 = cv2.Canny(img, 150, 300)\n",
    "# 找轮廓\n",
    "_, contours, _ = cv2.findContours(img_canny, cv2.RETR_EXTERNAL, cv2.CHAIN_APPROX_SIMPLE)\n",
    "\n",
    "cv2.drawContours(img, contours, -1, (0, 0, 255), 2)\n",
    "\n",
    "cv2.imshow('img', np.hstack((img, img_mean)))\n",
    "cv2.imshow('canny', np.hstack((img_canny, img_canny2)))\n",
    "\n",
    "cv2.waitKey(0)\n",
    "cv2.destroyAllWindows()"
   ]
  },
  {
   "cell_type": "code",
   "execution_count": null,
   "metadata": {},
   "outputs": [],
   "source": [
    "import cv2\n",
    "import numpy as np\n",
    "\n",
    "img = cv2.imread('./flower.png')\n",
    "img_mean = cv2.pyrMeanShiftFiltering(img, 20, 30)\n",
    "img_canny = cv2.Canny(img_mean, 150, 300)\n",
    "\n",
    "img_canny2 = cv2.Canny(img, 150, 300)\n",
    "# 找轮廓\n",
    "_, contours, _ = cv2.findContours(img_canny, cv2.RETR_EXTERNAL, cv2.CHAIN_APPROX_SIMPLE)\n",
    "\n",
    "cv2.drawContours(img, contours, -1, (0, 0, 255), 2)\n",
    "\n",
    "cv2.imshow('img', np.hstack((img, img_mean)))\n",
    "cv2.imshow('canny', np.hstack((img_canny, img_canny2)))\n",
    "\n",
    "cv2.waitKey(0)\n",
    "cv2.destroyAllWindows()"
   ]
  },
  {
   "cell_type": "code",
   "execution_count": 14,
   "metadata": {
    "ExecuteTime": {
     "end_time": "2021-12-27T13:46:15.715476Z",
     "start_time": "2021-12-27T13:45:59.786259Z"
    }
   },
   "outputs": [],
   "source": [
    "import cv2\n",
    "import numpy as np\n",
    "\n",
    "img = cv2.imread('./key.png')\n",
    "img_mean = cv2.pyrMeanShiftFiltering(img, 20, 30)\n",
    "img_canny = cv2.Canny(img_mean, 150, 300)\n",
    "\n",
    "img_canny2 = cv2.Canny(img, 150, 300)\n",
    "# 找轮廓\n",
    "_, contours, _ = cv2.findContours(img_canny, cv2.RETR_EXTERNAL, cv2.CHAIN_APPROX_SIMPLE)\n",
    "\n",
    "cv2.drawContours(img, contours, -1, (0, 0, 255), 2)\n",
    "\n",
    "cv2.imshow('img', np.hstack((img, img_mean)))\n",
    "cv2.imshow('canny', np.hstack((img_canny, img_canny2)))\n",
    "\n",
    "cv2.waitKey(0)\n",
    "cv2.destroyAllWindows()"
   ]
  },
  {
   "cell_type": "code",
   "execution_count": 13,
   "metadata": {
    "ExecuteTime": {
     "end_time": "2021-12-27T13:45:58.270787Z",
     "start_time": "2021-12-27T13:45:29.169996Z"
    }
   },
   "outputs": [],
   "source": [
    "# 直接找轮廓\n",
    "import cv2\n",
    "import numpy as np\n",
    "\n",
    "img = cv2.imread('./key.png')\n",
    "\n",
    "# img_canny = cv2.Canny(img, 150, 300)\n",
    "img_gray = cv2.cvtColor(img, cv2.COLOR_BGR2GRAY)\n",
    "_ , thresh = cv2.threshold(img_gray, 127, 255, cv2.THRESH_BINARY)\n",
    "_, contours, _ = cv2.findContours(thresh, cv2.RETR_EXTERNAL, cv2.CHAIN_APPROX_SIMPLE)\n",
    "\n",
    "cv2.drawContours(img, contours, -1, (0, 0, 255), 2)\n",
    "cv2.imshow('img', img)\n",
    "cv2.waitKey(0)\n",
    "cv2.destroyAllWindows()"
   ]
  },
  {
   "cell_type": "markdown",
   "metadata": {},
   "source": [
    "### MOG"
   ]
  },
  {
   "cell_type": "code",
   "execution_count": 15,
   "metadata": {
    "ExecuteTime": {
     "end_time": "2021-12-27T13:51:52.914188Z",
     "start_time": "2021-12-27T13:51:35.444997Z"
    }
   },
   "outputs": [],
   "source": [
    "import cv2\n",
    "import numpy as np\n",
    "\n",
    "cap = cv2.VideoCapture('./vtest.avi')\n",
    "mog = cv2.bgsegm.createBackgroundSubtractorMOG()\n",
    "\n",
    "while(True):\n",
    "    ret, frame = cap.read()\n",
    "    if not ret:\n",
    "        break\n",
    "    \n",
    "    fgmask = mog.apply(frame)\n",
    "\n",
    "    cv2.imshow('img',fgmask)\n",
    "\n",
    "    k = cv2.waitKey(10) \n",
    "    if k ==27:\n",
    "        break\n",
    "\n",
    "cap.release()\n",
    "cv2.destroyAllWindows()\n"
   ]
  },
  {
   "cell_type": "markdown",
   "metadata": {},
   "source": [
    "### MOG2"
   ]
  },
  {
   "cell_type": "code",
   "execution_count": 17,
   "metadata": {
    "ExecuteTime": {
     "end_time": "2021-12-27T13:54:33.079666Z",
     "start_time": "2021-12-27T13:54:15.809916Z"
    }
   },
   "outputs": [],
   "source": [
    "import cv2\n",
    "import numpy as np\n",
    "\n",
    "cap = cv2.VideoCapture('./vtest.avi')\n",
    "mog = cv2.createBackgroundSubtractorMOG2()\n",
    "\n",
    "while(True):\n",
    "    ret, frame = cap.read()\n",
    "    if not ret:\n",
    "        break\n",
    "    \n",
    "    fgmask = mog.apply(frame)\n",
    "\n",
    "    cv2.imshow('img',fgmask)\n",
    "\n",
    "    k = cv2.waitKey(10) \n",
    "    if k ==27:\n",
    "        break\n",
    "\n",
    "cap.release()\n",
    "cv2.destroyAllWindows()\n"
   ]
  },
  {
   "cell_type": "markdown",
   "metadata": {},
   "source": [
    "### GMG"
   ]
  },
  {
   "cell_type": "code",
   "execution_count": 20,
   "metadata": {
    "ExecuteTime": {
     "end_time": "2021-12-27T13:59:55.094878Z",
     "start_time": "2021-12-27T13:59:26.230969Z"
    }
   },
   "outputs": [],
   "source": [
    "import cv2\n",
    "import numpy as np\n",
    "\n",
    "cap = cv2.VideoCapture('./vtest.avi')\n",
    "mog = cv2.bgsegm.createBackgroundSubtractorGMG()\n",
    "\n",
    "while(True):\n",
    "    ret, frame = cap.read()\n",
    "    if not ret:\n",
    "        break\n",
    "    \n",
    "    fgmask = mog.apply(frame)\n",
    "\n",
    "    cv2.imshow('img',fgmask)\n",
    "\n",
    "    k = cv2.waitKey(10) \n",
    "    if k ==27:\n",
    "        break\n",
    "\n",
    "cap.release()\n",
    "cv2.destroyAllWindows()"
   ]
  },
  {
   "cell_type": "markdown",
   "metadata": {
    "ExecuteTime": {
     "end_time": "2021-12-27T14:05:30.418159Z",
     "start_time": "2021-12-27T14:05:30.408187Z"
    }
   },
   "source": [
    "### 图片修复"
   ]
  },
  {
   "cell_type": "code",
   "execution_count": 2,
   "metadata": {
    "ExecuteTime": {
     "end_time": "2022-04-18T14:07:42.346700Z",
     "start_time": "2022-04-18T14:07:37.897015Z"
    }
   },
   "outputs": [
    {
     "name": "stdout",
     "output_type": "stream",
     "text": [
      "(480, 512, 3)\n",
      "(480, 512)\n"
     ]
    }
   ],
   "source": [
    "import cv2\n",
    "import numpy as np\n",
    "\n",
    "\n",
    "img = cv2.imread('./inpaint.png')\n",
    "mask = cv2.imread('./inpaint_mask.png', 0)\n",
    "print(img.shape)\n",
    "print(mask.shape)\n",
    "result = cv2.inpaint(img, mask, 5, flags=cv2.INPAINT_NS)\n",
    "\n",
    "cv2.imshow('img', np.hstack((img, result)))\n",
    "cv2.waitKey(0)\n",
    "cv2.destroyAllWindows()"
   ]
  },
  {
   "cell_type": "markdown",
   "metadata": {
    "ExecuteTime": {
     "end_time": "2022-04-18T14:56:58.659975Z",
     "start_time": "2022-04-18T14:56:58.643021Z"
    }
   },
   "source": [
    "### 交互式抠图"
   ]
  },
  {
   "cell_type": "code",
   "execution_count": 4,
   "metadata": {
    "ExecuteTime": {
     "end_time": "2022-04-25T07:16:48.931537Z",
     "start_time": "2022-04-25T07:16:27.977023Z"
    }
   },
   "outputs": [],
   "source": [
    "import cv2 \n",
    "import numpy as np\n",
    "class App:\n",
    "    drawing = False\n",
    "    \n",
    "    def __init__(self, ):\n",
    "            self.mask = None\n",
    "            \n",
    "            \n",
    "    def onmouse(self, event, x, y, flags, param):\n",
    "            if event == cv2.EVENT_LBUTTONDOWN:\n",
    "                    self.drawing = True\n",
    "                    self.ox, self.oy = x, y\n",
    "\n",
    "            elif event == cv2.EVENT_MOUSEMOVE:\n",
    "                if self.drawing == True:\n",
    "                    cv2.line(self.img_copy, (self.ox, self.oy), (x, y), (0,0,255),4)\n",
    "                    cv2.line(self.mask, (self.ox, self.oy), (x, y), (255,255,255),4)\n",
    "                    self.ox, self.oy = x, y\n",
    "\n",
    "            elif event == cv2.EVENT_LBUTTONUP:\n",
    "                    self.drawing = False\n",
    "\n",
    "        \n",
    "    def run(self):\n",
    "        cv2.namedWindow('input')\n",
    "        cv2.namedWindow('output')\n",
    "        cv2.setMouseCallback('input', self.onmouse)\n",
    "        self.img = cv2.imread('./1.jpg')\n",
    "        # 统一调整图片大小\n",
    "        self.img = cv2.resize(self.img, (1280, 720))\n",
    "        self.img_copy=self.img\n",
    "        self.mask = np.zeros(self.img.shape[:2],dtype=np.uint8)\n",
    "\n",
    "        while True:\n",
    "            cv2.imshow('input', self.img_copy)\n",
    "            k = cv2.waitKey(1) & 0XFF\n",
    "            if chr(k) == 'q' or k == 27:\n",
    "                break\n",
    "            elif chr(k) == 'r':\n",
    "                self.img_copy = self.img.copy()\n",
    "                self.mask = np.zeros(self.img.shape[:2], dtype=np.uint8)\n",
    "            elif chr(k) == 'p':\n",
    "                dst = cv2.inpaint(self.img, self.mask, 5, cv2.INPAINT_TELEA)\n",
    "                cv2.imshow('output', dst)\n",
    "        cv2.destroyAllWindows()                                                       \n",
    "                \n",
    "App().run()  "
   ]
  }
 ],
 "metadata": {
  "kernelspec": {
   "display_name": "Python 3",
   "language": "python",
   "name": "python3"
  },
  "language_info": {
   "codemirror_mode": {
    "name": "ipython",
    "version": 3
   },
   "file_extension": ".py",
   "mimetype": "text/x-python",
   "name": "python",
   "nbconvert_exporter": "python",
   "pygments_lexer": "ipython3",
   "version": "3.6.8"
  },
  "toc": {
   "base_numbering": 1,
   "nav_menu": {},
   "number_sections": true,
   "sideBar": true,
   "skip_h1_title": false,
   "title_cell": "Table of Contents",
   "title_sidebar": "Contents",
   "toc_cell": false,
   "toc_position": {},
   "toc_section_display": true,
   "toc_window_display": false
  }
 },
 "nbformat": 4,
 "nbformat_minor": 4
}
