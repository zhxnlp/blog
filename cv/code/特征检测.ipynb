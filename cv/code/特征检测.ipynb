{
 "cells": [
  {
   "cell_type": "code",
   "execution_count": 2,
   "metadata": {},
   "outputs": [
    {
     "data": {
      "text/plain": [
       "\u001b[1;31mDocstring:\u001b[0m\n",
       "cornerHarris(src, blockSize, ksize, k[, dst[, borderType]]) -> dst\n",
       ".   @brief Harris corner detector.\n",
       ".   \n",
       ".   The function runs the Harris corner detector on the image. Similarly to cornerMinEigenVal and\n",
       ".   cornerEigenValsAndVecs , for each pixel \\f$(x, y)\\f$ it calculates a \\f$2\\times2\\f$ gradient covariance\n",
       ".   matrix \\f$M^{(x,y)}\\f$ over a \\f$\\texttt{blockSize} \\times \\texttt{blockSize}\\f$ neighborhood. Then, it\n",
       ".   computes the following characteristic:\n",
       ".   \n",
       ".   \\f[\\texttt{dst} (x,y) =  \\mathrm{det} M^{(x,y)} - k  \\cdot \\left ( \\mathrm{tr} M^{(x,y)} \\right )^2\\f]\n",
       ".   \n",
       ".   Corners in the image can be found as the local maxima of this response map.\n",
       ".   \n",
       ".   @param src Input single-channel 8-bit or floating-point image.\n",
       ".   @param dst Image to store the Harris detector responses. It has the type CV_32FC1 and the same\n",
       ".   size as src .\n",
       ".   @param blockSize Neighborhood size (see the details on #cornerEigenValsAndVecs ).\n",
       ".   @param ksize Aperture parameter for the Sobel operator.\n",
       ".   @param k Harris detector free parameter. See the formula above.\n",
       ".   @param borderType Pixel extrapolation method. See #BorderTypes. #BORDER_WRAP is not supported.\n",
       "\u001b[1;31mType:\u001b[0m      builtin_function_or_method"
      ]
     },
     "metadata": {},
     "output_type": "display_data"
    }
   ],
   "source": [
    "cv2.cornerHarris??"
   ]
  },
  {
   "cell_type": "code",
   "execution_count": 2,
   "metadata": {
    "ExecuteTime": {
     "end_time": "2021-12-03T12:13:05.348541Z",
     "start_time": "2021-12-03T12:13:00.450552Z"
    }
   },
   "outputs": [],
   "source": [
    "import cv2\n",
    "import numpy as np\n",
    "\n",
    "img = cv2.imread('./chess.png')\n",
    "\n",
    "# 变成灰度图片\n",
    "gray = cv2.cvtColor(img, cv2.COLOR_BGR2GRAY)\n",
    "\n",
    "# 角点检测\n",
    "# blockSize没有要求必须是奇数\n",
    "# 返回角点响应, 每一个像素都可以计算出一个角点响应.\n",
    "dst = cv2.cornerHarris(gray, blockSize=2, ksize=3, k=0.04)\n",
    "# print(gray.shape)\n",
    "# print(dst)\n",
    "# print(dst.shape)\n",
    "# print(type(dst))\n",
    "\n",
    "# 显示角点\n",
    "# 设定阈值, dst.max()\n",
    "img[dst > (0.01 * dst.max())] = [0, 0, 255]\n",
    "\n",
    "cv2.imshow('SIFT', img)\n",
    "\n",
    "cv2.waitKey(0)\n",
    "cv2.destroyAllWindows()"
   ]
  },
  {
   "cell_type": "code",
   "execution_count": null,
   "metadata": {},
   "outputs": [],
   "source": []
  }
 ],
 "metadata": {
  "kernelspec": {
   "display_name": "Python 3 (ipykernel)",
   "language": "python",
   "name": "python3"
  },
  "language_info": {
   "codemirror_mode": {
    "name": "ipython",
    "version": 3
   },
   "file_extension": ".py",
   "mimetype": "text/x-python",
   "name": "python",
   "nbconvert_exporter": "python",
   "pygments_lexer": "ipython3",
   "version": "3.11.4"
  },
  "toc": {
   "base_numbering": 1,
   "nav_menu": {},
   "number_sections": true,
   "sideBar": true,
   "skip_h1_title": false,
   "title_cell": "Table of Contents",
   "title_sidebar": "Contents",
   "toc_cell": false,
   "toc_position": {},
   "toc_section_display": true,
   "toc_window_display": false
  }
 },
 "nbformat": 4,
 "nbformat_minor": 4
}
